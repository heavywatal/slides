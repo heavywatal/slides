{
 "cells": [
  {
   "cell_type": "markdown",
   "metadata": {},
   "source": [
    "# 統計モデリング概論 DSHC 2024\n",
    "\n",
    "岩嵜 航 (Watal M. Iwasaki, PhD)<br>\n",
    "東北大学 生命科学研究科 進化ゲノミクス分野 特任助教\n",
    "\n",
    "2024-08-28 東京海上 Data Science Hill Climb<br>\n",
    "https://heavywatal.github.io/slides/tokiomarine2024/\n",
    "\n",
    "# StanでベイジアンGLM\n",
    "\n",
    "## 環境セットアップ\n",
    "\n",
    "Google Colab の場合はインストールから:\n",
    "```py\n",
    "%pip install 'matplotlib>=3.9' 'seaborn>=0.13' 'statsmodels>=0.14'\n",
    "%pip install 'arviz>=0.19' 'cmdstanpy>=1.2.4'\n",
    "import cmdstanpy\n",
    "cmdstanpy.install_cmdstan()\n",
    "```"
   ]
  },
  {
   "cell_type": "code",
   "execution_count": null,
   "metadata": {},
   "outputs": [],
   "source": [
    "%matplotlib inline\n",
    "\n",
    "import arviz as az\n",
    "import matplotlib.pyplot as plt\n",
    "import numpy as np\n",
    "import pandas as pd\n",
    "import seaborn as sns\n",
    "import statsmodels.api as sm\n",
    "from cmdstanpy import CmdStanModel\n",
    "from scipy import special\n",
    "\n",
    "rng = np.random.default_rng(seed=24601)"
   ]
  },
  {
   "cell_type": "markdown",
   "metadata": {
    "lines_to_next_cell": 0
   },
   "source": [
    "\n",
    "## Stanで直線回帰\n"
   ]
  },
  {
   "cell_type": "code",
   "execution_count": null,
   "metadata": {
    "lines_to_next_cell": 0
   },
   "outputs": [],
   "source": [
    "sample_size = 300\n",
    "true_intercept = -3\n",
    "true_coef = 3\n",
    "x = rng.uniform(0.4, 1.7, sample_size)\n",
    "lambda_ = np.exp(true_intercept + true_coef * x)\n",
    "y = rng.poisson(lambda_)\n",
    "df_pois = pd.DataFrame({\"x\": x, \"y\": y})\n",
    "print(df_pois)"
   ]
  },
  {
   "cell_type": "code",
   "execution_count": null,
   "metadata": {
    "lines_to_next_cell": 0
   },
   "outputs": [],
   "source": [
    "grid = sns.FacetGrid(df_pois)\n",
    "grid.map(sns.scatterplot, \"x\", \"y\")"
   ]
  },
  {
   "cell_type": "markdown",
   "metadata": {
    "lines_to_next_cell": 0
   },
   "source": [
    "stanに渡せるdict形式に加工"
   ]
  },
  {
   "cell_type": "code",
   "execution_count": null,
   "metadata": {
    "lines_to_next_cell": 0
   },
   "outputs": [],
   "source": [
    "mydata = {\"N\": sample_size}\n",
    "mydata.update(df_pois.to_dict(\"list\"))\n",
    "# print(mydata)"
   ]
  },
  {
   "cell_type": "markdown",
   "metadata": {
    "lines_to_next_cell": 0
   },
   "source": [
    "### モデルのコンパイル\n",
    "スライドにあるコードを `lm.stan` というファイルに保存しておき、読み込む。"
   ]
  },
  {
   "cell_type": "code",
   "execution_count": null,
   "metadata": {},
   "outputs": [],
   "source": [
    "model = CmdStanModel(stan_file=\"stan/lm.stan\")"
   ]
  },
  {
   "cell_type": "markdown",
   "metadata": {
    "lines_to_next_cell": 0
   },
   "source": [
    "### MCMCサンプル"
   ]
  },
  {
   "cell_type": "code",
   "execution_count": null,
   "metadata": {},
   "outputs": [],
   "source": [
    "fit = model.sample(mydata, chains=4, iter_sampling=2000)"
   ]
  },
  {
   "cell_type": "markdown",
   "metadata": {
    "lines_to_next_cell": 0
   },
   "source": [
    "### 結果の確認\n",
    "結果はchainごとにファイル出力されているらしい。"
   ]
  },
  {
   "cell_type": "code",
   "execution_count": null,
   "metadata": {},
   "outputs": [],
   "source": [
    "print(fit)"
   ]
  },
  {
   "cell_type": "markdown",
   "metadata": {
    "lines_to_next_cell": 0
   },
   "source": [
    "`numpy.ndarray` 型か `pandas.DataFrame` 型で全部参照できる。\n",
    "が、生の値を見たところであまりよくわからない。"
   ]
  },
  {
   "cell_type": "code",
   "execution_count": null,
   "metadata": {
    "lines_to_next_cell": 0
   },
   "outputs": [],
   "source": [
    "print(fit.draws().shape)  # Array"
   ]
  },
  {
   "cell_type": "code",
   "execution_count": null,
   "metadata": {},
   "outputs": [],
   "source": [
    "print(fit.draws_pd())  # DataFrame"
   ]
  },
  {
   "cell_type": "markdown",
   "metadata": {
    "lines_to_next_cell": 0
   },
   "source": [
    "推定結果の要約と収束診断"
   ]
  },
  {
   "cell_type": "code",
   "execution_count": null,
   "metadata": {
    "lines_to_next_cell": 0
   },
   "outputs": [],
   "source": [
    "fit.summary()"
   ]
  },
  {
   "cell_type": "code",
   "execution_count": null,
   "metadata": {},
   "outputs": [],
   "source": [
    "print(fit.diagnose())"
   ]
  },
  {
   "cell_type": "markdown",
   "metadata": {
    "lines_to_next_cell": 0
   },
   "source": [
    "トレースプロット確認"
   ]
  },
  {
   "cell_type": "code",
   "execution_count": null,
   "metadata": {},
   "outputs": [],
   "source": [
    "stan_data = az.from_cmdstanpy(fit)\n",
    "az.plot_trace(stan_data)"
   ]
  },
  {
   "cell_type": "markdown",
   "metadata": {
    "lines_to_next_cell": 0
   },
   "source": [
    "推定結果の事後分布を確認"
   ]
  },
  {
   "cell_type": "code",
   "execution_count": null,
   "metadata": {},
   "outputs": [],
   "source": [
    "az.plot_posterior(stan_data)"
   ]
  },
  {
   "cell_type": "markdown",
   "metadata": {
    "lines_to_next_cell": 0
   },
   "source": [
    "推定結果を使って回帰直線を作図"
   ]
  },
  {
   "cell_type": "code",
   "execution_count": null,
   "metadata": {
    "lines_to_next_cell": 0
   },
   "outputs": [],
   "source": [
    "post_mean = stan_data.posterior.mean().to_pandas()\n",
    "print(post_mean)"
   ]
  },
  {
   "cell_type": "code",
   "execution_count": null,
   "metadata": {},
   "outputs": [],
   "source": [
    "df_pred = df_pois.assign(pred=post_mean[\"intercept\"] + post_mean[\"slope\"] * df_pois.x)\n",
    "grid = sns.FacetGrid(df_pred)\n",
    "grid.map(sns.scatterplot, \"x\", \"y\")\n",
    "grid.map(sns.lineplot, \"x\", \"pred\")"
   ]
  },
  {
   "cell_type": "markdown",
   "metadata": {},
   "source": [
    "95%確信区間などを得たい場合は\n",
    "`generated quantities` ブロックにサンプリング文を書き、\n",
    "できあがりの `draws` から抜き出す。\n",
    "\n",
    "----\n",
    "\n",
    "## Stanでポアソン回帰"
   ]
  },
  {
   "cell_type": "code",
   "execution_count": null,
   "metadata": {
    "lines_to_next_cell": 0
   },
   "outputs": [],
   "source": [
    "model = CmdStanModel(stan_file=\"stan/poisson.stan\")"
   ]
  },
  {
   "cell_type": "code",
   "execution_count": null,
   "metadata": {
    "lines_to_next_cell": 0
   },
   "outputs": [],
   "source": [
    "fit = model.sample(mydata, chains=4, iter_sampling=2000)"
   ]
  },
  {
   "cell_type": "code",
   "execution_count": null,
   "metadata": {
    "lines_to_next_cell": 0
   },
   "outputs": [],
   "source": [
    "fit.summary()"
   ]
  },
  {
   "cell_type": "code",
   "execution_count": null,
   "metadata": {
    "lines_to_next_cell": 0
   },
   "outputs": [],
   "source": [
    "print(fit.diagnose())"
   ]
  },
  {
   "cell_type": "code",
   "execution_count": null,
   "metadata": {
    "lines_to_next_cell": 0
   },
   "outputs": [],
   "source": [
    "stan_data = az.from_cmdstanpy(fit, observed_data=mydata)\n",
    "az.plot_trace(stan_data)"
   ]
  },
  {
   "cell_type": "code",
   "execution_count": null,
   "metadata": {
    "lines_to_next_cell": 0
   },
   "outputs": [],
   "source": [
    "az.plot_posterior(stan_data)"
   ]
  },
  {
   "cell_type": "code",
   "execution_count": null,
   "metadata": {
    "lines_to_next_cell": 0
   },
   "outputs": [],
   "source": [
    "post_mean = stan_data.posterior.mean().to_pandas()\n",
    "print(post_mean)"
   ]
  },
  {
   "cell_type": "code",
   "execution_count": null,
   "metadata": {
    "lines_to_next_cell": 2
   },
   "outputs": [],
   "source": [
    "linear = post_mean[\"intercept\"] + post_mean[\"slope\"] * df_pois.x\n",
    "df_pred = df_pois.assign(pred=np.exp(linear))\n",
    "grid = sns.FacetGrid(df_pred)\n",
    "grid.map(sns.scatterplot, \"x\", \"y\")\n",
    "grid.map(sns.lineplot, \"x\", \"pred\")\n",
    "grid.add_legend()"
   ]
  },
  {
   "cell_type": "markdown",
   "metadata": {
    "lines_to_next_cell": 0
   },
   "source": [
    "----\n",
    "## Stanでロジスティック回帰\n"
   ]
  },
  {
   "cell_type": "code",
   "execution_count": null,
   "metadata": {
    "lines_to_next_cell": 0
   },
   "outputs": [],
   "source": [
    "n_trials = 10\n",
    "true_intercept = -3\n",
    "true_coef = 0.3\n",
    "sample_size = 200\n",
    "# Generate random numbers\n",
    "temperature = rng.uniform(-10, 35, sample_size)\n",
    "logit_p = true_intercept + true_coef * temperature\n",
    "p = special.expit(logit_p)\n",
    "beer_sales = rng.binomial(n_trials, p, sample_size)\n",
    "_dic = {\n",
    "    \"temperature\": temperature,\n",
    "    \"beer_sales\": beer_sales,\n",
    "    \"failures\": n_trials - beer_sales,\n",
    "}\n",
    "df_logistic = pd.DataFrame(_dic)\n",
    "print(df_logistic)"
   ]
  },
  {
   "cell_type": "code",
   "execution_count": null,
   "metadata": {
    "lines_to_next_cell": 0
   },
   "outputs": [],
   "source": [
    "grid = sns.FacetGrid(df_logistic)\n",
    "grid.map(sns.scatterplot, \"temperature\", \"beer_sales\")"
   ]
  },
  {
   "cell_type": "code",
   "execution_count": null,
   "metadata": {
    "lines_to_next_cell": 0
   },
   "outputs": [],
   "source": [
    "logistic_data = {\"N\": sample_size, \"n_trials\": n_trials}\n",
    "logistic_data.update(df_logistic.to_dict(\"list\"))"
   ]
  },
  {
   "cell_type": "code",
   "execution_count": null,
   "metadata": {},
   "outputs": [],
   "source": [
    "model = CmdStanModel(stan_file=\"stan/logistic.stan\")"
   ]
  },
  {
   "cell_type": "code",
   "execution_count": null,
   "metadata": {},
   "outputs": [],
   "source": [
    "fit = model.sample(logistic_data, chains=4, iter_sampling=2000)\n",
    "fit.summary()\n",
    "print(fit.diagnose())"
   ]
  },
  {
   "cell_type": "code",
   "execution_count": null,
   "metadata": {
    "lines_to_next_cell": 0
   },
   "outputs": [],
   "source": [
    "stan_data = az.from_cmdstanpy(fit, observed_data=logistic_data)"
   ]
  },
  {
   "cell_type": "code",
   "execution_count": null,
   "metadata": {
    "lines_to_next_cell": 0
   },
   "outputs": [],
   "source": [
    "az.plot_trace(stan_data)"
   ]
  },
  {
   "cell_type": "code",
   "execution_count": null,
   "metadata": {
    "lines_to_next_cell": 0
   },
   "outputs": [],
   "source": [
    "az.plot_posterior(stan_data)"
   ]
  },
  {
   "cell_type": "code",
   "execution_count": null,
   "metadata": {},
   "outputs": [],
   "source": [
    "post_mean = stan_data.posterior.mean().to_pandas()\n",
    "linear = post_mean[\"intercept\"] + post_mean[\"slope\"] * df_logistic[\"temperature\"]\n",
    "df_pred = df_logistic.assign(pred=n_trials * special.expit(linear))\n",
    "grid = sns.FacetGrid(df_pred)\n",
    "grid.map(sns.scatterplot, \"temperature\", \"beer_sales\")\n",
    "grid.map(sns.lineplot, \"temperature\", \"pred\")\n",
    "grid.add_legend()"
   ]
  },
  {
   "cell_type": "markdown",
   "metadata": {
    "lines_to_next_cell": 0
   },
   "source": [
    "---\n",
    "## 重回帰: 複数の説明変数を同時に扱う\n",
    "ビールの注文数が気温と湿度の両方に依存して増加するデータを作る。"
   ]
  },
  {
   "cell_type": "code",
   "execution_count": null,
   "metadata": {
    "lines_to_next_cell": 0
   },
   "outputs": [],
   "source": [
    "sample_size = 200\n",
    "true_intercept = 3\n",
    "true_coefs = {\"temperature\": 0.05, \"humidity\": 0.006}\n",
    "temperature = rng.uniform(8, 32, sample_size)\n",
    "humidity = rng.uniform(20, 80, sample_size)\n",
    "lambda_ = np.exp(\n",
    "    true_intercept\n",
    "    + true_coefs[\"temperature\"] * temperature\n",
    "    + true_coefs[\"humidity\"] * humidity\n",
    ")\n",
    "beer_sales = rng.poisson(lambda_)\n",
    "_dic = {\n",
    "    \"temperature\": temperature,\n",
    "    \"humidity\": humidity,\n",
    "    \"beer_sales\": beer_sales,\n",
    "}\n",
    "df_mul = pd.DataFrame(_dic)\n",
    "print(df_mul)"
   ]
  },
  {
   "cell_type": "code",
   "execution_count": null,
   "metadata": {
    "lines_to_next_cell": 0
   },
   "outputs": [],
   "source": [
    "fig, ax = plt.subplots(ncols=2)\n",
    "sns.scatterplot(x=\"temperature\", y=\"beer_sales\", hue=\"humidity\", data=df_mul, ax=ax[0])\n",
    "sns.scatterplot(x=\"humidity\", y=\"beer_sales\", hue=\"temperature\", data=df_mul, ax=ax[1])"
   ]
  },
  {
   "cell_type": "code",
   "execution_count": null,
   "metadata": {
    "lines_to_next_cell": 0
   },
   "outputs": [],
   "source": [
    "multiple_data = {\"N\": sample_size}\n",
    "multiple_data.update(df_mul.to_dict(\"list\"))"
   ]
  },
  {
   "cell_type": "code",
   "execution_count": null,
   "metadata": {
    "lines_to_next_cell": 0
   },
   "outputs": [],
   "source": [
    "model = CmdStanModel(stan_file=\"stan/multiple.stan\")"
   ]
  },
  {
   "cell_type": "code",
   "execution_count": null,
   "metadata": {
    "lines_to_next_cell": 0
   },
   "outputs": [],
   "source": [
    "fit = model.sample(multiple_data, chains=4, iter_sampling=2000)\n",
    "fit.summary()\n",
    "print(fit.diagnose())"
   ]
  },
  {
   "cell_type": "code",
   "execution_count": null,
   "metadata": {
    "lines_to_next_cell": 0
   },
   "outputs": [],
   "source": [
    "stan_data = az.from_cmdstanpy(fit, observed_data=multiple_data)"
   ]
  },
  {
   "cell_type": "code",
   "execution_count": null,
   "metadata": {
    "lines_to_next_cell": 0
   },
   "outputs": [],
   "source": [
    "az.plot_trace(stan_data)"
   ]
  },
  {
   "cell_type": "code",
   "execution_count": null,
   "metadata": {
    "lines_to_next_cell": 0
   },
   "outputs": [],
   "source": [
    "az.plot_posterior(stan_data)"
   ]
  },
  {
   "cell_type": "code",
   "execution_count": null,
   "metadata": {},
   "outputs": [],
   "source": [
    "from itertools import product\n",
    "\n",
    "post_mean = stan_data.posterior.mean().to_pandas()\n",
    "it = product(range(8, 33, 4), range(20, 90, 10))\n",
    "df_pred = pd.DataFrame(list(it), columns=[\"temperature\", \"humidity\"])\n",
    "df_pred = df_pred.assign(\n",
    "    pred=np.exp(\n",
    "        post_mean[\"intercept\"]\n",
    "        + post_mean[\"coef_t\"] * df_pred[\"temperature\"]\n",
    "        + post_mean[\"coef_h\"] * df_pred[\"humidity\"]\n",
    "    )\n",
    ")\n",
    "fig, ax = plt.subplots(ncols=2)\n",
    "sns.scatterplot(x=\"temperature\", y=\"beer_sales\", hue=\"humidity\", data=df_mul, ax=ax[0])\n",
    "sns.lineplot(x=\"temperature\", y=\"pred\", hue=\"humidity\", data=df_pred, ax=ax[0])\n",
    "sns.scatterplot(x=\"humidity\", y=\"beer_sales\", hue=\"temperature\", data=df_mul, ax=ax[1])\n",
    "sns.lineplot(x=\"humidity\", y=\"pred\", hue=\"temperature\", data=df_pred, ax=ax[1])"
   ]
  },
  {
   "cell_type": "markdown",
   "metadata": {
    "lines_to_next_cell": 0
   },
   "source": [
    "---\n",
    "## 分散分析: GLM with 質的(カテゴリカル)変数\n"
   ]
  },
  {
   "cell_type": "code",
   "execution_count": null,
   "metadata": {
    "lines_to_next_cell": 0,
    "title": "Parameters"
   },
   "outputs": [],
   "source": [
    "sample_size = 200\n",
    "true_intercept = 70\n",
    "true_coefs = {\"temp\": 3, \"sunny\": 20, \"rainy\": -20}\n",
    "sd = 10\n",
    "weather_levels = [\"cloudy\", \"sunny\", \"rainy\"]"
   ]
  },
  {
   "cell_type": "code",
   "execution_count": null,
   "metadata": {
    "lines_to_next_cell": 0
   },
   "outputs": [],
   "source": [
    "weather = rng.choice(weather_levels, sample_size, replace=True)\n",
    "_dic = {\n",
    "    \"temperature\": rng.uniform(8, 32, sample_size),\n",
    "    \"weather\": pd.Categorical(weather, categories=weather_levels),\n",
    "}\n",
    "_df = pd.DataFrame(_dic)\n",
    "\n",
    "df_aov = (\n",
    "    _df.join(pd.get_dummies(_df[\"weather\"], dtype=int))\n",
    "    .drop(\"cloudy\", axis=1)\n",
    "    .assign(\n",
    "        mu=lambda _: true_intercept\n",
    "        + true_coefs[\"temp\"] * _[\"temperature\"]\n",
    "        + true_coefs[\"sunny\"] * _[\"sunny\"]\n",
    "        + true_coefs[\"rainy\"] * _[\"rainy\"]\n",
    "    )\n",
    "    .assign(beer_sales=lambda _: rng.normal(_[\"mu\"], sd))\n",
    ")\n",
    "print(df_aov)"
   ]
  },
  {
   "cell_type": "code",
   "execution_count": null,
   "metadata": {
    "lines_to_next_cell": 0
   },
   "outputs": [],
   "source": [
    "grid = sns.FacetGrid(df_aov, hue=\"weather\")\n",
    "grid.map(sns.scatterplot, \"weather\", \"beer_sales\", alpha=0.6)"
   ]
  },
  {
   "cell_type": "code",
   "execution_count": null,
   "metadata": {
    "lines_to_next_cell": 0
   },
   "outputs": [],
   "source": [
    "mydata = {\"N\": sample_size}\n",
    "mydata.update(df_aov.to_dict(\"list\"))\n",
    "del mydata[\"weather\"]"
   ]
  },
  {
   "cell_type": "code",
   "execution_count": null,
   "metadata": {
    "lines_to_next_cell": 0
   },
   "outputs": [],
   "source": [
    "model = CmdStanModel(stan_file=\"stan/anova.stan\")"
   ]
  },
  {
   "cell_type": "code",
   "execution_count": null,
   "metadata": {
    "lines_to_next_cell": 0
   },
   "outputs": [],
   "source": [
    "fit = model.sample(mydata, chains=4, iter_sampling=2000)\n",
    "fit.summary()\n",
    "print(fit.diagnose())"
   ]
  },
  {
   "cell_type": "code",
   "execution_count": null,
   "metadata": {
    "lines_to_next_cell": 0
   },
   "outputs": [],
   "source": [
    "stan_data = az.from_cmdstanpy(fit, observed_data=mydata)"
   ]
  },
  {
   "cell_type": "code",
   "execution_count": null,
   "metadata": {
    "lines_to_next_cell": 0
   },
   "outputs": [],
   "source": [
    "az.plot_trace(stan_data)"
   ]
  },
  {
   "cell_type": "code",
   "execution_count": null,
   "metadata": {},
   "outputs": [],
   "source": [
    "az.plot_posterior(stan_data)"
   ]
  },
  {
   "cell_type": "code",
   "execution_count": null,
   "metadata": {
    "lines_to_next_cell": 0
   },
   "outputs": [],
   "source": [
    "post_mean = stan_data.posterior.mean().to_pandas()\n",
    "df_pred = df_aov.assign(\n",
    "    pred=post_mean[\"intercept\"]\n",
    "    + post_mean[\"coef_s\"] * df_aov[\"sunny\"]\n",
    "    + post_mean[\"coef_r\"] * df_aov[\"rainy\"]\n",
    ")"
   ]
  },
  {
   "cell_type": "code",
   "execution_count": null,
   "metadata": {},
   "outputs": [],
   "source": [
    "grid = sns.FacetGrid(df_pred, hue=\"weather\")\n",
    "grid.map(sns.scatterplot, \"weather\", \"beer_sales\", alpha=0.6)\n",
    "grid.map(sns.scatterplot, \"weather\", \"pred\", color=\"black\", marker=\"x\", s=120)"
   ]
  },
  {
   "cell_type": "markdown",
   "metadata": {
    "lines_to_next_cell": 0
   },
   "source": [
    "## 共分散分析: GLM with 質的変数 + 量的変数\n"
   ]
  },
  {
   "cell_type": "code",
   "execution_count": null,
   "metadata": {
    "lines_to_next_cell": 0
   },
   "outputs": [],
   "source": [
    "model = CmdStanModel(stan_file=\"stan/ancova.stan\")"
   ]
  },
  {
   "cell_type": "code",
   "execution_count": null,
   "metadata": {
    "lines_to_next_cell": 0
   },
   "outputs": [],
   "source": [
    "fit = model.sample(mydata, chains=4, iter_sampling=2000)\n",
    "fit.summary()\n",
    "print(fit.diagnose())"
   ]
  },
  {
   "cell_type": "code",
   "execution_count": null,
   "metadata": {
    "lines_to_next_cell": 0
   },
   "outputs": [],
   "source": [
    "stan_data = az.from_cmdstanpy(fit, observed_data=mydata)"
   ]
  },
  {
   "cell_type": "code",
   "execution_count": null,
   "metadata": {
    "lines_to_next_cell": 0
   },
   "outputs": [],
   "source": [
    "az.plot_trace(stan_data)"
   ]
  },
  {
   "cell_type": "code",
   "execution_count": null,
   "metadata": {
    "lines_to_next_cell": 0
   },
   "outputs": [],
   "source": [
    "az.plot_posterior(stan_data)"
   ]
  },
  {
   "cell_type": "code",
   "execution_count": null,
   "metadata": {
    "lines_to_next_cell": 0
   },
   "outputs": [],
   "source": [
    "post_mean = stan_data.posterior.mean().to_pandas()\n",
    "df_pred = df_aov.assign(\n",
    "    pred=post_mean[\"intercept\"]\n",
    "    + post_mean[\"coef_s\"] * df_aov[\"sunny\"]\n",
    "    + post_mean[\"coef_r\"] * df_aov[\"rainy\"]\n",
    "    + post_mean[\"coef_t\"] * df_aov[\"temperature\"]\n",
    ")"
   ]
  },
  {
   "cell_type": "code",
   "execution_count": null,
   "metadata": {
    "lines_to_next_cell": 2
   },
   "outputs": [],
   "source": [
    "grid = sns.FacetGrid(df_pred, hue=\"weather\")\n",
    "grid.map(sns.scatterplot, \"temperature\", \"beer_sales\", alpha=0.6)\n",
    "grid.map(sns.lineplot, \"temperature\", \"pred\")\n",
    "grid.add_legend()"
   ]
  },
  {
   "cell_type": "markdown",
   "metadata": {
    "lines_to_next_cell": 0
   },
   "source": [
    "\n",
    "---\n",
    "\n",
    "## Stanでpenguins単回帰"
   ]
  },
  {
   "cell_type": "code",
   "execution_count": null,
   "metadata": {},
   "outputs": [],
   "source": [
    "penguins = sm.datasets.get_rdataset(\"penguins\", \"palmerpenguins\", cache=True).data\n",
    "penguins_dropna = penguins.dropna()\n",
    "print(penguins_dropna)\n",
    "pen_data = {\n",
    "    \"N\": penguins_dropna.shape[0],\n",
    "    \"body_mass_g\": penguins_dropna[\"body_mass_g\"],\n",
    "    \"flipper_length_mm\": penguins_dropna[\"flipper_length_mm\"],\n",
    "}"
   ]
  },
  {
   "cell_type": "markdown",
   "metadata": {
    "lines_to_next_cell": 0
   },
   "source": [
    "### モデルの定義"
   ]
  },
  {
   "cell_type": "code",
   "execution_count": null,
   "metadata": {},
   "outputs": [],
   "source": [
    "model = CmdStanModel(stan_file=\"stan/penguins-lm.stan\")"
   ]
  },
  {
   "cell_type": "markdown",
   "metadata": {
    "lines_to_next_cell": 0
   },
   "source": [
    "### MCMCサンプル"
   ]
  },
  {
   "cell_type": "code",
   "execution_count": null,
   "metadata": {},
   "outputs": [],
   "source": [
    "fit = model.sample(pen_data, chains=4, iter_sampling=2000)"
   ]
  },
  {
   "cell_type": "markdown",
   "metadata": {
    "lines_to_next_cell": 0
   },
   "source": [
    "### 推定結果の要約と収束診断"
   ]
  },
  {
   "cell_type": "code",
   "execution_count": null,
   "metadata": {
    "lines_to_next_cell": 0
   },
   "outputs": [],
   "source": [
    "fit.summary()"
   ]
  },
  {
   "cell_type": "code",
   "execution_count": null,
   "metadata": {},
   "outputs": [],
   "source": [
    "print(fit.diagnose())"
   ]
  },
  {
   "cell_type": "markdown",
   "metadata": {
    "lines_to_next_cell": 0
   },
   "source": [
    "### トレースプロット確認\n",
    "分布はきれいなひと山、軌跡はきれいな毛虫"
   ]
  },
  {
   "cell_type": "code",
   "execution_count": null,
   "metadata": {},
   "outputs": [],
   "source": [
    "stan_data = az.from_cmdstanpy(fit, observed_data=pen_data)\n",
    "az.plot_trace(stan_data)"
   ]
  },
  {
   "cell_type": "markdown",
   "metadata": {
    "lines_to_next_cell": 0
   },
   "source": [
    "\n",
    "### 推定結果の事後分布を確認\n",
    "- 点推定: 事後分布平均\n",
    "- 区間推定: HDI(Highest Density Interval)"
   ]
  },
  {
   "cell_type": "code",
   "execution_count": null,
   "metadata": {},
   "outputs": [],
   "source": [
    "az.plot_posterior(stan_data)"
   ]
  },
  {
   "cell_type": "markdown",
   "metadata": {
    "lines_to_next_cell": 0
   },
   "source": [
    "事後分布の平均を使って回帰線を引いてみる。"
   ]
  },
  {
   "cell_type": "code",
   "execution_count": null,
   "metadata": {},
   "outputs": [],
   "source": [
    "post_mean = stan_data.posterior.mean().to_pandas()"
   ]
  },
  {
   "cell_type": "code",
   "execution_count": null,
   "metadata": {},
   "outputs": [],
   "source": [
    "pen_pred = penguins.assign(\n",
    "    pred=post_mean[\"intercept\"] + penguins_dropna.body_mass_g * post_mean[\"slope\"]\n",
    ")\n",
    "grid = sns.FacetGrid(pen_pred)\n",
    "grid.map(sns.scatterplot, \"body_mass_g\", \"flipper_length_mm\")\n",
    "grid.map(sns.lineplot, \"body_mass_g\", \"pred\")"
   ]
  },
  {
   "cell_type": "markdown",
   "metadata": {
    "lines_to_next_cell": 0
   },
   "source": [
    "----\n",
    "\n",
    "## Stanでpenguins重回帰\n",
    "\n",
    "### データ準備"
   ]
  },
  {
   "cell_type": "code",
   "execution_count": null,
   "metadata": {},
   "outputs": [],
   "source": [
    "penguins_sp = penguins_dropna.assign(\n",
    "    sp_Chinstrap=(penguins_dropna.species == \"Chinstrap\").astype(int)\n",
    ").assign(sp_Gentoo=(penguins_dropna.species == \"Gentoo\").astype(int))\n",
    "pen_sp_data = {\n",
    "    \"N\": penguins_sp.shape[0],\n",
    "    \"body_mass_g\": penguins_sp[\"body_mass_g\"],\n",
    "    \"flipper_length_mm\": penguins_sp[\"flipper_length_mm\"],\n",
    "    \"sp_Chinstrap\": penguins_sp[\"sp_Chinstrap\"],\n",
    "    \"sp_Gentoo\": penguins_sp[\"sp_Gentoo\"],\n",
    "}"
   ]
  },
  {
   "cell_type": "markdown",
   "metadata": {
    "lines_to_next_cell": 0
   },
   "source": [
    "### モデルの定義"
   ]
  },
  {
   "cell_type": "code",
   "execution_count": null,
   "metadata": {},
   "outputs": [],
   "source": [
    "model = CmdStanModel(stan_file=\"stan/penguins-multiple.stan\")"
   ]
  },
  {
   "cell_type": "markdown",
   "metadata": {
    "lines_to_next_cell": 0
   },
   "source": [
    "### MCMCサンプル"
   ]
  },
  {
   "cell_type": "code",
   "execution_count": null,
   "metadata": {},
   "outputs": [],
   "source": [
    "fit = model.sample(pen_sp_data, chains=4, iter_sampling=2000)"
   ]
  },
  {
   "cell_type": "markdown",
   "metadata": {
    "lines_to_next_cell": 0
   },
   "source": [
    "### 推定結果の要約と収束診断"
   ]
  },
  {
   "cell_type": "code",
   "execution_count": null,
   "metadata": {
    "lines_to_next_cell": 0
   },
   "outputs": [],
   "source": [
    "fit.summary()"
   ]
  },
  {
   "cell_type": "code",
   "execution_count": null,
   "metadata": {},
   "outputs": [],
   "source": [
    "print(fit.diagnose())"
   ]
  },
  {
   "cell_type": "markdown",
   "metadata": {
    "lines_to_next_cell": 0
   },
   "source": [
    "### トレースプロット確認\n",
    "分布はきれいなひと山、軌跡はきれいな毛虫"
   ]
  },
  {
   "cell_type": "code",
   "execution_count": null,
   "metadata": {},
   "outputs": [],
   "source": [
    "stan_data = az.from_cmdstanpy(fit, observed_data=pen_sp_data)\n",
    "az.plot_trace(stan_data)"
   ]
  },
  {
   "cell_type": "markdown",
   "metadata": {
    "lines_to_next_cell": 0
   },
   "source": [
    "\n",
    "### 推定結果の事後分布を確認\n",
    "- 点推定: 事後分布平均\n",
    "- 区間推定: HDI(Highest Density Interval)"
   ]
  },
  {
   "cell_type": "code",
   "execution_count": null,
   "metadata": {},
   "outputs": [],
   "source": [
    "az.plot_posterior(stan_data)"
   ]
  },
  {
   "cell_type": "markdown",
   "metadata": {
    "lines_to_next_cell": 0
   },
   "source": [
    "事後分布の平均を使って回帰線を引いてみる。"
   ]
  },
  {
   "cell_type": "code",
   "execution_count": null,
   "metadata": {},
   "outputs": [],
   "source": [
    "post_mean = stan_data.posterior.mean().to_pandas()"
   ]
  },
  {
   "cell_type": "code",
   "execution_count": null,
   "metadata": {},
   "outputs": [],
   "source": [
    "pen_pred = penguins_sp.assign(\n",
    "    pred=post_mean[\"intercept\"]\n",
    "    + penguins_sp[\"body_mass_g\"] * post_mean[\"slope\"]\n",
    "    + penguins_sp[\"sp_Chinstrap\"] * post_mean[\"b_chinstrap\"]\n",
    "    + penguins_sp[\"sp_Gentoo\"] * post_mean[\"b_gentoo\"]\n",
    ")\n",
    "palette = {\"Adelie\": \"#ff6600\", \"Gentoo\": \"#c35bcc\", \"Chinstrap\": \"#007174\"}\n",
    "grid = sns.FacetGrid(pen_pred, hue=\"species\", palette=palette)\n",
    "grid.map(sns.scatterplot, \"body_mass_g\", \"flipper_length_mm\")\n",
    "grid.map(sns.lineplot, \"body_mass_g\", \"pred\")\n",
    "grid.add_legend()"
   ]
  },
  {
   "cell_type": "code",
   "execution_count": null,
   "metadata": {},
   "outputs": [],
   "source": [
    "# pyright: reportGeneralTypeIssues=false\n",
    "# pyright: reportMissingTypeStubs=false\n",
    "# pyright: reportUnknownArgumentType=false\n",
    "# pyright: reportUnknownLambdaType=false\n",
    "# pyright: reportUnknownMemberType=false\n",
    "# pyright: reportUnknownVariableType=false\n",
    "# ruff: noqa: E402"
   ]
  }
 ],
 "metadata": {
  "jupytext": {
   "cell_metadata_filter": "name,-all",
   "main_language": "python",
   "notebook_metadata_filter": "-all"
  }
 },
 "nbformat": 4,
 "nbformat_minor": 5
}
