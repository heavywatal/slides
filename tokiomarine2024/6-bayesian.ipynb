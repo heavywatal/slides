{
 "cells": [
  {
   "cell_type": "markdown",
   "metadata": {},
   "source": [
    "# 統計モデリング概論 DSHC 2024\n",
    "\n",
    "岩嵜 航 (Watal M. Iwasaki, PhD)<br>\n",
    "東北大学 生命科学研究科 進化ゲノミクス分野 特任助教\n",
    "\n",
    "2024-08-28 東京海上 Data Science Hill Climb<br>\n",
    "https://heavywatal.github.io/slides/tokiomarine2024/\n",
    "\n",
    "## 環境セットアップ\n",
    "\n",
    "Google Colab の場合はインストールから:\n",
    "```py\n",
    "%pip install 'matplotlib>=3.9' 'seaborn>=0.13' 'statsmodels>=0.14'\n",
    "%pip install 'arviz>=0.19' 'cmdstanpy>=1.2.4'\n",
    "import cmdstanpy\n",
    "cmdstanpy.install_cmdstan()\n",
    "```"
   ]
  },
  {
   "cell_type": "code",
   "execution_count": null,
   "metadata": {},
   "outputs": [],
   "source": [
    "%matplotlib inline\n",
    "\n",
    "# pyright: reportGeneralTypeIssues=false\n",
    "# pyright: reportMissingTypeStubs=false\n",
    "# pyright: reportUnknownMemberType=false"
   ]
  }
 ],
 "metadata": {
  "jupytext": {
   "cell_metadata_filter": "name,-all",
   "main_language": "python",
   "notebook_metadata_filter": "-all"
  }
 },
 "nbformat": 4,
 "nbformat_minor": 5
}
