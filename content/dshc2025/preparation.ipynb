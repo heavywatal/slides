{
 "cells": [
  {
   "cell_type": "markdown",
   "metadata": {},
   "source": [
    "# 統計モデリング概論 DSHC 2025\n",
    "\n",
    "岩嵜 航 (Watal M. Iwasaki, PhD)<br>\n",
    "東北大学 生命科学研究科 進化ゲノミクス分野 特任助教\n",
    "\n",
    "2025-08-27 東京海上 Data Science Hill Climb<br>\n",
    "https://heavywatal.github.io/slides/dshc2025/\n",
    "\n",
    "## 方針\n",
    "ほかの講義で使っている環境をなるべくそのまま使う。\n",
    "\n",
    "### Google Colab (Python 3.11) を使っている場合\n",
    "必要なパッケージは既にインストール済みなはず。\n",
    "各ipynbファイルの頭にも `!uv pip install` コマンドを置いておくので、事前準備は不要。\n",
    "念のため、このファイルが最後まで問題なく動くことを確認する。\n",
    "\n",
    "### ローカルのPythonを使っている場合\n",
    "以下の手順でパッケージをいくつか追加する。"
   ]
  },
  {
   "cell_type": "code",
   "execution_count": null,
   "metadata": {},
   "outputs": [],
   "source": [
    "import sys\n",
    "\n",
    "print(sys.version)\n",
    "is_interactive = hasattr(sys, \"ps1\")"
   ]
  },
  {
   "cell_type": "markdown",
   "metadata": {
    "lines_to_next_cell": 0
   },
   "source": [
    "## パッケージのインストールと動作確認\n",
    "\n",
    "インストール済みでも古すぎたら更新:"
   ]
  },
  {
   "cell_type": "code",
   "execution_count": null,
   "metadata": {},
   "outputs": [],
   "source": [
    "!uv pip install -U 'seaborn>=0.13'\n",
    "!uv pip install -U 'matplotlib>=3.10'"
   ]
  },
  {
   "cell_type": "markdown",
   "metadata": {},
   "source": [
    "### [statsmodels](https://www.statsmodels.org)"
   ]
  },
  {
   "cell_type": "code",
   "execution_count": null,
   "metadata": {},
   "outputs": [],
   "source": [
    "!uv pip install 'statsmodels>=0.14'\n",
    "import statsmodels.api as sm\n",
    "\n",
    "sm.show_versions()"
   ]
  },
  {
   "cell_type": "markdown",
   "metadata": {},
   "source": [
    "### [CmdStanPy](https://cmdstanpy.readthedocs.io)"
   ]
  },
  {
   "cell_type": "code",
   "execution_count": null,
   "metadata": {},
   "outputs": [],
   "source": [
    "!uv pip install 'cmdstanpy>=1.2.5'\n",
    "import cmdstanpy\n",
    "\n",
    "print(cmdstanpy.__version__)"
   ]
  },
  {
   "cell_type": "markdown",
   "metadata": {},
   "source": [
    "`fbprophet 0.7.1 requires cmdstanpy==0.9.5` だから conflict してるよ、\n",
    "というERRORが出るかもしれないけど今回は `fbprophet` を使わないので無視。\n",
    "\n",
    "[CmdStan](https://mc-stan.org/users/interfaces/cmdstan)\n",
    "本体をインストール(数分かかるかも):"
   ]
  },
  {
   "cell_type": "code",
   "execution_count": null,
   "metadata": {},
   "outputs": [],
   "source": [
    "cmdstanpy.install_cmdstan()\n",
    "# cmdstanpy.install_cmdstan(compiler=True)  # Windowsで何かが無いと怒られたら"
   ]
  },
  {
   "cell_type": "markdown",
   "metadata": {},
   "source": [
    "[公式example](https://github.com/stan-dev/cmdstanpy#example) が走ることを確認:"
   ]
  },
  {
   "cell_type": "code",
   "execution_count": null,
   "metadata": {
    "lines_to_next_cell": 2
   },
   "outputs": [],
   "source": [
    "import os\n",
    "\n",
    "from cmdstanpy import CmdStanModel, cmdstan_path\n",
    "\n",
    "# specify locations of Stan program file and data\n",
    "stan_file = os.path.join(cmdstan_path(), \"examples\", \"bernoulli\", \"bernoulli.stan\")\n",
    "data_file = os.path.join(cmdstan_path(), \"examples\", \"bernoulli\", \"bernoulli.data.json\")\n",
    "\n",
    "# instantiate a model; compiles the Stan program by default\n",
    "model = CmdStanModel(stan_file=stan_file)\n",
    "\n",
    "# obtain a posterior sample from the model conditioned on the data\n",
    "fit = model.sample(chains=4, data=data_file, show_progress=is_interactive)\n",
    "\n",
    "# summarize the results (wraps CmdStan `bin/stansummary`):\n",
    "fit.summary()"
   ]
  },
  {
   "cell_type": "markdown",
   "metadata": {},
   "source": [
    "### [ArviZ](https://python.arviz.org/)"
   ]
  },
  {
   "cell_type": "code",
   "execution_count": null,
   "metadata": {},
   "outputs": [],
   "source": [
    "!uv pip install 'arviz>=0.22'\n",
    "import arviz as az\n",
    "\n",
    "print(az.__version__)"
   ]
  },
  {
   "cell_type": "markdown",
   "metadata": {},
   "source": [
    "上記exampleの可視化:"
   ]
  },
  {
   "cell_type": "code",
   "execution_count": null,
   "metadata": {},
   "outputs": [],
   "source": [
    "cmdstanpy_data = az.from_cmdstanpy(fit)\n",
    "az.plot_trace(cmdstanpy_data)"
   ]
  },
  {
   "cell_type": "code",
   "execution_count": null,
   "metadata": {},
   "outputs": [],
   "source": [
    "# pyright: reportMissingTypeStubs=false\n",
    "# pyright: reportPrivateImportUsage=false\n",
    "# pyright: reportUnknownArgumentType=false\n",
    "# pyright: reportUnknownMemberType=false\n",
    "# pyright: reportUnknownVariableType=false\n",
    "# ruff: noqa: E402"
   ]
  }
 ],
 "metadata": {
  "jupytext": {
   "cell_metadata_filter": "name,-all",
   "main_language": "python",
   "notebook_metadata_filter": "-all"
  }
 },
 "nbformat": 4,
 "nbformat_minor": 5
}
