{
 "cells": [
  {
   "cell_type": "markdown",
   "metadata": {},
   "source": [
    "# 統計モデリング概論 DSHC 2024\n",
    "\n",
    "岩嵜 航 (Watal M. Iwasaki, PhD)<br>\n",
    "東北大学 生命科学研究科 進化ゲノミクス分野 特任助教\n",
    "\n",
    "2024-08-21 東京海上 Data Science Hill Climb<br>\n",
    "https://heavywatal.github.io/slides/tokiomarine2024/\n",
    "\n",
    "# 直線回帰、確率分布、擬似乱数生成\n",
    "\n",
    "## 環境セットアップ\n",
    "\n",
    "Google Colab の場合はインストールから:\n",
    "```\n",
    "%pip install 'matplotlib>=3.9' 'seaborn>=0.13' 'statsmodels>=0.14'\n",
    "```"
   ]
  },
  {
   "cell_type": "code",
   "execution_count": null,
   "metadata": {},
   "outputs": [],
   "source": [
    "%matplotlib inline\n",
    "\n",
    "import sys\n",
    "\n",
    "import numpy as np\n",
    "import pandas as pd\n",
    "import seaborn as sns\n",
    "import statsmodels.formula.api as smf\n",
    "\n",
    "rng = np.random.default_rng(seed=24601)\n",
    "print(sys.version)"
   ]
  },
  {
   "cell_type": "markdown",
   "metadata": {},
   "source": [
    "## 直線あてはめしてみる\n",
    "架空のデータを作って散布図。\n",
    "擬似乱数生成については後述。"
   ]
  },
  {
   "cell_type": "code",
   "execution_count": null,
   "metadata": {
    "lines_to_next_cell": 0
   },
   "outputs": [],
   "source": [
    "_x = rng.uniform(0.4, 1.7, 300)\n",
    "_y = rng.poisson(np.exp(3 * _x - 3))\n",
    "df_pois = pd.DataFrame({\"x\": _x, \"y\": _y})\n",
    "print(df_pois)"
   ]
  },
  {
   "cell_type": "code",
   "execution_count": null,
   "metadata": {},
   "outputs": [],
   "source": [
    "grid = sns.FacetGrid(df_pois)\n",
    "grid.map(sns.scatterplot, \"x\", \"y\")"
   ]
  },
  {
   "cell_type": "markdown",
   "metadata": {},
   "source": [
    "OLS: ordinary least square"
   ]
  },
  {
   "cell_type": "code",
   "execution_count": null,
   "metadata": {},
   "outputs": [],
   "source": [
    "model = smf.ols(\"y ~ x\", df_pois)\n",
    "result = model.fit()\n",
    "print(result.params)"
   ]
  },
  {
   "cell_type": "markdown",
   "metadata": {},
   "source": [
    "推定結果を用いて回帰線のy座標を計算し、predという名前の列に格納:\n",
    "\n",
    "pred = slope * x + intercept"
   ]
  },
  {
   "cell_type": "code",
   "execution_count": null,
   "metadata": {},
   "outputs": [],
   "source": [
    "df_pred = df_pois.assign(pred=lambda _: result.predict(_))\n",
    "print(df_pred)"
   ]
  },
  {
   "cell_type": "markdown",
   "metadata": {},
   "source": [
    "`assign()` や `lambda` に不慣れなら次のようにも書いても同じ:\n",
    "```py\n",
    "df_pred = df_pois.copy()\n",
    "df_pred[\"pred\"] = result.predict(df_pred)\n",
    "```"
   ]
  },
  {
   "cell_type": "code",
   "execution_count": null,
   "metadata": {},
   "outputs": [],
   "source": [
    "grid = sns.FacetGrid(df_pred)\n",
    "grid.map(sns.scatterplot, \"x\", \"y\")\n",
    "grid.map(sns.lineplot, \"x\", \"pred\")"
   ]
  },
  {
   "cell_type": "markdown",
   "metadata": {},
   "source": [
    "一旦ここまで。講義スライドに戻る。\n",
    "\n",
    "----"
   ]
  },
  {
   "cell_type": "markdown",
   "metadata": {},
   "source": [
    "## 擬似乱数生成\n",
    "\n",
    "これまでの講義スライドでいろいろな理論分布を見てきた。\n",
    "ここでは疑似乱数を生成・可視化して実感をつかもう。\n",
    "\n",
    "- まずはそのまま実行してみる\n",
    "- 次に、パラメータをいろいろいじって可視化してみる。\n",
    "    - `size` を増やしたら理論的な分布に近づくか?\n",
    "    - `size` を減らしたらその分布の「らしさ」が見えにくくなる?\n",
    "    - どういうときに二項分布・ポアソン分布・正規分布が似てくるか?\n",
    "- [numpy公式ドキュメント](https://numpy.org/doc/stable/reference/random/generator.html)\n",
    "  を見て、ほかにどんな関数やパラメータがあるか眺めてみる。"
   ]
  },
  {
   "cell_type": "markdown",
   "metadata": {
    "lines_to_next_cell": 0
   },
   "source": [
    "### 一様分布 (整数・離散値)"
   ]
  },
  {
   "cell_type": "code",
   "execution_count": null,
   "metadata": {},
   "outputs": [],
   "source": [
    "x = rng.integers(low=1, high=7, size=100)\n",
    "print(x)\n",
    "sns.histplot(x=x, discrete=True)"
   ]
  },
  {
   "cell_type": "markdown",
   "metadata": {
    "lines_to_next_cell": 0
   },
   "source": [
    "### 一様分布 (実数・連続値)"
   ]
  },
  {
   "cell_type": "code",
   "execution_count": null,
   "metadata": {},
   "outputs": [],
   "source": [
    "x = rng.uniform(low=0, high=1, size=100)\n",
    "print(x)\n",
    "sns.histplot(x=x)"
   ]
  },
  {
   "cell_type": "markdown",
   "metadata": {
    "lines_to_next_cell": 0
   },
   "source": [
    "### 幾何分布"
   ]
  },
  {
   "cell_type": "code",
   "execution_count": null,
   "metadata": {},
   "outputs": [],
   "source": [
    "x = rng.geometric(p=0.3, size=100)\n",
    "print(x)\n",
    "sns.histplot(x=x)"
   ]
  },
  {
   "cell_type": "markdown",
   "metadata": {
    "lines_to_next_cell": 0
   },
   "source": [
    "### 二項分布"
   ]
  },
  {
   "cell_type": "code",
   "execution_count": null,
   "metadata": {},
   "outputs": [],
   "source": [
    "x = rng.binomial(n=3, p=0.5, size=100)\n",
    "print(x)\n",
    "sns.histplot(x=x, discrete=True)"
   ]
  },
  {
   "cell_type": "markdown",
   "metadata": {
    "lines_to_next_cell": 0
   },
   "source": [
    "### ポアソン分布"
   ]
  },
  {
   "cell_type": "code",
   "execution_count": null,
   "metadata": {},
   "outputs": [],
   "source": [
    "x = rng.poisson(lam=3, size=100)\n",
    "print(x)\n",
    "sns.histplot(x=x, discrete=True)"
   ]
  },
  {
   "cell_type": "markdown",
   "metadata": {
    "lines_to_next_cell": 0
   },
   "source": [
    "### 正規分布"
   ]
  },
  {
   "cell_type": "code",
   "execution_count": null,
   "metadata": {},
   "outputs": [],
   "source": [
    "x = rng.normal(loc=50, scale=10, size=100)\n",
    "print(x)\n",
    "sns.histplot(x=x)"
   ]
  },
  {
   "cell_type": "markdown",
   "metadata": {},
   "source": [
    "### 🔰 自由課題\n",
    "\n",
    "1%の当たりを狙って10連ガチャを回した10万人の結果"
   ]
  },
  {
   "cell_type": "code",
   "execution_count": null,
   "metadata": {
    "lines_to_next_cell": 2
   },
   "outputs": [],
   "source": []
  },
  {
   "cell_type": "code",
   "execution_count": null,
   "metadata": {},
   "outputs": [],
   "source": [
    "# pyright: reportMissingTypeStubs=false\n",
    "# pyright: reportMissingParameterType=false\n",
    "# pyright: reportUnknownArgumentType=false\n",
    "# pyright: reportUnknownLambdaType=false\n",
    "# pyright: reportUnknownMemberType=false\n",
    "# pyright: reportUnknownParameterType=false\n",
    "# pyright: reportUnknownVariableType=false"
   ]
  }
 ],
 "metadata": {
  "jupytext": {
   "cell_metadata_filter": "name,-all",
   "main_language": "python",
   "notebook_metadata_filter": "-all"
  }
 },
 "nbformat": 4,
 "nbformat_minor": 5
}
