{
 "cells": [
  {
   "cell_type": "markdown",
   "metadata": {},
   "source": [
    "# 統計モデリング概論 DSHC 2023\n",
    "\n",
    "岩嵜 航 (Watal M. Iwasaki, PhD)<br>\n",
    "東北大学 生命科学研究科 進化ゲノミクス分野 特任助教\n",
    "\n",
    "2023-08-23 東京海上 Data Science Hill Climb<br>\n",
    "https://heavywatal.github.io/slides/tokiomarine2023/\n",
    "\n",
    "# 直線回帰、確率分布、擬似乱数生成\n",
    "\n",
    "## 環境セットアップ\n",
    "\n",
    "Google Colab の場合はインストールから:\n",
    "```\n",
    "%pip install 'matplotlib>=3.1' 'seaborn>=0.11' 'statsmodels'\n",
    "```"
   ]
  },
  {
   "cell_type": "code",
   "execution_count": null,
   "metadata": {},
   "outputs": [],
   "source": [
    "%matplotlib inline\n",
    "\n",
    "import sys\n",
    "\n",
    "import numpy as np\n",
    "import seaborn as sns\n",
    "\n",
    "rng = np.random.default_rng(seed=24601)\n",
    "print(sys.version)"
   ]
  },
  {
   "cell_type": "markdown",
   "metadata": {
    "lines_to_next_cell": 0
   },
   "source": [
    "---\n",
    "## 🔰 尤度の練習問題\n",
    "サイコロを10回振ったら6の目が3回出た。\n",
    "\n",
    "1. 6の目の出る確率が1/6だとした場合の尤度は?\n",
    "1. 6の目の出る確率が0.2だとした場合の尤度は?\n",
    "1. 横軸を6の目の出る確率、縦軸を対数尤度とするグラフを描こう。\n",
    "1. このサイコロで6の目が出る確率を最尤推定しよう。<br>\n",
    "   数学で解ければ**優**。Pythonで見つければ**良**。目分量・勘で**可**。\n",
    "\n",
    "ヒント: 次のような部品を使って `get_likelihood()` 関数を作るとか。"
   ]
  },
  {
   "cell_type": "code",
   "execution_count": null,
   "metadata": {},
   "outputs": [],
   "source": [
    "from scipy import special  # noqa: E402\n",
    "\n",
    "n = 5\n",
    "k = 2\n",
    "combination = special.comb(n, k)\n",
    "print(combination)\n",
    "\n",
    "vector = np.linspace(0, 1, 11)\n",
    "print(vector)\n",
    "\n",
    "\n",
    "def cubic(x):\n",
    "    return x**3\n",
    "\n",
    "\n",
    "vec3 = cubic(vector)\n",
    "sns.lineplot(x=vector, y=vec3)"
   ]
  },
  {
   "cell_type": "code",
   "execution_count": null,
   "metadata": {},
   "outputs": [],
   "source": [
    "# pyright: reportMissingTypeStubs=false\n",
    "# pyright: reportMissingParameterType=false\n",
    "# pyright: reportUnknownArgumentType=false\n",
    "# pyright: reportUnknownLambdaType=false\n",
    "# pyright: reportUnknownMemberType=false\n",
    "# pyright: reportUnknownParameterType=false\n",
    "# pyright: reportUnknownVariableType=false"
   ]
  }
 ],
 "metadata": {
  "jupytext": {
   "cell_metadata_filter": "name,-all",
   "main_language": "python",
   "notebook_metadata_filter": "-all"
  }
 },
 "nbformat": 4,
 "nbformat_minor": 5
}
