{
 "cells": [
  {
   "cell_type": "markdown",
   "id": "f30fad90",
   "metadata": {
    "lines_to_next_cell": 0
   },
   "source": [
    "# 統計モデリング概論DSHC 2021\n",
    "\n",
    "岩嵜 航 (Watal M. Iwasaki, PhD)<br>\n",
    "東北大学 生命科学研究科 進化ゲノミクス分野 特任助教\n",
    "\n",
    "1. [導入](https://heavywatal.github.io/slides/tokiomarine2021/1-introduction.html)\n",
    "1. [統計モデルの基本](https://heavywatal.github.io/slides/tokiomarine2021/2-stats-model.html)\n",
    "1. [一般化線形モデル](https://heavywatal.github.io/slides/tokiomarine2021/3-glm.html)\n",
    "1. [階層ベイズモデル](https://heavywatal.github.io/slides/tokiomarine2021/4-bayesian.html)\n",
    "    - **Stanを動かしてみる** 👈\n",
    "\n",
    "2021-06-30 東京海上 Data Science Hill Climb<br>\n",
    "https://heavywatal.github.io/slides/tokiomarine2021/\n",
    "\n",
    "## 環境セットアップ\n"
   ]
  },
  {
   "cell_type": "code",
   "execution_count": null,
   "id": "d224945e",
   "metadata": {},
   "outputs": [],
   "source": [
    "import numpy as np\n",
    "import matplotlib.pyplot as plt\n",
    "import seaborn as sns\n",
    "import arviz as az\n",
    "\n",
    "is_notebook = True\n",
    "if is_notebook:\n",
    "    import nest_asyncio\n",
    "    nest_asyncio.apply()\n",
    "\n",
    "import stan\n",
    "\n",
    "%matplotlib inline\n",
    "\n",
    "rng = np.random.default_rng(seed=24601)"
   ]
  },
  {
   "cell_type": "markdown",
   "id": "828776f4",
   "metadata": {
    "lines_to_next_cell": 0
   },
   "source": [
    "\n",
    "## おおまか流れ\n",
    "\n",
    "```python\n",
    "# データ準備\n",
    "mydata\n",
    "\n",
    "# Stan言語で書いたモデルをコンパイル\n",
    "model_code = open('model1.stan', 'rt').read()\n",
    "model = stan.build(model_code, data=mydata)\n",
    "\n",
    "# MCMCサンプリング\n",
    "fit = model.sample(num_chains=4, num_samples=1000)\n",
    "\n",
    "# 結果を眺める\n",
    "df = fit.to_frame()\n",
    "print(df.describe().T)\n",
    "stan_data = az.from_pystan(posterior=fit)\n",
    "az.plot_trace(stan_data)\n",
    "az.plot_posterior(stan_data)\n",
    "```\n",
    "\n",
    "## 説明変数なしのベイズ推定\n",
    "\n",
    "### データ準備\n",
    "\n",
    "表が出る確率70%のイカサマコインをN回投げたデータを作る。\n"
   ]
  },
  {
   "cell_type": "code",
   "execution_count": null,
   "id": "33b02aa5",
   "metadata": {},
   "outputs": [],
   "source": [
    "data = {\"N\": 40}\n",
    "data[\"x\"] = rng.binomial(1, 0.7, data[\"N\"])\n",
    "sns.countplot(x='x', data=data)"
   ]
  },
  {
   "cell_type": "markdown",
   "id": "8edbf2e2",
   "metadata": {
    "lines_to_next_cell": 0
   },
   "source": [
    "\n",
    "### モデルの定義"
   ]
  },
  {
   "cell_type": "code",
   "execution_count": null,
   "id": "e271103e",
   "metadata": {},
   "outputs": [],
   "source": [
    "model_code = \"\"\"\n",
    "data {\n",
    "  int<lower=0> N;\n",
    "  int x[N];\n",
    "}\n",
    "parameters {\n",
    "  real<lower=0,upper=1> p;\n",
    "}\n",
    "model {\n",
    "  x ~ binomial(1, p);\n",
    "}\n",
    "\"\"\"\n",
    "\n",
    "posterior = stan.build(model_code, data=data)"
   ]
  },
  {
   "cell_type": "markdown",
   "id": "5e268a3e",
   "metadata": {
    "lines_to_next_cell": 0
   },
   "source": [
    "\n",
    "### MCMCサンプル"
   ]
  },
  {
   "cell_type": "code",
   "execution_count": null,
   "id": "638ddf4c",
   "metadata": {},
   "outputs": [],
   "source": [
    "fit = posterior.sample(num_chains=4, num_samples=1000)\n",
    "df = fit.to_frame()\n",
    "print(df.describe().T)"
   ]
  },
  {
   "cell_type": "markdown",
   "id": "117d6a09",
   "metadata": {
    "lines_to_next_cell": 0
   },
   "source": [
    "\n",
    "### トレースプロット確認"
   ]
  },
  {
   "cell_type": "code",
   "execution_count": null,
   "id": "0e78d410",
   "metadata": {},
   "outputs": [],
   "source": [
    "stan_data = az.from_pystan(posterior=fit)\n",
    "az.plot_trace(stan_data)"
   ]
  },
  {
   "cell_type": "markdown",
   "id": "e55ef605",
   "metadata": {
    "lines_to_next_cell": 0
   },
   "source": [
    "\n",
    "### 推定結果確認"
   ]
  },
  {
   "cell_type": "code",
   "execution_count": null,
   "id": "e536362e",
   "metadata": {},
   "outputs": [],
   "source": [
    "az.plot_posterior(stan_data)"
   ]
  },
  {
   "cell_type": "markdown",
   "id": "2651ae74",
   "metadata": {
    "lines_to_next_cell": 0
   },
   "source": [
    "\n",
    "## 単回帰のベイズ推定\n",
    "\n",
    "講義資料に沿って `penguins` データセットでStanを動かしてみよう\n"
   ]
  },
  {
   "cell_type": "code",
   "execution_count": null,
   "id": "7de9dbae",
   "metadata": {},
   "outputs": [],
   "source": [
    "penguins = sns.load_dataset('penguins')\n",
    "palette = {\"Adelie\": \"#ff6600\", \"Chinstrap\": \"#c35bcc\", \"Gentoo\": \"#007174\"}\n",
    "sns.lmplot(data=penguins, x='body_mass_g', y='flipper_length_mm', hue='species', palette=palette)"
   ]
  }
 ],
 "metadata": {
  "jupytext": {
   "cell_metadata_filter": "name,-all",
   "main_language": "python",
   "notebook_metadata_filter": "-all"
  },
  "kernelspec": {
   "display_name": "Python 3",
   "language": "python",
   "name": "python3"
  },
  "language_info": {
   "codemirror_mode": {
    "name": "ipython",
    "version": 3
   },
   "file_extension": ".py",
   "mimetype": "text/x-python",
   "name": "python",
   "nbconvert_exporter": "python",
   "pygments_lexer": "ipython3",
   "version": "3.9.5"
  }
 },
 "nbformat": 4,
 "nbformat_minor": 5
}
