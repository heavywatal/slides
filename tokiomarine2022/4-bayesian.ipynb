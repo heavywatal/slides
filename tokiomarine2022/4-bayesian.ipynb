{
 "cells": [
  {
   "cell_type": "markdown",
   "id": "4018bd83",
   "metadata": {},
   "source": [
    "# 統計モデリング概論 DSHC 2022\n",
    "\n",
    "岩嵜 航 (Watal M. Iwasaki, PhD)<br>\n",
    "東北大学 生命科学研究科 進化ゲノミクス分野 特任助教\n",
    "\n",
    "2022-08-24 東京海上 Data Science Hill Climb<br>\n",
    "https://heavywatal.github.io/slides/tokiomarine2022/\n",
    "\n",
    "## PythonからStanを使う、おおまかな流れ\n",
    "- データ準備\n",
    "- Stan言語でモデルを書く\n",
    "- それをコンパイルして機械語に翻訳→実行ファイル\n",
    "- 実行ファイルにデータを渡してMCMCサンプリング\n",
    "- 結果を見る\n",
    "\n",
    "## 環境セットアップ"
   ]
  },
  {
   "cell_type": "raw",
   "id": "2809c4d4",
   "metadata": {
    "active": "py"
   },
   "source": [
    "%pip install 'matplotlib>=3.1' 'seaborn>=0.11' 'statsmodels'\n",
    "%pip install 'arviz>=0.12.1' 'cmdstanpy>=1.0.4'"
   ]
  },
  {
   "cell_type": "code",
   "execution_count": null,
   "id": "78958194",
   "metadata": {},
   "outputs": [],
   "source": [
    "import arviz as az\n",
    "import numpy as np\n",
    "import seaborn as sns\n",
    "from cmdstanpy import CmdStanModel\n",
    "\n",
    "rng = np.random.default_rng(seed=24601)"
   ]
  },
  {
   "cell_type": "markdown",
   "id": "331d2da6",
   "metadata": {
    "lines_to_next_cell": 0
   },
   "source": [
    "## 説明変数なしのベイズ推定\n",
    "\n",
    "### データ準備\n",
    "\n",
    "表が出る確率70%のイカサマコインをN回投げたデータを作る。\n"
   ]
  },
  {
   "cell_type": "code",
   "execution_count": null,
   "id": "ff24d763",
   "metadata": {
    "lines_to_next_cell": 0
   },
   "outputs": [],
   "source": [
    "true_p = 0.7\n",
    "sample_size = 40\n",
    "coin_data = {\"N\": sample_size, \"x\": rng.binomial(1, true_p, sample_size)}\n",
    "print(coin_data)"
   ]
  },
  {
   "cell_type": "code",
   "execution_count": null,
   "id": "e6c1bb30",
   "metadata": {},
   "outputs": [],
   "source": [
    "sns.countplot(x=\"x\", data=coin_data)"
   ]
  },
  {
   "cell_type": "markdown",
   "id": "b71a4418",
   "metadata": {
    "lines_to_next_cell": 0
   },
   "source": [
    "### モデルの定義\n",
    "スライドにあるコードを `coin.stan` というファイルに保存しておき、読み込む。"
   ]
  },
  {
   "cell_type": "code",
   "execution_count": null,
   "id": "775f10a2",
   "metadata": {},
   "outputs": [],
   "source": [
    "model = CmdStanModel(stan_file=\"coin.stan\")"
   ]
  },
  {
   "cell_type": "markdown",
   "id": "ea028061",
   "metadata": {
    "lines_to_next_cell": 0
   },
   "source": [
    "### MCMCサンプル"
   ]
  },
  {
   "cell_type": "code",
   "execution_count": null,
   "id": "f9750cac",
   "metadata": {},
   "outputs": [],
   "source": [
    "fit = model.sample(coin_data, chains=4, iter_sampling=2000)"
   ]
  },
  {
   "cell_type": "markdown",
   "id": "04551ebf",
   "metadata": {
    "lines_to_next_cell": 0
   },
   "source": [
    "結果はchainごとにファイル出力されているらしい。"
   ]
  },
  {
   "cell_type": "code",
   "execution_count": null,
   "id": "0472a75b",
   "metadata": {},
   "outputs": [],
   "source": [
    "print(fit)"
   ]
  },
  {
   "cell_type": "markdown",
   "id": "23870a5e",
   "metadata": {
    "lines_to_next_cell": 0
   },
   "source": [
    "`numpy.ndarray` 型か `pandas.DataFrame` 型で全部参照できる。\n",
    "が、生の値を見たところであまりよくわからない。"
   ]
  },
  {
   "cell_type": "code",
   "execution_count": null,
   "id": "33acaa84",
   "metadata": {
    "lines_to_next_cell": 0
   },
   "outputs": [],
   "source": [
    "print(fit.draws().shape)  # Array"
   ]
  },
  {
   "cell_type": "code",
   "execution_count": null,
   "id": "a0ee95bc",
   "metadata": {},
   "outputs": [],
   "source": [
    "print(fit.draws_pd())  # DataFrame"
   ]
  },
  {
   "cell_type": "markdown",
   "id": "03b4a4a1",
   "metadata": {
    "lines_to_next_cell": 0
   },
   "source": [
    "### 推定結果の要約と収束診断"
   ]
  },
  {
   "cell_type": "code",
   "execution_count": null,
   "id": "b6b89778",
   "metadata": {
    "lines_to_next_cell": 0
   },
   "outputs": [],
   "source": [
    "fit.summary()"
   ]
  },
  {
   "cell_type": "code",
   "execution_count": null,
   "id": "2d48c097",
   "metadata": {},
   "outputs": [],
   "source": [
    "print(fit.diagnose())"
   ]
  },
  {
   "cell_type": "markdown",
   "id": "543e2eac",
   "metadata": {
    "lines_to_next_cell": 0
   },
   "source": [
    "### トレースプロット確認\n",
    "分布はきれいなひと山、軌跡はきれいな毛虫"
   ]
  },
  {
   "cell_type": "code",
   "execution_count": null,
   "id": "1e2f1868",
   "metadata": {},
   "outputs": [],
   "source": [
    "stan_data = az.from_cmdstanpy(fit)\n",
    "az.plot_trace(stan_data)"
   ]
  },
  {
   "cell_type": "markdown",
   "id": "9134fa05",
   "metadata": {
    "lines_to_next_cell": 0
   },
   "source": [
    "\n",
    "### 推定結果の事後分布を確認\n",
    "- 点推定: 事後分布平均\n",
    "- 区間推定: HDI(Highest Density Interval)"
   ]
  },
  {
   "cell_type": "code",
   "execution_count": null,
   "id": "d8eb33db",
   "metadata": {},
   "outputs": [],
   "source": [
    "az.plot_posterior(stan_data)"
   ]
  },
  {
   "cell_type": "code",
   "execution_count": null,
   "id": "6e550800",
   "metadata": {},
   "outputs": [],
   "source": [
    "stan_data.posterior.mean()\n",
    "\n",
    "# pyright: reportGeneralTypeIssues=false\n",
    "# pyright: reportMissingTypeStubs=false\n",
    "# pyright: reportUnknownMemberType=false"
   ]
  }
 ],
 "metadata": {
  "jupytext": {
   "cell_metadata_filter": "name,-all",
   "main_language": "python",
   "notebook_metadata_filter": "-all"
  }
 },
 "nbformat": 4,
 "nbformat_minor": 5
}
