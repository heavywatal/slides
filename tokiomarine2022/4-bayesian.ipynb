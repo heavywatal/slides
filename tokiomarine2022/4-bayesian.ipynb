{
 "cells": [
  {
   "cell_type": "markdown",
   "id": "b0d49c78",
   "metadata": {},
   "source": [
    "# 統計モデリング概論 DSHC 2022\n",
    "\n",
    "岩嵜 航 (Watal M. Iwasaki, PhD)<br>\n",
    "東北大学 生命科学研究科 進化ゲノミクス分野 特任助教\n",
    "\n",
    "2022-08-24 東京海上 Data Science Hill Climb<br>\n",
    "https://heavywatal.github.io/slides/tokiomarine2022/\n",
    "\n",
    "## PythonからStanを使う、おおまかな流れ\n",
    "- データ準備\n",
    "- Stan言語でモデルを書く\n",
    "- それをコンパイルして機械語に翻訳→実行ファイル\n",
    "- 実行ファイルにデータを渡してMCMCサンプリング\n",
    "- 結果を見る\n",
    "\n",
    "## 環境セットアップ"
   ]
  },
  {
   "cell_type": "code",
   "execution_count": null,
   "id": "73b5362b",
   "metadata": {},
   "outputs": [],
   "source": [
    "from pathlib import Path\n",
    "\n",
    "import arviz as az\n",
    "import numpy as np\n",
    "import seaborn as sns\n",
    "from cmdstanpy import CmdStanModel\n",
    "\n",
    "rng = np.random.default_rng(seed=24601)"
   ]
  },
  {
   "cell_type": "markdown",
   "id": "fb71da89",
   "metadata": {
    "lines_to_next_cell": 0
   },
   "source": [
    "## 説明変数なしのベイズ推定\n",
    "\n",
    "### データ準備\n",
    "\n",
    "表が出る確率70%のイカサマコインをN回投げたデータを作る。\n"
   ]
  },
  {
   "cell_type": "code",
   "execution_count": null,
   "id": "49f9f329",
   "metadata": {},
   "outputs": [],
   "source": [
    "true_p = 0.7\n",
    "N = 40\n",
    "coin_data = {\"N\": N, \"x\": rng.binomial(1, true_p, N)}\n",
    "print(coin_data)\n",
    "sns.countplot(x=\"x\", data=coin_data)"
   ]
  },
  {
   "cell_type": "markdown",
   "id": "1ff23587",
   "metadata": {
    "lines_to_next_cell": 0
   },
   "source": [
    "### モデルの定義"
   ]
  },
  {
   "cell_type": "code",
   "execution_count": null,
   "id": "2cea425a",
   "metadata": {},
   "outputs": [],
   "source": [
    "model_code = \"\"\"\n",
    "data {\n",
    "  int<lower=0> N;\n",
    "  int x[N];\n",
    "}\n",
    "parameters {\n",
    "  real<lower=0,upper=1> p;\n",
    "}\n",
    "model {\n",
    "  x ~ binomial(1, p);\n",
    "  p ~ beta(1, 1);\n",
    "}\n",
    "\"\"\""
   ]
  },
  {
   "cell_type": "code",
   "execution_count": null,
   "id": "da6d75a9",
   "metadata": {},
   "outputs": [],
   "source": [
    "stan_file = Path(\"coin.stan\")\n",
    "if not stan_file.exists():\n",
    "    with open(stan_file, \"w\") as fout:\n",
    "        fout.write(model_code)\n",
    "\n",
    "model = CmdStanModel(stan_file=stan_file)"
   ]
  },
  {
   "cell_type": "markdown",
   "id": "907b4b40",
   "metadata": {
    "lines_to_next_cell": 0
   },
   "source": [
    "### MCMCサンプル"
   ]
  },
  {
   "cell_type": "code",
   "execution_count": null,
   "id": "d0cf4915",
   "metadata": {},
   "outputs": [],
   "source": [
    "fit = model.sample(coin_data, chains=4, iter_sampling=2000)"
   ]
  },
  {
   "cell_type": "markdown",
   "id": "e56fdc3d",
   "metadata": {
    "lines_to_next_cell": 0
   },
   "source": [
    "結果はchainごとにファイル出力されているらしい。"
   ]
  },
  {
   "cell_type": "code",
   "execution_count": null,
   "id": "56cb19af",
   "metadata": {},
   "outputs": [],
   "source": [
    "print(fit)"
   ]
  },
  {
   "cell_type": "markdown",
   "id": "72098682",
   "metadata": {
    "lines_to_next_cell": 0
   },
   "source": [
    "`numpy.ndarray` 型か `pandas.DataFrame` 型で全部参照できる。\n",
    "が、生の値を見たところであまりよくわからない。"
   ]
  },
  {
   "cell_type": "code",
   "execution_count": null,
   "id": "e851ffa1",
   "metadata": {
    "lines_to_next_cell": 0
   },
   "outputs": [],
   "source": [
    "print(fit.draws().shape)  # Array"
   ]
  },
  {
   "cell_type": "code",
   "execution_count": null,
   "id": "c61e58f7",
   "metadata": {},
   "outputs": [],
   "source": [
    "print(fit.draws_pd())  # DataFrame"
   ]
  },
  {
   "cell_type": "markdown",
   "id": "64b58c03",
   "metadata": {
    "lines_to_next_cell": 0
   },
   "source": [
    "### 推定結果の要約と収束診断"
   ]
  },
  {
   "cell_type": "code",
   "execution_count": null,
   "id": "ac053b1f",
   "metadata": {
    "lines_to_next_cell": 0
   },
   "outputs": [],
   "source": [
    "fit.summary()"
   ]
  },
  {
   "cell_type": "code",
   "execution_count": null,
   "id": "0bdb85f0",
   "metadata": {},
   "outputs": [],
   "source": [
    "print(fit.diagnose())"
   ]
  },
  {
   "cell_type": "markdown",
   "id": "56bc8f00",
   "metadata": {
    "lines_to_next_cell": 0
   },
   "source": [
    "### トレースプロット確認\n",
    "分布はきれいなひと山、軌跡はきれいな毛虫"
   ]
  },
  {
   "cell_type": "code",
   "execution_count": null,
   "id": "304fd660",
   "metadata": {},
   "outputs": [],
   "source": [
    "stan_data = az.from_cmdstanpy(fit)\n",
    "az.plot_trace(stan_data)"
   ]
  },
  {
   "cell_type": "markdown",
   "id": "c28e74c8",
   "metadata": {
    "lines_to_next_cell": 0
   },
   "source": [
    "\n",
    "### 推定結果の事後分布を確認\n",
    "- 点推定: 事後分布平均\n",
    "- 区間推定: HDI(Highest Density Interval)"
   ]
  },
  {
   "cell_type": "code",
   "execution_count": null,
   "id": "bbe7f976",
   "metadata": {},
   "outputs": [],
   "source": [
    "az.plot_posterior(stan_data)"
   ]
  },
  {
   "cell_type": "code",
   "execution_count": null,
   "id": "1c6659c3",
   "metadata": {},
   "outputs": [],
   "source": [
    "stan_data.posterior.mean()\n",
    "\n",
    "# pyright: reportGeneralTypeIssues=false\n",
    "# pyright: reportMissingTypeStubs=false\n",
    "# pyright: reportUnknownMemberType=false"
   ]
  }
 ],
 "metadata": {
  "jupytext": {
   "cell_metadata_filter": "name,-all",
   "main_language": "python",
   "notebook_metadata_filter": "-all"
  }
 },
 "nbformat": 4,
 "nbformat_minor": 5
}
