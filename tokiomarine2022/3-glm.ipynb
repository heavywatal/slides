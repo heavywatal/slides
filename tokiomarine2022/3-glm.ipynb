{
 "cells": [
  {
   "cell_type": "markdown",
   "id": "4f868b21",
   "metadata": {},
   "source": [
    "# 統計モデリング概論 DSHC 2022\n",
    "\n",
    "岩嵜 航 (Watal M. Iwasaki, PhD)<br>\n",
    "東北大学 生命科学研究科 進化ゲノミクス分野 特任助教\n",
    "\n",
    "2022-08-17 東京海上 Data Science Hill Climb<br>\n",
    "https://heavywatal.github.io/slides/tokiomarine2022/\n",
    "\n",
    "## 環境セットアップ"
   ]
  },
  {
   "cell_type": "raw",
   "id": "9d8e924b",
   "metadata": {
    "active": "py"
   },
   "source": [
    "%pip install 'matplotlib>=3.1' 'seaborn>=0.11' 'statsmodels'"
   ]
  },
  {
   "cell_type": "code",
   "execution_count": null,
   "id": "1ce3a8a9",
   "metadata": {},
   "outputs": [],
   "source": [
    "import sys\n",
    "\n",
    "import matplotlib.pyplot as plt\n",
    "import numpy as np\n",
    "import pandas as pd\n",
    "import seaborn as sns\n",
    "import statsmodels.api as sm\n",
    "import statsmodels.formula.api as smf\n",
    "from scipy import special\n",
    "\n",
    "rng = np.random.default_rng(seed=24601)\n",
    "sys.version"
   ]
  },
  {
   "cell_type": "markdown",
   "id": "8334f4f5",
   "metadata": {},
   "source": [
    "## とにかくGLMを使ってみる練習\n",
    "### OLS (復習)\n",
    "まず、OLSによる直線当てはめの復習。"
   ]
  },
  {
   "cell_type": "code",
   "execution_count": null,
   "id": "c2a41dc9",
   "metadata": {
    "lines_to_next_cell": 0
   },
   "outputs": [],
   "source": [
    "sample_size = 300\n",
    "true_intercept = -3\n",
    "true_coef = 3\n",
    "x = rng.uniform(0.4, 1.7, sample_size)\n",
    "lambda_ = np.exp(true_intercept + true_coef * x)\n",
    "y = rng.poisson(lambda_)\n",
    "df = pd.DataFrame(dict(x=x, y=y))\n",
    "print(df)"
   ]
  },
  {
   "cell_type": "code",
   "execution_count": null,
   "id": "e6451dba",
   "metadata": {},
   "outputs": [],
   "source": [
    "model = smf.ols(\"y ~ x\", df)\n",
    "result = model.fit()\n",
    "df_pred = df.assign(pred=lambda _: result.predict(_))\n",
    "grid = sns.FacetGrid(df_pred)\n",
    "grid.map(sns.scatterplot, \"x\", \"y\")\n",
    "grid.map(sns.lineplot, \"x\", \"pred\")"
   ]
  },
  {
   "cell_type": "markdown",
   "id": "6fd8ff6b",
   "metadata": {},
   "source": [
    "### GLMで直線回帰\n",
    "`glm()` を使う以外の操作は共通。"
   ]
  },
  {
   "cell_type": "code",
   "execution_count": null,
   "id": "0f45cd4f",
   "metadata": {
    "lines_to_next_cell": 0
   },
   "outputs": [],
   "source": [
    "model = smf.glm(\"y ~ x\", df)\n",
    "result = model.fit()\n",
    "df_pred = df.assign(pred=lambda _: result.predict(_))\n",
    "grid = sns.FacetGrid(df_pred)\n",
    "grid.map(sns.scatterplot, \"x\", \"y\")\n",
    "grid.map(sns.lineplot, \"x\", \"pred\")"
   ]
  },
  {
   "cell_type": "code",
   "execution_count": null,
   "id": "317baf5c",
   "metadata": {},
   "outputs": [],
   "source": [
    "print(result.params)"
   ]
  },
  {
   "cell_type": "markdown",
   "id": "1954cc6b",
   "metadata": {
    "lines_to_next_cell": 0
   },
   "source": [
    "デフォルトでは正規分布・恒等リンクなのでOLSと同じ結果になった。\n",
    "\n",
    "次に、確率分布とリンク関数を変えてみよう。\n",
    "大本命、ポアソン分布・指数リンクを試す。\n",
    "\n",
    "### ポアソン回帰\n",
    "`family` の指定以外はさっきと全く同じ。\n",
    "`Poinson()` の `link` はデフォルトで `Log()` なので省略可能。"
   ]
  },
  {
   "cell_type": "code",
   "execution_count": null,
   "id": "5471ec7e",
   "metadata": {
    "lines_to_next_cell": 0
   },
   "outputs": [],
   "source": [
    "poisson = sm.families.Poisson(link=sm.families.links.Log())\n",
    "model = smf.glm(\"y ~ x\", df, family=poisson)\n",
    "result = model.fit()\n",
    "df_pred = df.assign(pred=lambda _: result.predict(_))\n",
    "grid = sns.FacetGrid(df_pred)\n",
    "grid.map(sns.scatterplot, \"x\", \"y\")\n",
    "grid.map(sns.lineplot, \"x\", \"pred\")"
   ]
  },
  {
   "cell_type": "code",
   "execution_count": null,
   "id": "cb71fa78",
   "metadata": {},
   "outputs": [],
   "source": [
    "print(result.params)"
   ]
  },
  {
   "cell_type": "markdown",
   "id": "a1016c08",
   "metadata": {
    "lines_to_next_cell": 0
   },
   "source": [
    "いい感じにできた。\n",
    "\n",
    "### 重回帰: 複数の説明変数を同時に扱う\n",
    "ビールの注文数が気温と湿度の両方に依存して増加するデータを作る。"
   ]
  },
  {
   "cell_type": "code",
   "execution_count": null,
   "id": "49c1dee2",
   "metadata": {
    "lines_to_next_cell": 0
   },
   "outputs": [],
   "source": [
    "sample_size = 200\n",
    "true_intercept = 3\n",
    "true_coefs = {\"temperature\": 0.05, \"humidity\": 0.006}\n",
    "temperature = rng.uniform(8, 32, sample_size)\n",
    "humidity = rng.uniform(20, 80, sample_size)\n",
    "lambda_ = np.exp(\n",
    "    true_intercept\n",
    "    + true_coefs[\"temperature\"] * temperature\n",
    "    + true_coefs[\"humidity\"] * humidity\n",
    ")\n",
    "beer_sales = rng.poisson(lambda_)\n",
    "_dic = {\n",
    "    \"temperature\": temperature,\n",
    "    \"humidity\": humidity,\n",
    "    \"beer_sales\": beer_sales,\n",
    "}\n",
    "df = pd.DataFrame(_dic)\n",
    "print(df)"
   ]
  },
  {
   "cell_type": "code",
   "execution_count": null,
   "id": "cb3d8674",
   "metadata": {
    "lines_to_next_cell": 0
   },
   "outputs": [],
   "source": [
    "fig, ax = plt.subplots(ncols=2)\n",
    "sns.scatterplot(x=\"temperature\", y=\"beer_sales\", hue=\"humidity\", data=df, ax=ax[0])\n",
    "sns.scatterplot(x=\"humidity\", y=\"beer_sales\", hue=\"temperature\", data=df, ax=ax[1])"
   ]
  },
  {
   "cell_type": "markdown",
   "id": "7f460c2b",
   "metadata": {
    "lines_to_next_cell": 0
   },
   "source": [
    "縦軸は上限が無さそうなカウントデータで、x軸に対して指数的な増加。"
   ]
  },
  {
   "cell_type": "code",
   "execution_count": null,
   "id": "6f80ae26",
   "metadata": {
    "lines_to_next_cell": 0
   },
   "outputs": [],
   "source": [
    "poisson = sm.families.Poisson(link=sm.families.links.Log())\n",
    "model = smf.glm(\"beer_sales ~ temperature + humidity\", df, family=poisson)\n",
    "result = model.fit()\n",
    "print(result.params)"
   ]
  },
  {
   "cell_type": "code",
   "execution_count": null,
   "id": "f998cc13",
   "metadata": {},
   "outputs": [],
   "source": [
    "from itertools import product  # noqa: E402\n",
    "\n",
    "it = product(range(8, 33, 4), range(20, 90, 10))\n",
    "df_pred = pd.DataFrame(list(it), columns=[\"temperature\", \"humidity\"])\n",
    "df_pred = df_pred.assign(pred=lambda _: result.predict(_))\n",
    "fig, ax = plt.subplots(ncols=2)\n",
    "sns.scatterplot(x=\"temperature\", y=\"beer_sales\", hue=\"humidity\", data=df, ax=ax[0])\n",
    "sns.lineplot(x=\"temperature\", y=\"pred\", hue=\"humidity\", data=df_pred, ax=ax[0])\n",
    "sns.scatterplot(x=\"humidity\", y=\"beer_sales\", hue=\"temperature\", data=df, ax=ax[1])\n",
    "sns.lineplot(x=\"humidity\", y=\"pred\", hue=\"temperature\", data=df_pred, ax=ax[1])"
   ]
  },
  {
   "cell_type": "markdown",
   "id": "a3050762",
   "metadata": {},
   "source": [
    "### ロジスティック回帰\n",
    "客10人中y人がビールを注文した。\n",
    "その日の気温xによって割合が変化した。"
   ]
  },
  {
   "cell_type": "code",
   "execution_count": null,
   "id": "301bb76a",
   "metadata": {
    "lines_to_next_cell": 0
   },
   "outputs": [],
   "source": [
    "# Parameters\n",
    "n_traials = 10\n",
    "true_intercept = -3\n",
    "true_coef = 0.3\n",
    "sample_size = 200\n",
    "# Generate random numbers\n",
    "temperature = rng.uniform(-10, 35, sample_size)\n",
    "logit_p = true_intercept + true_coef * temperature\n",
    "p = special.expit(logit_p)\n",
    "beer_sales = rng.binomial(n_traials, p, sample_size)\n",
    "_dic = {\n",
    "    \"temperature\": temperature,\n",
    "    \"beer_sales\": beer_sales,\n",
    "    \"failures\": n_traials - beer_sales,\n",
    "}\n",
    "df = pd.DataFrame(_dic)\n",
    "print(df)"
   ]
  },
  {
   "cell_type": "code",
   "execution_count": null,
   "id": "afab8d81",
   "metadata": {
    "lines_to_next_cell": 0
   },
   "outputs": [],
   "source": [
    "grid = sns.FacetGrid(df)\n",
    "grid.map(sns.scatterplot, \"temperature\", \"beer_sales\")"
   ]
  },
  {
   "cell_type": "markdown",
   "id": "beca5203",
   "metadata": {
    "lines_to_next_cell": 0
   },
   "source": [
    "上限10のシグモイド型の曲線でつながりそう。誤差は二項分布。\n",
    "\n",
    "縦軸・応答変数の設定が少し特殊。\n",
    "単にk回成功ではなく **n回のうちk回** 成功したという情報を使うため、\n",
    "成功数と失敗数の両方を左辺に置く必要がある。"
   ]
  },
  {
   "cell_type": "code",
   "execution_count": null,
   "id": "06174add",
   "metadata": {
    "lines_to_next_cell": 0
   },
   "outputs": [],
   "source": [
    "binom = sm.families.Binomial(link=sm.families.links.Logit())\n",
    "model = smf.glm(\"beer_sales + failures ~ temperature\", df, family=binom)\n",
    "result = model.fit()\n",
    "print(result.params)"
   ]
  },
  {
   "cell_type": "markdown",
   "id": "6f4935f6",
   "metadata": {
    "lines_to_next_cell": 0
   },
   "source": [
    "`predict()` は割合を返してくるので、\n",
    "作図するときは試行数をかけるか縦軸を割合にする。"
   ]
  },
  {
   "cell_type": "code",
   "execution_count": null,
   "id": "9c46bd28",
   "metadata": {},
   "outputs": [],
   "source": [
    "df_pred = df.assign(pred=lambda _: n_traials * result.predict(_))\n",
    "grid = sns.FacetGrid(df_pred)\n",
    "grid.map(sns.scatterplot, \"temperature\", \"beer_sales\")\n",
    "grid.map(sns.lineplot, \"temperature\", \"pred\")"
   ]
  },
  {
   "cell_type": "markdown",
   "id": "3eb24fd1",
   "metadata": {
    "lines_to_next_cell": 0
   },
   "source": [
    "### 分散分析: GLM with 質的(カテゴリカル)変数\n"
   ]
  },
  {
   "cell_type": "code",
   "execution_count": null,
   "id": "e4b8059f",
   "metadata": {
    "lines_to_next_cell": 0,
    "title": "Parameters"
   },
   "outputs": [],
   "source": [
    "sample_size = 200\n",
    "true_intercept = 70\n",
    "true_coefs = {\"temp\": 3, \"sunny\": 20, \"rainy\": -20}\n",
    "sd = 10\n",
    "weather_levels = [\"cloudy\", \"sunny\", \"rainy\"]"
   ]
  },
  {
   "cell_type": "code",
   "execution_count": null,
   "id": "55d2d8be",
   "metadata": {
    "lines_to_next_cell": 0
   },
   "outputs": [],
   "source": [
    "weather = rng.choice(weather_levels, sample_size, replace=True)\n",
    "_dic = {\n",
    "    \"temperature\": rng.uniform(8, 32, sample_size),\n",
    "    \"weather\": pd.Categorical(weather, categories=weather_levels),\n",
    "}\n",
    "_df = pd.DataFrame(_dic)\n",
    "\n",
    "df = (\n",
    "    _df.join(pd.get_dummies(_df[\"weather\"]))\n",
    "    .drop(\"cloudy\", axis=1)\n",
    "    .assign(\n",
    "        mu=lambda _: true_intercept\n",
    "        + true_coefs[\"temp\"] * _[\"temperature\"]\n",
    "        + true_coefs[\"sunny\"] * _[\"sunny\"]\n",
    "        + true_coefs[\"rainy\"] * _[\"rainy\"]\n",
    "    )\n",
    "    .assign(beer_sales=lambda _: rng.normal(_[\"mu\"], sd))\n",
    ")\n",
    "print(df)"
   ]
  },
  {
   "cell_type": "code",
   "execution_count": null,
   "id": "593290a0",
   "metadata": {
    "lines_to_next_cell": 0
   },
   "outputs": [],
   "source": [
    "grid = sns.FacetGrid(df, hue=\"weather\")\n",
    "grid.map(sns.scatterplot, \"weather\", \"beer_sales\", alpha=0.6)"
   ]
  },
  {
   "cell_type": "code",
   "execution_count": null,
   "id": "68b3c987",
   "metadata": {},
   "outputs": [],
   "source": [
    "gaussian = sm.families.Gaussian()\n",
    "model = smf.glm(\"beer_sales ~ weather\", df, family=gaussian)\n",
    "result = model.fit()\n",
    "print(result.params)"
   ]
  },
  {
   "cell_type": "code",
   "execution_count": null,
   "id": "b8409b41",
   "metadata": {},
   "outputs": [],
   "source": [
    "df_pred = df.assign(pred=lambda _: result.predict(_))\n",
    "grid = sns.FacetGrid(df_pred, hue=\"weather\")\n",
    "grid.map(sns.scatterplot, \"weather\", \"beer_sales\", alpha=0.6)\n",
    "grid.map(sns.scatterplot, \"weather\", \"pred\", color=\"black\", marker=\"x\", s=120)"
   ]
  },
  {
   "cell_type": "markdown",
   "id": "4d230fe0",
   "metadata": {
    "lines_to_next_cell": 0
   },
   "source": [
    "### 共分散分析: GLM with 質的変数 + 量的変数\n"
   ]
  },
  {
   "cell_type": "code",
   "execution_count": null,
   "id": "32905ea9",
   "metadata": {
    "lines_to_next_cell": 0
   },
   "outputs": [],
   "source": [
    "grid = sns.FacetGrid(df, hue=\"weather\")\n",
    "grid.map(sns.scatterplot, \"temperature\", \"beer_sales\", alpha=0.6)\n",
    "grid.add_legend()"
   ]
  },
  {
   "cell_type": "code",
   "execution_count": null,
   "id": "8f8df882",
   "metadata": {
    "lines_to_next_cell": 0
   },
   "outputs": [],
   "source": [
    "gaussian = sm.families.Gaussian()\n",
    "model = smf.glm(\"beer_sales ~ weather + temperature\", df, family=gaussian)\n",
    "result = model.fit()\n",
    "print(result.params)"
   ]
  },
  {
   "cell_type": "code",
   "execution_count": null,
   "id": "44d713ee",
   "metadata": {},
   "outputs": [],
   "source": [
    "df_pred = df.assign(pred=lambda _: result.predict(_))\n",
    "grid = sns.FacetGrid(df_pred, hue=\"weather\")\n",
    "grid.map(sns.scatterplot, \"temperature\", \"beer_sales\", alpha=0.6)\n",
    "grid.map(sns.lineplot, \"temperature\", \"pred\")\n",
    "grid.add_legend()"
   ]
  },
  {
   "cell_type": "markdown",
   "id": "8a3192da",
   "metadata": {},
   "source": [
    "### 交互作用\n",
    "ビール売上の温度依存性が天気によって異なる。"
   ]
  },
  {
   "cell_type": "code",
   "execution_count": null,
   "id": "9974989f",
   "metadata": {
    "lines_to_next_cell": 0
   },
   "outputs": [],
   "source": [
    "sample_size = 200\n",
    "sd = 10\n",
    "true_intercept = 100\n",
    "true_coefs = {\"sunny\": -30, \"temp\": 3, \"sunny:temp\": 2}\n",
    "weather_levels = [\"rainy\", \"sunny\"]\n",
    "temperature = rng.uniform(8, 32, sample_size)\n",
    "weather = rng.choice(weather_levels, sample_size, True)\n",
    "_dic = {\n",
    "    \"temperature\": rng.uniform(8, 32, sample_size),\n",
    "    \"weather\": pd.Categorical(weather, categories=weather_levels),\n",
    "}\n",
    "_df = pd.DataFrame(_dic)\n",
    "df = (\n",
    "    _df.join(pd.get_dummies(_df[\"weather\"]))\n",
    "    .assign(\n",
    "        mu=lambda _: true_intercept\n",
    "        + true_coefs[\"temp\"] * _[\"temperature\"]\n",
    "        + true_coefs[\"sunny\"] * _[\"sunny\"]\n",
    "        + true_coefs[\"sunny:temp\"] * _[\"sunny\"] * _[\"temperature\"]\n",
    "    )\n",
    "    .assign(beer_sales=lambda _: rng.normal(_[\"mu\"], sd))\n",
    ")\n",
    "print(df)"
   ]
  },
  {
   "cell_type": "code",
   "execution_count": null,
   "id": "3387b905",
   "metadata": {
    "lines_to_next_cell": 0
   },
   "outputs": [],
   "source": [
    "grid = sns.FacetGrid(df, hue=\"weather\")\n",
    "grid.map(sns.scatterplot, \"temperature\", \"beer_sales\", alpha=0.6)\n",
    "grid.add_legend()"
   ]
  },
  {
   "cell_type": "code",
   "execution_count": null,
   "id": "87efb70b",
   "metadata": {
    "lines_to_next_cell": 0
   },
   "outputs": [],
   "source": [
    "gaussian = sm.families.Gaussian()\n",
    "formula = \"beer_sales ~ weather + temperature + weather:temperature\"\n",
    "model = smf.glm(formula, df, family=gaussian)\n",
    "result = model.fit()\n",
    "print(result.params)"
   ]
  },
  {
   "cell_type": "code",
   "execution_count": null,
   "id": "956077ec",
   "metadata": {},
   "outputs": [],
   "source": [
    "df_pred = df.assign(pred=lambda _: result.predict(_))\n",
    "grid = sns.FacetGrid(df_pred, hue=\"weather\")\n",
    "grid.map(sns.scatterplot, \"temperature\", \"beer_sales\", alpha=0.6)\n",
    "grid.map(sns.lineplot, \"temperature\", \"pred\")\n",
    "grid.add_legend()"
   ]
  },
  {
   "cell_type": "markdown",
   "id": "d7966eaf",
   "metadata": {},
   "source": [
    "ほかに利用可能な確率分布・リンク関数などはstatsmodels公式サイトを参照:\n",
    "<https://www.statsmodels.org/stable/glm.html>\n",
    "\n",
    "一旦ここまで。講義スライドに戻る。\n",
    "\n",
    "----"
   ]
  },
  {
   "cell_type": "markdown",
   "id": "651d40e6",
   "metadata": {},
   "source": [
    "## penguins データで単回帰と重回帰の練習\n",
    "まずデータをダウンロード。"
   ]
  },
  {
   "cell_type": "code",
   "execution_count": null,
   "id": "c0a762bf",
   "metadata": {
    "lines_to_next_cell": 2
   },
   "outputs": [],
   "source": [
    "penguins = sm.datasets.get_rdataset(\"penguins\", \"palmerpenguins\", True).data\n",
    "print(penguins)"
   ]
  },
  {
   "cell_type": "markdown",
   "id": "c154b628",
   "metadata": {
    "lines_to_next_cell": 0
   },
   "source": [
    "### 単回帰の練習\n",
    "\n",
    "Step 1. まず作図\n",
    "\n",
    "どうやら、重いペンギンほど翼長も長い。"
   ]
  },
  {
   "cell_type": "code",
   "execution_count": null,
   "id": "0605aced",
   "metadata": {},
   "outputs": [],
   "source": [
    "grid = sns.FacetGrid(penguins)\n",
    "grid.map(sns.scatterplot, \"body_mass_g\", \"flipper_length_mm\")"
   ]
  },
  {
   "cell_type": "markdown",
   "id": "6860aedd",
   "metadata": {
    "lines_to_next_cell": 0
   },
   "source": [
    "Step 2. モデル作成、フィッティング\n",
    "\n",
    "とりあえず正規分布・恒等リンクで。"
   ]
  },
  {
   "cell_type": "code",
   "execution_count": null,
   "id": "e20e6165",
   "metadata": {
    "lines_to_next_cell": 0
   },
   "outputs": [],
   "source": [
    "formula = \"flipper_length_mm ~ body_mass_g\"\n",
    "model1 = smf.glm(formula, data=penguins)\n",
    "results1 = model1.fit()\n",
    "print(results1.params)"
   ]
  },
  {
   "cell_type": "code",
   "execution_count": null,
   "id": "69f9bb44",
   "metadata": {
    "lines_to_next_cell": 0
   },
   "outputs": [],
   "source": [
    "print(results1.llf)"
   ]
  },
  {
   "cell_type": "code",
   "execution_count": null,
   "id": "3231cfc4",
   "metadata": {},
   "outputs": [],
   "source": [
    "print(results1.aic)"
   ]
  },
  {
   "cell_type": "markdown",
   "id": "34557c81",
   "metadata": {
    "lines_to_next_cell": 0
   },
   "source": [
    "Step 3. フィッティング結果を作図"
   ]
  },
  {
   "cell_type": "code",
   "execution_count": null,
   "id": "a99c417b",
   "metadata": {
    "lines_to_next_cell": 2
   },
   "outputs": [],
   "source": [
    "pen_pred = penguins.assign(pred=results1.predict(penguins))\n",
    "grid = sns.FacetGrid(pen_pred)\n",
    "grid.map(sns.scatterplot, \"body_mass_g\", \"flipper_length_mm\")\n",
    "grid.map(sns.lineplot, \"body_mass_g\", \"pred\")"
   ]
  },
  {
   "cell_type": "markdown",
   "id": "fba77053",
   "metadata": {},
   "source": [
    "### 重回帰の練習\n",
    "\n",
    "Step 1. まず作図\n",
    "\n",
    "種によって色分けしてみると、傾向の違いが見える。"
   ]
  },
  {
   "cell_type": "code",
   "execution_count": null,
   "id": "aa52381c",
   "metadata": {},
   "outputs": [],
   "source": [
    "palette = {\"Adelie\": \"#ff6600\", \"Gentoo\": \"#c35bcc\", \"Chinstrap\": \"#007174\"}\n",
    "grid = sns.FacetGrid(pen_pred, hue=\"species\", palette=palette)\n",
    "grid.map(sns.scatterplot, \"body_mass_g\", \"flipper_length_mm\")\n",
    "grid.add_legend()"
   ]
  },
  {
   "cell_type": "markdown",
   "id": "885b00c2",
   "metadata": {},
   "source": [
    "Step 2. モデル作成、フィッティング\n",
    "\n",
    "Adelieを基準に、ChinstrapとGentooはそれより長め。<br>\n",
    "体重の効果は単回帰のときより小さい。"
   ]
  },
  {
   "cell_type": "code",
   "execution_count": null,
   "id": "ea7a245c",
   "metadata": {
    "lines_to_next_cell": 0
   },
   "outputs": [],
   "source": [
    "formula = \"flipper_length_mm ~ body_mass_g + species\"\n",
    "model2 = smf.glm(formula, data=penguins)\n",
    "results2 = model2.fit()\n",
    "print(results2.params)"
   ]
  },
  {
   "cell_type": "code",
   "execution_count": null,
   "id": "84ed56df",
   "metadata": {
    "lines_to_next_cell": 0
   },
   "outputs": [],
   "source": [
    "print(results2.llf)"
   ]
  },
  {
   "cell_type": "code",
   "execution_count": null,
   "id": "ecf266ec",
   "metadata": {},
   "outputs": [],
   "source": [
    "print(results2.aic)"
   ]
  },
  {
   "cell_type": "markdown",
   "id": "148c1bc4",
   "metadata": {},
   "source": [
    "Step 3. フィッティング結果を作図"
   ]
  },
  {
   "cell_type": "code",
   "execution_count": null,
   "id": "0c4a3b1c",
   "metadata": {},
   "outputs": [],
   "source": [
    "pen_pred = penguins.assign(pred=results2.predict(penguins))\n",
    "grid = sns.FacetGrid(pen_pred, hue=\"species\", palette=palette)\n",
    "grid.map(sns.scatterplot, \"body_mass_g\", \"flipper_length_mm\")\n",
    "grid.map(sns.lineplot, \"body_mass_g\", \"pred\")\n",
    "grid.add_legend()"
   ]
  },
  {
   "cell_type": "markdown",
   "id": "750ceb3d",
   "metadata": {},
   "source": [
    "**傾き**も種によって違うかも。**交互作用**を入れてみたい。\n",
    "\n",
    "### 重回帰+交互作用の練習\n",
    "\n",
    "Step 2. モデル作成、フィッティング\n",
    "\n",
    "Adelieを基準に、Chinstrapの傾きが結構違う。<br>\n",
    "切片の違いは解釈しにくくなった。"
   ]
  },
  {
   "cell_type": "code",
   "execution_count": null,
   "id": "dafd6a69",
   "metadata": {
    "lines_to_next_cell": 0
   },
   "outputs": [],
   "source": [
    "formula = \"flipper_length_mm ~ body_mass_g + species + body_mass_g:species\"\n",
    "model3 = smf.glm(formula, data=penguins)\n",
    "results3 = model3.fit()\n",
    "print(results3.params)"
   ]
  },
  {
   "cell_type": "code",
   "execution_count": null,
   "id": "c90ed81e",
   "metadata": {
    "lines_to_next_cell": 0
   },
   "outputs": [],
   "source": [
    "print(results3.llf)"
   ]
  },
  {
   "cell_type": "code",
   "execution_count": null,
   "id": "b550fafe",
   "metadata": {},
   "outputs": [],
   "source": [
    "print(results3.aic)"
   ]
  },
  {
   "cell_type": "markdown",
   "id": "a266f8b5",
   "metadata": {},
   "source": [
    "Step 3. フィッティング結果を作図"
   ]
  },
  {
   "cell_type": "code",
   "execution_count": null,
   "id": "3b1467cb",
   "metadata": {},
   "outputs": [],
   "source": [
    "pen_pred = penguins.assign(pred=results3.predict(penguins))\n",
    "grid = sns.FacetGrid(pen_pred, hue=\"species\", palette=palette)\n",
    "grid.map(sns.scatterplot, \"body_mass_g\", \"flipper_length_mm\")\n",
    "grid.map(sns.lineplot, \"body_mass_g\", \"pred\")\n",
    "grid.add_legend()"
   ]
  },
  {
   "cell_type": "markdown",
   "id": "9edf22f1",
   "metadata": {
    "lines_to_next_cell": 0
   },
   "source": [
    "----\n",
    "\n",
    "## GLMの練習\n",
    "\n",
    "🔰クチバシの長さと深さで同じ解析をやってみよう。"
   ]
  },
  {
   "cell_type": "code",
   "execution_count": null,
   "id": "9282cf73",
   "metadata": {},
   "outputs": [],
   "source": [
    "sns.lmplot(\n",
    "    x=\"bill_length_mm\", y=\"bill_depth_mm\", hue=\"species\", palette=palette, data=penguins\n",
    ")"
   ]
  },
  {
   "cell_type": "code",
   "execution_count": null,
   "id": "7609239e",
   "metadata": {},
   "outputs": [],
   "source": [
    "\n",
    "# pyright: reportGeneralTypeIssues=false\n",
    "# pyright: reportMissingParameterType=false\n",
    "# pyright: reportMissingTypeStubs=false\n",
    "# pyright: reportUnknownArgumentType=false\n",
    "# pyright: reportUnknownLambdaType=false\n",
    "# pyright: reportUnknownMemberType=false\n",
    "# pyright: reportUnknownParameterType=false\n",
    "# pyright: reportUnknownVariableType=false"
   ]
  }
 ],
 "metadata": {
  "jupytext": {
   "cell_metadata_filter": "name,-all",
   "main_language": "python",
   "notebook_metadata_filter": "-all"
  }
 },
 "nbformat": 4,
 "nbformat_minor": 5
}
