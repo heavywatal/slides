{
 "cells": [
  {
   "cell_type": "markdown",
   "id": "482536aa",
   "metadata": {},
   "source": [
    "# 統計モデリング概論 DSHC 2022\n",
    "\n",
    "岩嵜 航 (Watal M. Iwasaki, PhD)<br>\n",
    "東北大学 生命科学研究科 進化ゲノミクス分野 特任助教\n",
    "\n",
    "2022-08-17 東京海上 Data Science Hill Climb<br>\n",
    "https://heavywatal.github.io/slides/tokiomarine2022/\n",
    "\n",
    "## 環境セットアップ"
   ]
  },
  {
   "cell_type": "code",
   "execution_count": null,
   "id": "34caddf4",
   "metadata": {},
   "outputs": [],
   "source": [
    "import sys\n",
    "\n",
    "import matplotlib.pyplot as plt\n",
    "import numpy as np\n",
    "import seaborn as sns\n",
    "import pandas as pd\n",
    "import statsmodels.api as sm\n",
    "import statsmodels.formula.api as smf\n",
    "\n",
    "rng = np.random.default_rng(seed=24601)\n",
    "sys.version"
   ]
  },
  {
   "cell_type": "markdown",
   "id": "73492e30",
   "metadata": {},
   "source": [
    "## とにかくGLMを使ってみる練習\n",
    "まず、直線当てはめの復習。"
   ]
  },
  {
   "cell_type": "code",
   "execution_count": null,
   "id": "abd6e27b",
   "metadata": {},
   "outputs": [],
   "source": [
    "_x = rng.uniform(0.4, 1.7, 300)\n",
    "_y = rng.poisson(np.exp(3 * _x - 3))\n",
    "df = pd.DataFrame(dict(x=_x, y=_y))"
   ]
  },
  {
   "cell_type": "code",
   "execution_count": null,
   "id": "91043723",
   "metadata": {},
   "outputs": [],
   "source": [
    "model = smf.ols(\"y ~ x\", df)\n",
    "result = model.fit()\n",
    "df_pred = df.assign(pred=lambda _: result.predict(_))\n",
    "fig, ax = plt.subplots()\n",
    "sns.scatterplot(x=\"x\", y=\"y\", data=df_pred, ax=ax)\n",
    "sns.lineplot(x=\"x\", y=\"pred\", data=df_pred, ax=ax)"
   ]
  },
  {
   "cell_type": "markdown",
   "id": "40ff3599",
   "metadata": {},
   "source": [
    "GLMでは `glm()` を使う。ほかの部分は流用。"
   ]
  },
  {
   "cell_type": "code",
   "execution_count": null,
   "id": "afdd9fcc",
   "metadata": {},
   "outputs": [],
   "source": [
    "model = smf.glm(\"y ~ x\", df)\n",
    "result = model.fit()\n",
    "df_pred = df.assign(pred=lambda _: result.predict(_))\n",
    "fig, ax = plt.subplots()\n",
    "sns.scatterplot(x=\"x\", y=\"y\", data=df_pred, ax=ax)\n",
    "sns.lineplot(x=\"x\", y=\"pred\", data=df_pred, ax=ax)"
   ]
  },
  {
   "cell_type": "markdown",
   "id": "c57cf120",
   "metadata": {},
   "source": [
    "デフォルトでは正規分布・恒等リンクなのでOLSと同じ結果になる。\n",
    "\n",
    "確率分布とリンク関数を変えてみよう。\n",
    "\n",
    "大本命、ポアソン分布・指数リンクを試す。"
   ]
  },
  {
   "cell_type": "code",
   "execution_count": null,
   "id": "dc326a52",
   "metadata": {},
   "outputs": [],
   "source": [
    "fam = sm.families.Poisson(link=sm.families.links.Log())\n",
    "model = smf.glm(\"y ~ x\", df, family=fam)\n",
    "result = model.fit()\n",
    "df_pred = df.assign(pred=lambda _: result.predict(_))\n",
    "fig, ax = plt.subplots()\n",
    "sns.scatterplot(x=\"x\", y=\"y\", data=df_pred, ax=ax)\n",
    "sns.lineplot(x=\"x\", y=\"pred\", data=df_pred, ax=ax)"
   ]
  },
  {
   "cell_type": "markdown",
   "id": "bd2cc0d1",
   "metadata": {
    "lines_to_next_cell": 2
   },
   "source": [
    "いい感じにできた。\n",
    "\n",
    "ほかに利用可能な確率分布・リンク関数などはstatsmodels公式サイトを参照:\n",
    "<https://www.statsmodels.org/stable/glm.html>\n",
    "\n",
    "一旦ここまで。講義スライドに戻る。\n",
    "\n",
    "----"
   ]
  },
  {
   "cell_type": "markdown",
   "id": "1dbe2319",
   "metadata": {},
   "source": [
    "## penguins データで単回帰と重回帰の練習\n",
    "まずデータをダウンロード。"
   ]
  },
  {
   "cell_type": "code",
   "execution_count": null,
   "id": "c025853a",
   "metadata": {
    "lines_to_next_cell": 2
   },
   "outputs": [],
   "source": [
    "penguins = sm.datasets.get_rdataset(\"penguins\", \"palmerpenguins\", True).data\n",
    "print(penguins)"
   ]
  },
  {
   "cell_type": "markdown",
   "id": "4b8ad207",
   "metadata": {
    "lines_to_next_cell": 0
   },
   "source": [
    "### 単回帰の練習\n",
    "\n",
    "Step 1. まず作図\n",
    "\n",
    "どうやら、重いペンギンほど翼長も長い。"
   ]
  },
  {
   "cell_type": "code",
   "execution_count": null,
   "id": "f71ca0e2",
   "metadata": {},
   "outputs": [],
   "source": [
    "grid = sns.FacetGrid(penguins)\n",
    "grid.map(sns.scatterplot, \"body_mass_g\", \"flipper_length_mm\")"
   ]
  },
  {
   "cell_type": "markdown",
   "id": "ad4d1ecc",
   "metadata": {
    "lines_to_next_cell": 0
   },
   "source": [
    "Step 2. モデル作成、フィッティング\n",
    "\n",
    "とりあえず正規分布・恒等リンクで。"
   ]
  },
  {
   "cell_type": "code",
   "execution_count": null,
   "id": "36d036d3",
   "metadata": {},
   "outputs": [],
   "source": [
    "formula = \"flipper_length_mm ~ body_mass_g\"\n",
    "model1 = smf.glm(formula, data=penguins)\n",
    "results1 = model1.fit()\n",
    "print(results1.params)\n",
    "print(results1.llf)\n",
    "print(results1.aic)"
   ]
  },
  {
   "cell_type": "markdown",
   "id": "e40d91ad",
   "metadata": {
    "lines_to_next_cell": 0
   },
   "source": [
    "Step 3. フィッティング結果を作図"
   ]
  },
  {
   "cell_type": "code",
   "execution_count": null,
   "id": "0832cbd1",
   "metadata": {
    "lines_to_next_cell": 2
   },
   "outputs": [],
   "source": [
    "pen_pred = penguins.assign(pred=results1.predict(penguins))\n",
    "grid = sns.FacetGrid(pen_pred)\n",
    "grid.map(sns.scatterplot, \"body_mass_g\", \"flipper_length_mm\")\n",
    "grid.map(sns.lineplot, \"body_mass_g\", \"pred\")"
   ]
  },
  {
   "cell_type": "markdown",
   "id": "5c162b0d",
   "metadata": {},
   "source": [
    "### 重回帰の練習\n",
    "\n",
    "Step 1. まず作図\n",
    "\n",
    "種によって色分けしてみると、傾向の違いが見える。"
   ]
  },
  {
   "cell_type": "code",
   "execution_count": null,
   "id": "e1435e36",
   "metadata": {},
   "outputs": [],
   "source": [
    "palette = {\"Adelie\": \"#ff6600\", \"Gentoo\": \"#c35bcc\", \"Chinstrap\": \"#007174\"}\n",
    "grid = sns.FacetGrid(pen_pred, hue=\"species\", palette=palette)\n",
    "grid.map(sns.scatterplot, \"body_mass_g\", \"flipper_length_mm\")\n",
    "grid.add_legend()"
   ]
  },
  {
   "cell_type": "markdown",
   "id": "14a6f026",
   "metadata": {},
   "source": [
    "Step 2. モデル作成、フィッティング\n",
    "\n",
    "Adelieを基準に、ChinstrapとGentooはそれより長め。<br>\n",
    "体重の効果は単回帰のときより小さい。"
   ]
  },
  {
   "cell_type": "code",
   "execution_count": null,
   "id": "e985c2dc",
   "metadata": {},
   "outputs": [],
   "source": [
    "formula = \"flipper_length_mm ~ body_mass_g + species\"\n",
    "model2 = smf.glm(formula, data=penguins)\n",
    "results2 = model2.fit()\n",
    "print(results2.params)\n",
    "print(results2.llf)\n",
    "print(results2.aic)"
   ]
  },
  {
   "cell_type": "markdown",
   "id": "7f985097",
   "metadata": {},
   "source": [
    "Step 3. フィッティング結果を作図"
   ]
  },
  {
   "cell_type": "code",
   "execution_count": null,
   "id": "1c0fcedd",
   "metadata": {},
   "outputs": [],
   "source": [
    "pen_pred = penguins.assign(pred=results2.predict(penguins))\n",
    "grid = sns.FacetGrid(pen_pred, hue=\"species\", palette=palette)\n",
    "grid.map(sns.scatterplot, \"body_mass_g\", \"flipper_length_mm\")\n",
    "grid.map(sns.lineplot, \"body_mass_g\", \"pred\")\n",
    "grid.add_legend()"
   ]
  },
  {
   "cell_type": "markdown",
   "id": "8e716633",
   "metadata": {},
   "source": [
    "**傾き**も種によって違うかも。**交互作用**を入れてみたい。\n",
    "\n",
    "### 重回帰+交互作用の練習\n",
    "\n",
    "Step 2. モデル作成、フィッティング\n",
    "\n",
    "Adelieを基準に、Chinstrapの傾きが結構違う。<br>\n",
    "切片の違いは解釈しにくくなった。"
   ]
  },
  {
   "cell_type": "code",
   "execution_count": null,
   "id": "6db429ba",
   "metadata": {},
   "outputs": [],
   "source": [
    "formula = \"flipper_length_mm ~ body_mass_g + species + body_mass_g:species\"\n",
    "model3 = smf.glm(formula, data=penguins)\n",
    "results3 = model3.fit()\n",
    "print(results3.params)\n",
    "print(results3.llf)\n",
    "print(results3.aic)"
   ]
  },
  {
   "cell_type": "markdown",
   "id": "70081a10",
   "metadata": {},
   "source": [
    "Step 3. フィッティング結果を作図"
   ]
  },
  {
   "cell_type": "code",
   "execution_count": null,
   "id": "9d38d15f",
   "metadata": {},
   "outputs": [],
   "source": [
    "pen_pred = penguins.assign(pred=results3.predict(penguins))\n",
    "grid = sns.FacetGrid(pen_pred, hue=\"species\", palette=palette)\n",
    "grid.map(sns.scatterplot, \"body_mass_g\", \"flipper_length_mm\")\n",
    "grid.map(sns.lineplot, \"body_mass_g\", \"pred\")\n",
    "grid.add_legend()"
   ]
  },
  {
   "cell_type": "markdown",
   "id": "88a98b45",
   "metadata": {
    "lines_to_next_cell": 0
   },
   "source": [
    "----\n",
    "\n",
    "## GLMの練習\n",
    "\n",
    "🔰クチバシの長さと深さで同じ解析をやってみよう。"
   ]
  },
  {
   "cell_type": "code",
   "execution_count": null,
   "id": "66104f58",
   "metadata": {},
   "outputs": [],
   "source": [
    "sns.lmplot(x=\"bill_length_mm\", y=\"bill_depth_mm\", hue=\"species\",\n",
    "           palette=palette, data=penguins)"
   ]
  },
  {
   "cell_type": "code",
   "execution_count": null,
   "id": "d5ca521b",
   "metadata": {},
   "outputs": [],
   "source": [
    "\n",
    "# pyright: reportGeneralTypeIssues=false\n",
    "# pyright: reportMissingTypeStubs=false\n",
    "# pyright: reportUnknownArgumentType=false\n",
    "# pyright: reportUnknownLambdaType=false\n",
    "# pyright: reportUnknownMemberType=false\n",
    "# pyright: reportUnknownVariableType=false"
   ]
  }
 ],
 "metadata": {
  "jupytext": {
   "cell_metadata_filter": "name,-all",
   "main_language": "python",
   "notebook_metadata_filter": "-all"
  }
 },
 "nbformat": 4,
 "nbformat_minor": 5
}
