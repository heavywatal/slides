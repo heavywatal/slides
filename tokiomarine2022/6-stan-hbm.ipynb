{
 "cells": [
  {
   "cell_type": "markdown",
   "id": "790aeb06",
   "metadata": {},
   "source": [
    "# 統計モデリング概論 DSHC 2022\n",
    "\n",
    "岩嵜 航 (Watal M. Iwasaki, PhD)<br>\n",
    "東北大学 生命科学研究科 進化ゲノミクス分野 特任助教\n",
    "\n",
    "2022-08-24 東京海上 Data Science Hill Climb<br>\n",
    "https://heavywatal.github.io/slides/tokiomarine2022/\n",
    "\n",
    "## 環境セットアップ"
   ]
  },
  {
   "cell_type": "code",
   "execution_count": null,
   "id": "8485be21",
   "metadata": {},
   "outputs": [],
   "source": [
    "from pathlib import Path\n",
    "\n",
    "import arviz as az\n",
    "import matplotlib.pyplot as plt\n",
    "import numpy as np\n",
    "import pandas as pd\n",
    "import seaborn as sns\n",
    "import statsmodels.api as sm\n",
    "from cmdstanpy import CmdStanModel\n",
    "from scipy.special import expit\n",
    "\n",
    "rng = np.random.default_rng(seed=24601)"
   ]
  },
  {
   "cell_type": "markdown",
   "id": "97b9cd3e",
   "metadata": {
    "lines_to_next_cell": 0
   },
   "source": [
    "## 階層ベイズモデル\n",
    "\n",
    "### データ準備\n"
   ]
  },
  {
   "cell_type": "code",
   "execution_count": null,
   "id": "7e8dd7e4",
   "metadata": {},
   "outputs": [],
   "source": [
    "N = 100\n",
    "mu_ind = 0.5\n",
    "sd_ind = 3\n",
    "z = rng.normal(mu_ind, sd_ind, size=N)\n",
    "p = expit(z)\n",
    "y = rng.binomial(8, p)\n",
    "od_data = {\n",
    "    \"N\": N,\n",
    "    \"y\": y,\n",
    "}\n",
    "df_od = pd.DataFrame(dict(z=z, p=p, y=y))"
   ]
  },
  {
   "cell_type": "code",
   "execution_count": null,
   "id": "823dbe1e",
   "metadata": {},
   "outputs": [],
   "source": [
    "model_code = \"\"\"\n",
    "data {\n",
    "  int<lower=0> N;\n",
    "  array[N] int<lower=0> y;\n",
    "}\n",
    "\n",
    "parameters {\n",
    "  real a;           // mean ability\n",
    "  vector[N] r;      // individual difference\n",
    "  real<lower=0> s;  // sd of r\n",
    "}\n",
    "\n",
    "model {\n",
    "  y ~ binomial(8, inv_logit(a + r));\n",
    "  a ~ normal(0, 10);\n",
    "  r ~ normal(0, s);\n",
    "  s ~ exponential(0.01);\n",
    "}\n",
    "\"\"\"\n",
    "stan_file = Path(\"glmm.stan\")\n",
    "if True or not stan_file.exists():\n",
    "    with open(stan_file, \"w\") as fout:\n",
    "        fout.write(model_code)\n",
    "\n",
    "model = CmdStanModel(stan_file=stan_file)"
   ]
  },
  {
   "cell_type": "markdown",
   "id": "f79b29ce",
   "metadata": {
    "lines_to_next_cell": 0
   },
   "source": [
    "### MCMCサンプル"
   ]
  },
  {
   "cell_type": "code",
   "execution_count": null,
   "id": "727a2a6a",
   "metadata": {},
   "outputs": [],
   "source": [
    "fit = model.sample(od_data, chains=4, iter_sampling=2000)"
   ]
  },
  {
   "cell_type": "markdown",
   "id": "dbf86b78",
   "metadata": {
    "lines_to_next_cell": 0
   },
   "source": [
    "### 推定結果の要約と収束診断"
   ]
  },
  {
   "cell_type": "code",
   "execution_count": null,
   "id": "d4e12e0e",
   "metadata": {
    "lines_to_next_cell": 0
   },
   "outputs": [],
   "source": [
    "fit.summary()"
   ]
  },
  {
   "cell_type": "code",
   "execution_count": null,
   "id": "d3c58668",
   "metadata": {},
   "outputs": [],
   "source": [
    "print(fit.diagnose())"
   ]
  },
  {
   "cell_type": "markdown",
   "id": "e811cb7b",
   "metadata": {
    "lines_to_next_cell": 0
   },
   "source": [
    "### トレースプロット確認\n",
    "分布はきれいなひと山、軌跡はきれいな毛虫"
   ]
  },
  {
   "cell_type": "code",
   "execution_count": null,
   "id": "4cd6ed55",
   "metadata": {},
   "outputs": [],
   "source": [
    "stan_data = az.from_cmdstanpy(fit, observed_data=od_data)\n",
    "az.plot_trace(stan_data)"
   ]
  },
  {
   "cell_type": "markdown",
   "id": "f2a22fc4",
   "metadata": {
    "lines_to_next_cell": 0
   },
   "source": [
    "\n",
    "### 推定結果の事後分布を確認\n",
    "- 点推定: 事後分布平均\n",
    "- 区間推定: HDI(Highest Density Interval)"
   ]
  },
  {
   "cell_type": "code",
   "execution_count": null,
   "id": "d43cf752",
   "metadata": {},
   "outputs": [],
   "source": [
    "az.plot_posterior(stan_data)"
   ]
  },
  {
   "cell_type": "markdown",
   "id": "616c9d29",
   "metadata": {
    "lines_to_next_cell": 0
   },
   "source": [
    "事後分布の平均を使って回帰線を引いてみる。"
   ]
  },
  {
   "cell_type": "code",
   "execution_count": null,
   "id": "b7998e87",
   "metadata": {},
   "outputs": [],
   "source": [
    "post_mean = stan_data.posterior.mean().to_pandas()\n",
    "print(post_mean)"
   ]
  },
  {
   "cell_type": "code",
   "execution_count": null,
   "id": "b67a8a41",
   "metadata": {},
   "outputs": [],
   "source": [
    "# pyright: reportGeneralTypeIssues=false\n",
    "# pyright: reportMissingTypeStubs=false\n",
    "# pyright: reportUnknownArgumentType=false\n",
    "# pyright: reportUnknownMemberType=false\n",
    "# pyright: reportUnknownVariableType=false"
   ]
  }
 ],
 "metadata": {
  "jupytext": {
   "cell_metadata_filter": "name,-all",
   "main_language": "python",
   "notebook_metadata_filter": "-all"
  }
 },
 "nbformat": 4,
 "nbformat_minor": 5
}
