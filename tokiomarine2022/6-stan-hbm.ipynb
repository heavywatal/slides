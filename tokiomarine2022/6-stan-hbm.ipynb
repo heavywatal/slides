{
 "cells": [
  {
   "cell_type": "markdown",
   "id": "ba73705b",
   "metadata": {},
   "source": [
    "# 統計モデリング概論 DSHC 2022\n",
    "\n",
    "岩嵜 航 (Watal M. Iwasaki, PhD)<br>\n",
    "東北大学 生命科学研究科 進化ゲノミクス分野 特任助教\n",
    "\n",
    "2022-08-24 東京海上 Data Science Hill Climb<br>\n",
    "https://heavywatal.github.io/slides/tokiomarine2022/\n",
    "\n",
    "## 環境セットアップ"
   ]
  },
  {
   "cell_type": "raw",
   "id": "f0c56553",
   "metadata": {
    "active": "py"
   },
   "source": [
    "%pip install 'matplotlib>=3.1' 'seaborn>=0.11' 'statsmodels'\n",
    "%pip install 'arviz>=0.12.1' 'cmdstanpy>=1.0.4'"
   ]
  },
  {
   "cell_type": "code",
   "execution_count": null,
   "id": "86d61579",
   "metadata": {},
   "outputs": [],
   "source": [
    "import arviz as az\n",
    "import matplotlib.pyplot as plt\n",
    "import numpy as np\n",
    "import pandas as pd\n",
    "import seaborn as sns\n",
    "import statsmodels.api as sm\n",
    "from cmdstanpy import CmdStanModel\n",
    "from scipy import special, stats\n",
    "\n",
    "rng = np.random.default_rng(seed=24601)"
   ]
  },
  {
   "cell_type": "markdown",
   "id": "b11f615a",
   "metadata": {
    "lines_to_next_cell": 0
   },
   "source": [
    "## 階層ベイズモデル\n",
    "\n",
    "### データ準備\n"
   ]
  },
  {
   "cell_type": "code",
   "execution_count": null,
   "id": "3514066a",
   "metadata": {
    "lines_to_next_cell": 0
   },
   "outputs": [],
   "source": [
    "sample_size = 100\n",
    "mu_ind = 0.5\n",
    "sd_ind = 3\n",
    "z = rng.normal(mu_ind, sd_ind, size=sample_size)\n",
    "p = special.expit(z)\n",
    "y = rng.binomial(8, p)\n",
    "mydata = {\n",
    "    \"N\": sample_size,\n",
    "    \"y\": y,\n",
    "}\n",
    "df = pd.DataFrame(dict(z=z, p=p, y=y))"
   ]
  },
  {
   "cell_type": "code",
   "execution_count": null,
   "id": "e6134bf6",
   "metadata": {},
   "outputs": [],
   "source": [
    "sns.countplot(x=\"y\", data=df)"
   ]
  },
  {
   "cell_type": "code",
   "execution_count": null,
   "id": "22e106b5",
   "metadata": {},
   "outputs": [],
   "source": [
    "model = CmdStanModel(stan_file=\"glmm.stan\")"
   ]
  },
  {
   "cell_type": "markdown",
   "id": "256f9149",
   "metadata": {
    "lines_to_next_cell": 0
   },
   "source": [
    "### MCMCサンプル"
   ]
  },
  {
   "cell_type": "code",
   "execution_count": null,
   "id": "e39395f8",
   "metadata": {},
   "outputs": [],
   "source": [
    "fit = model.sample(mydata)"
   ]
  },
  {
   "cell_type": "markdown",
   "id": "8131eb86",
   "metadata": {
    "lines_to_next_cell": 0
   },
   "source": [
    "### 推定結果の要約と収束診断"
   ]
  },
  {
   "cell_type": "code",
   "execution_count": null,
   "id": "7b6422b3",
   "metadata": {
    "lines_to_next_cell": 0
   },
   "outputs": [],
   "source": [
    "fit.summary()"
   ]
  },
  {
   "cell_type": "code",
   "execution_count": null,
   "id": "0b05c8c4",
   "metadata": {},
   "outputs": [],
   "source": [
    "print(fit.diagnose())"
   ]
  },
  {
   "cell_type": "markdown",
   "id": "765882b4",
   "metadata": {
    "lines_to_next_cell": 0
   },
   "source": [
    "### トレースプロット確認"
   ]
  },
  {
   "cell_type": "code",
   "execution_count": null,
   "id": "6ffd5f73",
   "metadata": {},
   "outputs": [],
   "source": [
    "stan_data = az.from_cmdstanpy(fit, observed_data=mydata)\n",
    "az.plot_trace(stan_data)"
   ]
  },
  {
   "cell_type": "markdown",
   "id": "9c32d2d9",
   "metadata": {
    "lines_to_next_cell": 0
   },
   "source": [
    "\n",
    "### 推定結果の事後分布を確認"
   ]
  },
  {
   "cell_type": "code",
   "execution_count": null,
   "id": "cfda0b94",
   "metadata": {},
   "outputs": [],
   "source": [
    "az.plot_posterior(stan_data)"
   ]
  },
  {
   "cell_type": "markdown",
   "id": "d048b36c",
   "metadata": {
    "lines_to_next_cell": 0
   },
   "source": [
    "事後分布の平均を使って予測値を描いてみる。"
   ]
  },
  {
   "cell_type": "code",
   "execution_count": null,
   "id": "6146a38d",
   "metadata": {},
   "outputs": [],
   "source": [
    "df_p = fit.draws_pd(\"p\")\n",
    "p = np.ravel(df_p)\n",
    "\n",
    "y = np.arange(0, 9)\n",
    "count_exp = []\n",
    "for y_i in y:\n",
    "    freqs = stats.binom.pmf(y_i, 8, p)\n",
    "    count_exp.append(sample_size * np.mean(freqs))\n",
    "\n",
    "df_exp = pd.DataFrame({\"y\": y, \"count\": count_exp})\n",
    "sns.countplot(x=\"y\", data=df)\n",
    "sns.scatterplot(x=\"y\", y=\"count\", data=df_exp, color=\"black\", s=120)"
   ]
  },
  {
   "cell_type": "code",
   "execution_count": null,
   "id": "018ebcf6",
   "metadata": {},
   "outputs": [],
   "source": [
    "# pyright: reportGeneralTypeIssues=false\n",
    "# pyright: reportMissingTypeStubs=false\n",
    "# pyright: reportUnknownArgumentType=false\n",
    "# pyright: reportUnknownMemberType=false\n",
    "# pyright: reportUnknownVariableType=false"
   ]
  }
 ],
 "metadata": {
  "jupytext": {
   "cell_metadata_filter": "name,-all",
   "main_language": "python",
   "notebook_metadata_filter": "-all"
  }
 },
 "nbformat": 4,
 "nbformat_minor": 5
}
