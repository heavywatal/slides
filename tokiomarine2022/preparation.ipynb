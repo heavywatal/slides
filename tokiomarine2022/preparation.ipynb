{
 "cells": [
  {
   "cell_type": "markdown",
   "id": "193b5a70",
   "metadata": {},
   "source": [
    "# 環境構築 for 統計モデリング概論 DSHC 2022\n",
    "\n",
    "岩嵜 航 (Watal M. Iwasaki, PhD)<br>\n",
    "東北大学 生命科学研究科 進化ゲノミクス分野 特任助教\n",
    "\n",
    "2022-08-17 東京海上 Data Science Hill Climb<br>\n",
    "\n",
    "## 方針\n",
    "ほかの講義で使っている環境をなるべくそのまま使う。\n",
    "\n",
    "### Google Colab (Python 3.7.13) を使っている場合\n",
    "各資料の頭に `%pip install` コマンドを置いておくので、事前準備は不要。\n",
    "念のため、このファイルが最後まで問題なく動くことを確認する。\n",
    "\n",
    "### ローカルのPython 3.7.7を使っている場合\n",
    "以下の手順でパッケージをいくつか追加する。\n",
    "\n",
    "ただし numpy や pandas のバージョンを上げることになるので、\n",
    "ほかの講義に影響が出るかもしれない。\n",
    "その場合は再び `pip3 install -r requirements.txt` を実行すれば戻せるはず。"
   ]
  },
  {
   "cell_type": "code",
   "execution_count": null,
   "id": "6a68b9f6",
   "metadata": {},
   "outputs": [],
   "source": [
    "import sys\n",
    "print(sys.version)"
   ]
  },
  {
   "cell_type": "markdown",
   "id": "d0090cbe",
   "metadata": {},
   "source": [
    "## パッケージのインストールと動作確認\n",
    "\n",
    "### [statsmodels](https://www.statsmodels.org)"
   ]
  },
  {
   "cell_type": "code",
   "execution_count": null,
   "id": "579e7b0a",
   "metadata": {},
   "outputs": [],
   "source": [
    "%pip install 'statsmodels>=0.13.2'\n",
    "import statsmodels.api as sm  # noqa: E402\n",
    "sm.show_versions()"
   ]
  },
  {
   "cell_type": "markdown",
   "id": "066e0910",
   "metadata": {},
   "source": [
    "### [CmdStanPy](https://cmdstanpy.readthedocs.io)"
   ]
  },
  {
   "cell_type": "code",
   "execution_count": null,
   "id": "a53b61f7",
   "metadata": {},
   "outputs": [],
   "source": [
    "%pip install 'cmdstanpy>=1.0.1'\n",
    "import cmdstanpy\n",
    "print(cmdstanpy.__version__)"
   ]
  },
  {
   "cell_type": "markdown",
   "id": "a6aa3b80",
   "metadata": {},
   "source": [
    "`fbprophet 0.7.1 requires cmdstanpy==0.9.5` だから conflict してるよ、\n",
    "というERRORが出るかもしれないけど今回は `fbprophet` を使わないので無視。\n",
    "\n",
    "[CmdStan](https://mc-stan.org/users/interfaces/cmdstan) 本体をインストール(数分かかるかも):"
   ]
  },
  {
   "cell_type": "code",
   "execution_count": null,
   "id": "d63bd46f",
   "metadata": {},
   "outputs": [],
   "source": [
    "cmdstanpy.install_cmdstan()"
   ]
  },
  {
   "cell_type": "markdown",
   "id": "5a5cd385",
   "metadata": {},
   "source": [
    "[公式example](https://github.com/stan-dev/cmdstanpy#example) が走ることを確認:"
   ]
  },
  {
   "cell_type": "code",
   "execution_count": null,
   "id": "e2dd1170",
   "metadata": {
    "lines_to_next_cell": 2
   },
   "outputs": [],
   "source": [
    "import os\n",
    "from cmdstanpy import cmdstan_path, CmdStanModel\n",
    "\n",
    "# specify locations of Stan program file and data\n",
    "stan_file = os.path.join(cmdstan_path(), 'examples', 'bernoulli', 'bernoulli.stan')\n",
    "data_file = os.path.join(cmdstan_path(), 'examples', 'bernoulli', 'bernoulli.data.json')\n",
    "\n",
    "# instantiate a model; compiles the Stan program by default\n",
    "model = CmdStanModel(stan_file=stan_file)\n",
    "\n",
    "# obtain a posterior sample from the model conditioned on the data\n",
    "fit = model.sample(chains=4, data=data_file)\n",
    "\n",
    "# summarize the results (wraps CmdStan `bin/stansummary`):\n",
    "fit.summary()"
   ]
  },
  {
   "cell_type": "markdown",
   "id": "0e2565c4",
   "metadata": {},
   "source": [
    "### [ArviZ](https://python.arviz.org/)"
   ]
  },
  {
   "cell_type": "code",
   "execution_count": null,
   "id": "fd9cdc2d",
   "metadata": {},
   "outputs": [],
   "source": [
    "%pip install 'arviz>=0.12.1'\n",
    "import arviz as az  # noqa: E402\n",
    "print(az.__version__)"
   ]
  },
  {
   "cell_type": "markdown",
   "id": "58ae504d",
   "metadata": {},
   "source": [
    "上記exampleの可視化:"
   ]
  },
  {
   "cell_type": "code",
   "execution_count": null,
   "id": "fbd4b9f4",
   "metadata": {},
   "outputs": [],
   "source": [
    "cmdstanpy_data = az.from_cmdstanpy(fit)\n",
    "az.plot_trace(cmdstanpy_data)"
   ]
  },
  {
   "cell_type": "code",
   "execution_count": null,
   "id": "a7a06f5d",
   "metadata": {},
   "outputs": [],
   "source": [
    "# pyright: reportMissingTypeStubs=false\n",
    "# pyright: reportUnknownMemberType=false\n",
    "# pyright: reportUnknownVariableType=false\n",
    "# pyright: reportUnknownArgumentType=false"
   ]
  }
 ],
 "metadata": {
  "jupytext": {
   "cell_metadata_filter": "name,-all",
   "main_language": "python",
   "notebook_metadata_filter": "-all"
  }
 },
 "nbformat": 4,
 "nbformat_minor": 5
}
