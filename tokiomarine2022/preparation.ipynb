{
 "cells": [
  {
   "cell_type": "markdown",
   "metadata": {},
   "source": [
    "# 環境構築 for 統計モデリング概論 DSHC 2022\n",
    "\n",
    "岩嵜 航 (Watal M. Iwasaki, PhD)<br>\n",
    "東北大学 生命科学研究科 進化ゲノミクス分野 特任助教\n",
    "\n",
    "2022-08-17 東京海上 Data Science Hill Climb<br>\n",
    "\n",
    "## 方針\n",
    "ほかの講義で使っている環境をなるべくそのまま使う。\n",
    "\n",
    "### Google Colab (Python 3.7.13) を使っている場合\n",
    "各ipynbファイルの頭に `%pip install` コマンドを置いておくので、事前準備は不要。\n",
    "念のため、このファイルが最後まで問題なく動くことを確認する。\n",
    "\n",
    "### ローカルのPython 3.7.7を使っている場合\n",
    "以下の手順でパッケージをいくつか追加する。\n",
    "\n",
    "ほかの講義で入れたいくつかのパッケージのバージョンを上げてしまうので、\n",
    "本講義が終わったら、ほかの講義に参加する前に再び\n",
    "`pip3 install -r requirements.txt` を実行して指定バージョンに戻してください。"
   ]
  },
  {
   "cell_type": "code",
   "execution_count": null,
   "metadata": {},
   "outputs": [],
   "source": [
    "import sys\n",
    "print(sys.version)"
   ]
  },
  {
   "cell_type": "markdown",
   "metadata": {
    "lines_to_next_cell": 0
   },
   "source": [
    "## パッケージのインストールと動作確認\n",
    "\n",
    "ほかの講義でインストール済みだが古すぎるものを更新:"
   ]
  },
  {
   "cell_type": "code",
   "execution_count": null,
   "metadata": {},
   "outputs": [],
   "source": [
    "%pip install -U 'seaborn>=0.11'\n",
    "%pip install -U 'matplotlib>=3.1'"
   ]
  },
  {
   "cell_type": "markdown",
   "metadata": {},
   "source": [
    "### [statsmodels](https://www.statsmodels.org)"
   ]
  },
  {
   "cell_type": "code",
   "execution_count": null,
   "metadata": {},
   "outputs": [],
   "source": [
    "%pip install 'statsmodels>=0.13.2'\n",
    "import statsmodels.api as sm  # noqa: E402\n",
    "sm.show_versions()"
   ]
  },
  {
   "cell_type": "markdown",
   "metadata": {},
   "source": [
    "### [CmdStanPy](https://cmdstanpy.readthedocs.io)"
   ]
  },
  {
   "cell_type": "code",
   "execution_count": null,
   "metadata": {},
   "outputs": [],
   "source": [
    "%pip install 'cmdstanpy>=1.0.4'\n",
    "import cmdstanpy\n",
    "print(cmdstanpy.__version__)"
   ]
  },
  {
   "cell_type": "markdown",
   "metadata": {},
   "source": [
    "`fbprophet 0.7.1 requires cmdstanpy==0.9.5` だから conflict してるよ、\n",
    "というERRORが出るかもしれないけど今回は `fbprophet` を使わないので無視。\n",
    "\n",
    "[CmdStan](https://mc-stan.org/users/interfaces/cmdstan) 本体をインストール(数分かかるかも):"
   ]
  },
  {
   "cell_type": "code",
   "execution_count": null,
   "metadata": {},
   "outputs": [],
   "source": [
    "cmdstanpy.install_cmdstan()\n",
    "# cmdstanpy.install_cmdstan(compiler=True)  # Windowsで何かが無いと怒られたら"
   ]
  },
  {
   "cell_type": "markdown",
   "metadata": {},
   "source": [
    "バージョン 1.0.2, 1.0.3 では正常にインストールされていても\n",
    "`ValueError: CmdStan installataion missing binaries.`\n",
    "というエラーが出る。その上のほうに\n",
    "`CmdStan version 2.**.* already installed` と表示されていればOK。\n",
    "バージョン 1.0.4 で修正済み。\n",
    "\n",
    "[公式example](https://github.com/stan-dev/cmdstanpy#example) が走ることを確認:"
   ]
  },
  {
   "cell_type": "code",
   "execution_count": null,
   "metadata": {
    "lines_to_next_cell": 2
   },
   "outputs": [],
   "source": [
    "import os\n",
    "from cmdstanpy import cmdstan_path, CmdStanModel\n",
    "\n",
    "# specify locations of Stan program file and data\n",
    "stan_file = os.path.join(cmdstan_path(), 'examples', 'bernoulli', 'bernoulli.stan')\n",
    "data_file = os.path.join(cmdstan_path(), 'examples', 'bernoulli', 'bernoulli.data.json')\n",
    "\n",
    "# instantiate a model; compiles the Stan program by default\n",
    "model = CmdStanModel(stan_file=stan_file)\n",
    "\n",
    "# obtain a posterior sample from the model conditioned on the data\n",
    "fit = model.sample(chains=4, data=data_file)\n",
    "\n",
    "# summarize the results (wraps CmdStan `bin/stansummary`):\n",
    "fit.summary()"
   ]
  },
  {
   "cell_type": "markdown",
   "metadata": {},
   "source": [
    "### [ArviZ](https://python.arviz.org/)"
   ]
  },
  {
   "cell_type": "code",
   "execution_count": null,
   "metadata": {},
   "outputs": [],
   "source": [
    "%pip install 'arviz>=0.12.1'\n",
    "import arviz as az  # noqa: E402\n",
    "print(az.__version__)"
   ]
  },
  {
   "cell_type": "markdown",
   "metadata": {},
   "source": [
    "上記exampleの可視化:"
   ]
  },
  {
   "cell_type": "code",
   "execution_count": null,
   "metadata": {},
   "outputs": [],
   "source": [
    "cmdstanpy_data = az.from_cmdstanpy(fit)\n",
    "az.plot_trace(cmdstanpy_data)"
   ]
  },
  {
   "cell_type": "code",
   "execution_count": null,
   "metadata": {},
   "outputs": [],
   "source": [
    "# pyright: reportMissingTypeStubs=false\n",
    "# pyright: reportPrivateImportUsage=false\n",
    "# pyright: reportUnknownArgumentType=false\n",
    "# pyright: reportUnknownMemberType=false\n",
    "# pyright: reportUnknownVariableType=false"
   ]
  }
 ],
 "metadata": {
  "jupytext": {
   "cell_metadata_filter": "name,-all",
   "main_language": "python",
   "notebook_metadata_filter": "-all"
  }
 },
 "nbformat": 4,
 "nbformat_minor": 5
}
