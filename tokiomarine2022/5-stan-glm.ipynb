{
 "cells": [
  {
   "cell_type": "markdown",
   "id": "603626c1",
   "metadata": {},
   "source": [
    "# 統計モデリング概論 DSHC 2022\n",
    "\n",
    "岩嵜 航 (Watal M. Iwasaki, PhD)<br>\n",
    "東北大学 生命科学研究科 進化ゲノミクス分野 特任助教\n",
    "\n",
    "2022-08-24 東京海上 Data Science Hill Climb<br>\n",
    "https://heavywatal.github.io/slides/tokiomarine2022/\n",
    "\n",
    "## PythonからStanを使う、おおまかな流れ\n",
    "- データ準備\n",
    "- Stan言語でモデルを書く\n",
    "- それをコンパイルして機械語に翻訳→実行ファイル\n",
    "- 実行ファイルにデータを渡してMCMCサンプリング\n",
    "- 結果を見る\n",
    "\n",
    "## 環境セットアップ"
   ]
  },
  {
   "cell_type": "code",
   "execution_count": null,
   "id": "9bb8a25f",
   "metadata": {},
   "outputs": [],
   "source": [
    "from pathlib import Path\n",
    "\n",
    "import arviz as az\n",
    "import matplotlib.pyplot as plt\n",
    "import numpy as np\n",
    "import pandas as pd\n",
    "import seaborn as sns\n",
    "import statsmodels.api as sm\n",
    "from cmdstanpy import CmdStanModel\n",
    "from scipy.special import expit\n",
    "\n",
    "rng = np.random.default_rng(seed=24601)"
   ]
  },
  {
   "cell_type": "markdown",
   "id": "ff719ef3",
   "metadata": {
    "lines_to_next_cell": 0
   },
   "source": [
    "## 単純な直線回帰\n",
    "\n",
    "### データ準備\n"
   ]
  },
  {
   "cell_type": "code",
   "execution_count": null,
   "id": "d41064d0",
   "metadata": {},
   "outputs": [],
   "source": [
    "penguins = sm.datasets.get_rdataset(\"penguins\", \"palmerpenguins\", True).data\n",
    "penguins_dropna = penguins.dropna()\n",
    "print(penguins_dropna)\n",
    "pen_data = {\n",
    "    \"N\": penguins_dropna.shape[0],\n",
    "    \"body_mass_g\": penguins_dropna.body_mass_g,\n",
    "    \"flipper_length_mm\": penguins_dropna.flipper_length_mm,\n",
    "}"
   ]
  },
  {
   "cell_type": "markdown",
   "id": "5a2a055e",
   "metadata": {
    "lines_to_next_cell": 0
   },
   "source": [
    "### モデルの定義"
   ]
  },
  {
   "cell_type": "code",
   "execution_count": null,
   "id": "bf6d72fa",
   "metadata": {},
   "outputs": [],
   "source": [
    "model_code = \"\"\"\n",
    "data {\n",
    "  int<lower=0> N;\n",
    "  vector<lower=0>[N] body_mass_g;\n",
    "  vector<lower=0>[N] flipper_length_mm;\n",
    "}\n",
    "\n",
    "parameters {\n",
    "  real intercept;\n",
    "  real slope;\n",
    "  real<lower=0> sigma;\n",
    "}\n",
    "\n",
    "model {\n",
    "  flipper_length_mm ~ normal(intercept + slope * body_mass_g, sigma);\n",
    "}\n",
    "\"\"\"\n",
    "stan_file = Path(\"penguins-lm.stan\")\n",
    "if not stan_file.exists():\n",
    "    with open(stan_file, \"w\") as fout:\n",
    "        fout.write(model_code)\n",
    "\n",
    "model = CmdStanModel(stan_file=stan_file)"
   ]
  },
  {
   "cell_type": "markdown",
   "id": "9870ade0",
   "metadata": {
    "lines_to_next_cell": 0
   },
   "source": [
    "### MCMCサンプル"
   ]
  },
  {
   "cell_type": "code",
   "execution_count": null,
   "id": "67c346c4",
   "metadata": {},
   "outputs": [],
   "source": [
    "fit = model.sample(pen_data, chains=4, iter_sampling=2000)"
   ]
  },
  {
   "cell_type": "markdown",
   "id": "92f1b8fa",
   "metadata": {
    "lines_to_next_cell": 0
   },
   "source": [
    "### 推定結果の要約と収束診断"
   ]
  },
  {
   "cell_type": "code",
   "execution_count": null,
   "id": "d89b7221",
   "metadata": {
    "lines_to_next_cell": 0
   },
   "outputs": [],
   "source": [
    "fit.summary()"
   ]
  },
  {
   "cell_type": "code",
   "execution_count": null,
   "id": "312adc38",
   "metadata": {},
   "outputs": [],
   "source": [
    "print(fit.diagnose())"
   ]
  },
  {
   "cell_type": "markdown",
   "id": "dd05d5b3",
   "metadata": {
    "lines_to_next_cell": 0
   },
   "source": [
    "### トレースプロット確認\n",
    "分布はきれいなひと山、軌跡はきれいな毛虫"
   ]
  },
  {
   "cell_type": "code",
   "execution_count": null,
   "id": "79e1286c",
   "metadata": {},
   "outputs": [],
   "source": [
    "stan_data = az.from_cmdstanpy(fit, observed_data=pen_data)\n",
    "az.plot_trace(stan_data)"
   ]
  },
  {
   "cell_type": "markdown",
   "id": "f5a51624",
   "metadata": {
    "lines_to_next_cell": 0
   },
   "source": [
    "\n",
    "### 推定結果の事後分布を確認\n",
    "- 点推定: 事後分布平均\n",
    "- 区間推定: HDI(Highest Density Interval)"
   ]
  },
  {
   "cell_type": "code",
   "execution_count": null,
   "id": "6206744a",
   "metadata": {},
   "outputs": [],
   "source": [
    "az.plot_posterior(stan_data)"
   ]
  },
  {
   "cell_type": "markdown",
   "id": "2bb0591e",
   "metadata": {
    "lines_to_next_cell": 0
   },
   "source": [
    "事後分布の平均を使って回帰線を引いてみる。"
   ]
  },
  {
   "cell_type": "code",
   "execution_count": null,
   "id": "17105a13",
   "metadata": {},
   "outputs": [],
   "source": [
    "post_mean = stan_data.posterior.mean().to_pandas()"
   ]
  },
  {
   "cell_type": "code",
   "execution_count": null,
   "id": "15a90ad0",
   "metadata": {
    "lines_to_next_cell": 2
   },
   "outputs": [],
   "source": [
    "pen_pred = penguins.assign(\n",
    "    pred=post_mean[\"intercept\"] + penguins_dropna.body_mass_g * post_mean[\"slope\"]\n",
    ")\n",
    "grid = sns.FacetGrid(pen_pred)\n",
    "grid.map(sns.scatterplot, \"body_mass_g\", \"flipper_length_mm\")\n",
    "grid.map(sns.lineplot, \"body_mass_g\", \"pred\")"
   ]
  },
  {
   "cell_type": "markdown",
   "id": "7289157f",
   "metadata": {},
   "source": [
    "### 🔰 直線回帰の練習問題\n",
    "TODO"
   ]
  },
  {
   "cell_type": "code",
   "execution_count": null,
   "id": "c3ca94d8",
   "metadata": {},
   "outputs": [],
   "source": []
  },
  {
   "cell_type": "markdown",
   "id": "e03592a5",
   "metadata": {},
   "source": [
    "----\n",
    "\n",
    "## Stanでポアソン回帰"
   ]
  },
  {
   "cell_type": "code",
   "execution_count": null,
   "id": "f53c80b3",
   "metadata": {
    "lines_to_next_cell": 0
   },
   "outputs": [],
   "source": [
    "_N = 300\n",
    "_x = rng.uniform(0.4, 1.7, _N)\n",
    "_y = rng.poisson(np.exp(3 * _x - 3))\n",
    "df_poisson = pd.DataFrame(dict(x=_x, y=_y))\n",
    "poisson_data = {\n",
    "    \"N\": _N,\n",
    "    \"x\": _x,\n",
    "    \"y\": _y,\n",
    "}"
   ]
  },
  {
   "cell_type": "code",
   "execution_count": null,
   "id": "4af3f4d2",
   "metadata": {},
   "outputs": [],
   "source": [
    "model_code = \"\"\"\n",
    "data {\n",
    "  int<lower=0> N;\n",
    "  vector<lower=0>[N] x;\n",
    "  array[N] int<lower=0> y;\n",
    "}\n",
    "\n",
    "parameters {\n",
    "  real intercept;\n",
    "  real slope;\n",
    "}\n",
    "\n",
    "model {\n",
    "  y ~ poisson(exp(intercept + slope * x));\n",
    "}\n",
    "\"\"\"\n",
    "stan_file = Path(\"poisson.stan\")\n",
    "if not stan_file.exists():\n",
    "    with open(stan_file, \"w\") as fout:\n",
    "        fout.write(model_code)\n",
    "\n",
    "model = CmdStanModel(stan_file=stan_file)"
   ]
  },
  {
   "cell_type": "code",
   "execution_count": null,
   "id": "e2d50909",
   "metadata": {},
   "outputs": [],
   "source": [
    "fit = model.sample(poisson_data, chains=4, iter_sampling=2000)\n",
    "fit.summary()\n",
    "print(fit.diagnose())"
   ]
  },
  {
   "cell_type": "code",
   "execution_count": null,
   "id": "ece739f6",
   "metadata": {
    "lines_to_next_cell": 0
   },
   "outputs": [],
   "source": [
    "stan_data = az.from_cmdstanpy(fit, observed_data=poisson_data)\n",
    "az.plot_trace(stan_data)\n",
    "az.plot_posterior(stan_data)"
   ]
  },
  {
   "cell_type": "code",
   "execution_count": null,
   "id": "41126198",
   "metadata": {},
   "outputs": [],
   "source": [
    "post_mean = stan_data.posterior.mean().to_pandas()\n",
    "df_poisson_pred = df_poisson.assign(\n",
    "    pred=np.exp(post_mean[\"intercept\"] + post_mean[\"slope\"] * df_poisson.x)\n",
    ")\n",
    "grid = sns.FacetGrid(df_poisson_pred)\n",
    "grid.map(sns.scatterplot, \"x\", \"y\")\n",
    "grid.map(sns.lineplot, \"x\", \"pred\")\n",
    "grid.add_legend()"
   ]
  },
  {
   "cell_type": "markdown",
   "id": "428c6951",
   "metadata": {},
   "source": [
    "### 🔰 ポアソン回帰の練習問題\n",
    "TODO"
   ]
  },
  {
   "cell_type": "code",
   "execution_count": null,
   "id": "534efc3d",
   "metadata": {},
   "outputs": [],
   "source": []
  },
  {
   "cell_type": "markdown",
   "id": "31ce508c",
   "metadata": {
    "lines_to_next_cell": 0
   },
   "source": [
    "----\n",
    "## Stanでロジスティック回帰\n"
   ]
  },
  {
   "cell_type": "code",
   "execution_count": null,
   "id": "4a146832",
   "metadata": {
    "lines_to_next_cell": 0
   },
   "outputs": [],
   "source": [
    "_N = 200\n",
    "_n = 10\n",
    "temp = rng.uniform(-10, 35, size=_N)\n",
    "logit_p = -3 + np.array(0.3) * temp\n",
    "p = expit(logit_p)\n",
    "sales = rng.binomial(_n, p)\n",
    "\n",
    "df_logistic = pd.DataFrame(dict(temp=temp, sales=sales))\n",
    "logistic_data = {\n",
    "    \"N\": _N,\n",
    "    \"temp\": temp,\n",
    "    \"sales\": sales,\n",
    "}"
   ]
  },
  {
   "cell_type": "code",
   "execution_count": null,
   "id": "a770f68a",
   "metadata": {},
   "outputs": [],
   "source": [
    "model_code = \"\"\"\n",
    "data {\n",
    "  int<lower=0> N;\n",
    "  vector[N] temp;\n",
    "  array[N] int<lower=0,upper=10> sales;\n",
    "}\n",
    "\n",
    "parameters {\n",
    "  real intercept;\n",
    "  real slope;\n",
    "}\n",
    "\n",
    "model {\n",
    "  sales ~ binomial(10, inv_logit(intercept + slope * temp));\n",
    "}\n",
    "\"\"\"\n",
    "stan_file = Path(\"binomial.stan\")\n",
    "if not stan_file.exists():\n",
    "    with open(stan_file, \"w\") as fout:\n",
    "        fout.write(model_code)\n",
    "\n",
    "model = CmdStanModel(stan_file=stan_file)"
   ]
  },
  {
   "cell_type": "code",
   "execution_count": null,
   "id": "6ec8e75d",
   "metadata": {},
   "outputs": [],
   "source": [
    "fit = model.sample(logistic_data, chains=4, iter_sampling=2000)\n",
    "fit.summary()\n",
    "print(fit.diagnose())"
   ]
  },
  {
   "cell_type": "code",
   "execution_count": null,
   "id": "650673da",
   "metadata": {
    "lines_to_next_cell": 0
   },
   "outputs": [],
   "source": [
    "stan_data = az.from_cmdstanpy(fit, observed_data=logistic_data)\n",
    "az.plot_trace(stan_data)\n",
    "az.plot_posterior(stan_data)"
   ]
  },
  {
   "cell_type": "code",
   "execution_count": null,
   "id": "bc95f28a",
   "metadata": {},
   "outputs": [],
   "source": [
    "post_mean = stan_data.posterior.mean().to_pandas()\n",
    "df_logistic_pred = df_logistic.assign(\n",
    "    pred=10 * expit(post_mean[\"intercept\"] + post_mean[\"slope\"] * df_logistic.temp)\n",
    ")\n",
    "grid = sns.FacetGrid(df_logistic_pred)\n",
    "grid.map(sns.scatterplot, \"temp\", \"sales\")\n",
    "grid.map(sns.lineplot, \"temp\", \"pred\")\n",
    "grid.add_legend()"
   ]
  },
  {
   "cell_type": "markdown",
   "id": "2a960065",
   "metadata": {
    "lines_to_next_cell": 0
   },
   "source": [
    "\n",
    "### 🔰 ロジスティック回帰の練習問題\n",
    "TODO"
   ]
  },
  {
   "cell_type": "code",
   "execution_count": null,
   "id": "55b2f631",
   "metadata": {},
   "outputs": [],
   "source": []
  },
  {
   "cell_type": "markdown",
   "id": "c9a179a7",
   "metadata": {
    "lines_to_next_cell": 0
   },
   "source": [
    "----\n",
    "\n",
    "## Stanで重回帰\n",
    "\n",
    "### データ準備"
   ]
  },
  {
   "cell_type": "code",
   "execution_count": null,
   "id": "3ecee317",
   "metadata": {},
   "outputs": [],
   "source": [
    "penguins_sp = (penguins_dropna\n",
    "  .assign(sp_Chinstrap=(penguins_dropna.species == \"Chinstrap\").astype(int))\n",
    "  .assign(sp_Gentoo=(penguins_dropna.species == \"Gentoo\").astype(int))\n",
    ")\n",
    "pen_sp_data = {\n",
    "    \"N\": penguins_sp.shape[0],\n",
    "    \"body_mass_g\": penguins_sp.body_mass_g,\n",
    "    \"flipper_length_mm\": penguins_sp.flipper_length_mm,\n",
    "    \"sp_Chinstrap\": penguins_sp.sp_Chinstrap,\n",
    "    \"sp_Gentoo\": penguins_sp.sp_Gentoo,\n",
    "}"
   ]
  },
  {
   "cell_type": "markdown",
   "id": "bca1fff7",
   "metadata": {
    "lines_to_next_cell": 0
   },
   "source": [
    "### モデルの定義"
   ]
  },
  {
   "cell_type": "code",
   "execution_count": null,
   "id": "0a235486",
   "metadata": {},
   "outputs": [],
   "source": [
    "model_code = \"\"\"\n",
    "data {\n",
    "  int<lower=0> N;\n",
    "  vector<lower=0>[N] body_mass_g;\n",
    "  vector<lower=0>[N] flipper_length_mm;\n",
    "  array[N] int<lower=0,upper=1> sp_Chinstrap;\n",
    "  array[N] int<lower=0,upper=1> sp_Gentoo;\n",
    "}\n",
    "\n",
    "parameters {\n",
    "  real intercept;\n",
    "  real slope;\n",
    "  real b_chinstrap;\n",
    "  real b_gentoo;\n",
    "  real<lower=0> sigma;\n",
    "}\n",
    "\n",
    "model {\n",
    "  array[N] real mu;\n",
    "  for (i in 1:N) {\n",
    "    mu[i] = intercept + slope * body_mass_g[i] + b_chinstrap * sp_Chinstrap[i] + b_gentoo * sp_Gentoo[i];\n",
    "  }\n",
    "  flipper_length_mm ~ normal(mu, sigma);\n",
    "}\n",
    "\"\"\"\n",
    "stan_file = Path(\"penguins-multiple.stan\")\n",
    "if not stan_file.exists():\n",
    "    with open(stan_file, \"w\") as fout:\n",
    "        fout.write(model_code)\n",
    "\n",
    "model = CmdStanModel(stan_file=stan_file)"
   ]
  },
  {
   "cell_type": "markdown",
   "id": "2c078bf8",
   "metadata": {
    "lines_to_next_cell": 0
   },
   "source": [
    "### MCMCサンプル"
   ]
  },
  {
   "cell_type": "code",
   "execution_count": null,
   "id": "2a1fcfb9",
   "metadata": {},
   "outputs": [],
   "source": [
    "fit = model.sample(pen_sp_data, chains=4, iter_sampling=2000)"
   ]
  },
  {
   "cell_type": "markdown",
   "id": "ac9e6e3a",
   "metadata": {
    "lines_to_next_cell": 0
   },
   "source": [
    "### 推定結果の要約と収束診断"
   ]
  },
  {
   "cell_type": "code",
   "execution_count": null,
   "id": "923c7903",
   "metadata": {
    "lines_to_next_cell": 0
   },
   "outputs": [],
   "source": [
    "fit.summary()"
   ]
  },
  {
   "cell_type": "code",
   "execution_count": null,
   "id": "0602f128",
   "metadata": {},
   "outputs": [],
   "source": [
    "print(fit.diagnose())"
   ]
  },
  {
   "cell_type": "markdown",
   "id": "5e447e3f",
   "metadata": {
    "lines_to_next_cell": 0
   },
   "source": [
    "### トレースプロット確認\n",
    "分布はきれいなひと山、軌跡はきれいな毛虫"
   ]
  },
  {
   "cell_type": "code",
   "execution_count": null,
   "id": "2523146d",
   "metadata": {},
   "outputs": [],
   "source": [
    "stan_data = az.from_cmdstanpy(fit, observed_data=pen_sp_data)\n",
    "az.plot_trace(stan_data)"
   ]
  },
  {
   "cell_type": "markdown",
   "id": "87e2b672",
   "metadata": {
    "lines_to_next_cell": 0
   },
   "source": [
    "\n",
    "### 推定結果の事後分布を確認\n",
    "- 点推定: 事後分布平均\n",
    "- 区間推定: HDI(Highest Density Interval)"
   ]
  },
  {
   "cell_type": "code",
   "execution_count": null,
   "id": "b882a695",
   "metadata": {},
   "outputs": [],
   "source": [
    "az.plot_posterior(stan_data)"
   ]
  },
  {
   "cell_type": "markdown",
   "id": "e3425f5d",
   "metadata": {
    "lines_to_next_cell": 0
   },
   "source": [
    "事後分布の平均を使って回帰線を引いてみる。"
   ]
  },
  {
   "cell_type": "code",
   "execution_count": null,
   "id": "0408cc6e",
   "metadata": {},
   "outputs": [],
   "source": [
    "post_mean = stan_data.posterior.mean().to_pandas()"
   ]
  },
  {
   "cell_type": "code",
   "execution_count": null,
   "id": "588943f8",
   "metadata": {},
   "outputs": [],
   "source": [
    "pen_pred = penguins_sp.assign(\n",
    "    pred=post_mean[\"intercept\"] + penguins_sp.body_mass_g * post_mean[\"slope\"] +\n",
    "         penguins_sp[\"sp_Chinstrap\"] * post_mean[\"b_chinstrap\"] +\n",
    "         penguins_sp[\"sp_Gentoo\"] * post_mean[\"b_gentoo\"]\n",
    ")\n",
    "palette = {\"Adelie\": \"#ff6600\", \"Gentoo\": \"#c35bcc\", \"Chinstrap\": \"#007174\"}\n",
    "grid = sns.FacetGrid(pen_pred, hue=\"species\", palette=palette)\n",
    "grid.map(sns.scatterplot, \"body_mass_g\", \"flipper_length_mm\")\n",
    "grid.map(sns.lineplot, \"body_mass_g\", \"pred\")\n",
    "grid.add_legend()"
   ]
  },
  {
   "cell_type": "markdown",
   "id": "a6042394",
   "metadata": {
    "lines_to_next_cell": 0
   },
   "source": [
    "\n",
    "### 🔰 重回帰の練習問題\n",
    "TODO"
   ]
  },
  {
   "cell_type": "code",
   "execution_count": null,
   "id": "8f199a1e",
   "metadata": {},
   "outputs": [],
   "source": []
  },
  {
   "cell_type": "code",
   "execution_count": null,
   "id": "fb5409f1",
   "metadata": {},
   "outputs": [],
   "source": [
    "# pyright: reportGeneralTypeIssues=false\n",
    "# pyright: reportMissingTypeStubs=false\n",
    "# pyright: reportUnknownArgumentType=false\n",
    "# pyright: reportUnknownMemberType=false\n",
    "# pyright: reportUnknownVariableType=false"
   ]
  }
 ],
 "metadata": {
  "jupytext": {
   "cell_metadata_filter": "name,-all",
   "main_language": "python",
   "notebook_metadata_filter": "-all"
  }
 },
 "nbformat": 4,
 "nbformat_minor": 5
}
