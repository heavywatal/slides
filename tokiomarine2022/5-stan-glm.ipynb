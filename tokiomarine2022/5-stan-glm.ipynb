{
 "cells": [
  {
   "cell_type": "markdown",
   "id": "0e7b73b1",
   "metadata": {},
   "source": [
    "# 統計モデリング概論 DSHC 2022\n",
    "\n",
    "岩嵜 航 (Watal M. Iwasaki, PhD)<br>\n",
    "東北大学 生命科学研究科 進化ゲノミクス分野 特任助教\n",
    "\n",
    "2022-08-24 東京海上 Data Science Hill Climb<br>\n",
    "https://heavywatal.github.io/slides/tokiomarine2022/\n",
    "\n",
    "## 環境セットアップ"
   ]
  },
  {
   "cell_type": "raw",
   "id": "cecc2c08",
   "metadata": {
    "active": "py"
   },
   "source": [
    "%pip install 'matplotlib>=3.1' 'seaborn>=0.11' 'statsmodels'\n",
    "%pip install 'arviz>=0.12.1' 'cmdstanpy>=1.0.4'"
   ]
  },
  {
   "cell_type": "code",
   "execution_count": null,
   "id": "5d03e048",
   "metadata": {},
   "outputs": [],
   "source": [
    "import arviz as az\n",
    "import matplotlib.pyplot as plt\n",
    "import numpy as np\n",
    "import pandas as pd\n",
    "import seaborn as sns\n",
    "import statsmodels.api as sm\n",
    "from cmdstanpy import CmdStanModel\n",
    "from scipy import special\n",
    "\n",
    "rng = np.random.default_rng(seed=24601)"
   ]
  },
  {
   "cell_type": "markdown",
   "id": "45246a73",
   "metadata": {
    "lines_to_next_cell": 0
   },
   "source": [
    "## StanでベイジアンGLM\n",
    "\n",
    "## Stanで直線回帰\n"
   ]
  },
  {
   "cell_type": "code",
   "execution_count": null,
   "id": "04b7c263",
   "metadata": {
    "lines_to_next_cell": 0
   },
   "outputs": [],
   "source": [
    "sample_size = 300\n",
    "true_intercept = -3\n",
    "true_coef = 3\n",
    "x = rng.uniform(0.4, 1.7, sample_size)\n",
    "lambda_ = np.exp(true_intercept + true_coef * x)\n",
    "y = rng.poisson(lambda_)\n",
    "df = pd.DataFrame(dict(x=x, y=y))\n",
    "print(df)"
   ]
  },
  {
   "cell_type": "code",
   "execution_count": null,
   "id": "29e0b0e0",
   "metadata": {
    "lines_to_next_cell": 0
   },
   "outputs": [],
   "source": [
    "grid = sns.FacetGrid(df)\n",
    "grid.map(sns.scatterplot, \"x\", \"y\")"
   ]
  },
  {
   "cell_type": "markdown",
   "id": "dd2d0f8c",
   "metadata": {
    "lines_to_next_cell": 0
   },
   "source": [
    "stanに渡せるdict形式に加工"
   ]
  },
  {
   "cell_type": "code",
   "execution_count": null,
   "id": "ec38ab17",
   "metadata": {
    "lines_to_next_cell": 0
   },
   "outputs": [],
   "source": [
    "mydata = {\"N\": sample_size}\n",
    "mydata.update(df.to_dict(\"list\"))\n",
    "# print(mydata)"
   ]
  },
  {
   "cell_type": "markdown",
   "id": "cadf6a5f",
   "metadata": {
    "lines_to_next_cell": 0
   },
   "source": [
    "### モデルのコンパイル\n",
    "スライドにあるコードを `lm.stan` というファイルに保存しておき、読み込む。"
   ]
  },
  {
   "cell_type": "code",
   "execution_count": null,
   "id": "301f5b68",
   "metadata": {},
   "outputs": [],
   "source": [
    "model = CmdStanModel(stan_file=\"lm.stan\")"
   ]
  },
  {
   "cell_type": "markdown",
   "id": "1019fb70",
   "metadata": {
    "lines_to_next_cell": 0
   },
   "source": [
    "### MCMCサンプル"
   ]
  },
  {
   "cell_type": "code",
   "execution_count": null,
   "id": "5a537f94",
   "metadata": {},
   "outputs": [],
   "source": [
    "fit = model.sample(mydata, chains=4, iter_sampling=2000)"
   ]
  },
  {
   "cell_type": "markdown",
   "id": "d8ea29c5",
   "metadata": {
    "lines_to_next_cell": 0
   },
   "source": [
    "### 結果の確認\n",
    "結果はchainごとにファイル出力されているらしい。"
   ]
  },
  {
   "cell_type": "code",
   "execution_count": null,
   "id": "2c3147bb",
   "metadata": {},
   "outputs": [],
   "source": [
    "print(fit)"
   ]
  },
  {
   "cell_type": "markdown",
   "id": "32dce418",
   "metadata": {
    "lines_to_next_cell": 0
   },
   "source": [
    "`numpy.ndarray` 型か `pandas.DataFrame` 型で全部参照できる。\n",
    "が、生の値を見たところであまりよくわからない。"
   ]
  },
  {
   "cell_type": "code",
   "execution_count": null,
   "id": "ab06d116",
   "metadata": {
    "lines_to_next_cell": 0
   },
   "outputs": [],
   "source": [
    "print(fit.draws().shape)  # Array"
   ]
  },
  {
   "cell_type": "code",
   "execution_count": null,
   "id": "d33e0ad8",
   "metadata": {},
   "outputs": [],
   "source": [
    "print(fit.draws_pd())  # DataFrame"
   ]
  },
  {
   "cell_type": "markdown",
   "id": "ad272775",
   "metadata": {
    "lines_to_next_cell": 0
   },
   "source": [
    "推定結果の要約と収束診断"
   ]
  },
  {
   "cell_type": "code",
   "execution_count": null,
   "id": "f93ece05",
   "metadata": {
    "lines_to_next_cell": 0
   },
   "outputs": [],
   "source": [
    "fit.summary()"
   ]
  },
  {
   "cell_type": "code",
   "execution_count": null,
   "id": "3986ff47",
   "metadata": {},
   "outputs": [],
   "source": [
    "print(fit.diagnose())"
   ]
  },
  {
   "cell_type": "markdown",
   "id": "173329bc",
   "metadata": {
    "lines_to_next_cell": 0
   },
   "source": [
    "トレースプロット確認"
   ]
  },
  {
   "cell_type": "code",
   "execution_count": null,
   "id": "03729117",
   "metadata": {},
   "outputs": [],
   "source": [
    "stan_data = az.from_cmdstanpy(fit)\n",
    "az.plot_trace(stan_data)"
   ]
  },
  {
   "cell_type": "markdown",
   "id": "d681b7de",
   "metadata": {
    "lines_to_next_cell": 0
   },
   "source": [
    "推定結果の事後分布を確認"
   ]
  },
  {
   "cell_type": "code",
   "execution_count": null,
   "id": "aa691aae",
   "metadata": {},
   "outputs": [],
   "source": [
    "az.plot_posterior(stan_data)"
   ]
  },
  {
   "cell_type": "markdown",
   "id": "45276d9d",
   "metadata": {
    "lines_to_next_cell": 0
   },
   "source": [
    "推定結果を使って回帰直線を作図"
   ]
  },
  {
   "cell_type": "code",
   "execution_count": null,
   "id": "6d29352b",
   "metadata": {
    "lines_to_next_cell": 0
   },
   "outputs": [],
   "source": [
    "post_mean = stan_data.posterior.mean().to_pandas()\n",
    "print(post_mean)"
   ]
  },
  {
   "cell_type": "code",
   "execution_count": null,
   "id": "87afd926",
   "metadata": {},
   "outputs": [],
   "source": [
    "df_pred = df.assign(pred=post_mean[\"intercept\"] + post_mean[\"slope\"] * df.x)\n",
    "grid = sns.FacetGrid(df_pred)\n",
    "grid.map(sns.scatterplot, \"x\", \"y\")\n",
    "grid.map(sns.lineplot, \"x\", \"pred\")"
   ]
  },
  {
   "cell_type": "markdown",
   "id": "9bd0fe93",
   "metadata": {},
   "source": [
    "95%確信区間などを得たい場合は\n",
    "`generated quantities` ブロックにサンプリング文を書き、\n",
    "できあがりの `draws` から抜き出す。\n",
    "----\n",
    "\n",
    "### Stanでポアソン回帰"
   ]
  },
  {
   "cell_type": "code",
   "execution_count": null,
   "id": "371ec19b",
   "metadata": {
    "lines_to_next_cell": 0
   },
   "outputs": [],
   "source": [
    "model = CmdStanModel(stan_file=\"poisson.stan\")"
   ]
  },
  {
   "cell_type": "code",
   "execution_count": null,
   "id": "46d8fc20",
   "metadata": {
    "lines_to_next_cell": 0
   },
   "outputs": [],
   "source": [
    "fit = model.sample(mydata, chains=4, iter_sampling=2000)"
   ]
  },
  {
   "cell_type": "code",
   "execution_count": null,
   "id": "9b02cc11",
   "metadata": {
    "lines_to_next_cell": 0
   },
   "outputs": [],
   "source": [
    "fit.summary()"
   ]
  },
  {
   "cell_type": "code",
   "execution_count": null,
   "id": "cb83b1be",
   "metadata": {
    "lines_to_next_cell": 0
   },
   "outputs": [],
   "source": [
    "print(fit.diagnose())"
   ]
  },
  {
   "cell_type": "code",
   "execution_count": null,
   "id": "245dee5b",
   "metadata": {
    "lines_to_next_cell": 0
   },
   "outputs": [],
   "source": [
    "stan_data = az.from_cmdstanpy(fit, observed_data=mydata)\n",
    "az.plot_trace(stan_data)"
   ]
  },
  {
   "cell_type": "code",
   "execution_count": null,
   "id": "446cab14",
   "metadata": {
    "lines_to_next_cell": 0
   },
   "outputs": [],
   "source": [
    "az.plot_posterior(stan_data)"
   ]
  },
  {
   "cell_type": "code",
   "execution_count": null,
   "id": "9fdf88e9",
   "metadata": {
    "lines_to_next_cell": 0
   },
   "outputs": [],
   "source": [
    "post_mean = stan_data.posterior.mean().to_pandas()\n",
    "print(post_mean)"
   ]
  },
  {
   "cell_type": "code",
   "execution_count": null,
   "id": "19e5a029",
   "metadata": {
    "lines_to_next_cell": 2
   },
   "outputs": [],
   "source": [
    "df_pred = df.assign(pred=np.exp(post_mean[\"intercept\"] + post_mean[\"slope\"] * df.x))\n",
    "grid = sns.FacetGrid(df_pred)\n",
    "grid.map(sns.scatterplot, \"x\", \"y\")\n",
    "grid.map(sns.lineplot, \"x\", \"pred\")\n",
    "grid.add_legend()"
   ]
  },
  {
   "cell_type": "markdown",
   "id": "fd79dd38",
   "metadata": {
    "lines_to_next_cell": 0
   },
   "source": [
    "----\n",
    "### Stanでロジスティック回帰\n"
   ]
  },
  {
   "cell_type": "code",
   "execution_count": null,
   "id": "e658791b",
   "metadata": {
    "lines_to_next_cell": 0
   },
   "outputs": [],
   "source": [
    "n_trials = 10\n",
    "true_intercept = -3\n",
    "true_coef = 0.3\n",
    "sample_size = 200\n",
    "# Generate random numbers\n",
    "temperature = rng.uniform(-10, 35, sample_size)\n",
    "logit_p = true_intercept + true_coef * temperature\n",
    "p = special.expit(logit_p)\n",
    "beer_sales = rng.binomial(n_trials, p, sample_size)\n",
    "_dic = {\n",
    "    \"temperature\": temperature,\n",
    "    \"beer_sales\": beer_sales,\n",
    "    \"failures\": n_trials - beer_sales,\n",
    "}\n",
    "df = pd.DataFrame(_dic)\n",
    "print(df)"
   ]
  },
  {
   "cell_type": "code",
   "execution_count": null,
   "id": "30bd47c2",
   "metadata": {
    "lines_to_next_cell": 0
   },
   "outputs": [],
   "source": [
    "grid = sns.FacetGrid(df)\n",
    "grid.map(sns.scatterplot, \"temperature\", \"beer_sales\")"
   ]
  },
  {
   "cell_type": "code",
   "execution_count": null,
   "id": "0bbf3828",
   "metadata": {
    "lines_to_next_cell": 0
   },
   "outputs": [],
   "source": [
    "logistic_data = {\"N\": sample_size, \"n_trials\": n_trials}\n",
    "logistic_data.update(df.to_dict(\"list\"))"
   ]
  },
  {
   "cell_type": "code",
   "execution_count": null,
   "id": "012ce77d",
   "metadata": {},
   "outputs": [],
   "source": [
    "model = CmdStanModel(stan_file=\"logistic.stan\")"
   ]
  },
  {
   "cell_type": "code",
   "execution_count": null,
   "id": "59ea5ce3",
   "metadata": {},
   "outputs": [],
   "source": [
    "fit = model.sample(logistic_data, chains=4, iter_sampling=2000)\n",
    "fit.summary()\n",
    "print(fit.diagnose())"
   ]
  },
  {
   "cell_type": "code",
   "execution_count": null,
   "id": "13ca766a",
   "metadata": {
    "lines_to_next_cell": 0
   },
   "outputs": [],
   "source": [
    "stan_data = az.from_cmdstanpy(fit, observed_data=logistic_data)"
   ]
  },
  {
   "cell_type": "code",
   "execution_count": null,
   "id": "242a2e85",
   "metadata": {
    "lines_to_next_cell": 0
   },
   "outputs": [],
   "source": [
    "az.plot_trace(stan_data)"
   ]
  },
  {
   "cell_type": "code",
   "execution_count": null,
   "id": "f18a890d",
   "metadata": {
    "lines_to_next_cell": 0
   },
   "outputs": [],
   "source": [
    "az.plot_posterior(stan_data)"
   ]
  },
  {
   "cell_type": "code",
   "execution_count": null,
   "id": "d5089bdf",
   "metadata": {},
   "outputs": [],
   "source": [
    "post_mean = stan_data.posterior.mean().to_pandas()\n",
    "df_pred = df.assign(\n",
    "    pred=n_trials\n",
    "    * special.expit(post_mean[\"intercept\"] + post_mean[\"slope\"] * df[\"temperature\"])\n",
    ")\n",
    "grid = sns.FacetGrid(df_pred)\n",
    "grid.map(sns.scatterplot, \"temperature\", \"beer_sales\")\n",
    "grid.map(sns.lineplot, \"temperature\", \"pred\")\n",
    "grid.add_legend()"
   ]
  },
  {
   "cell_type": "markdown",
   "id": "2e9c0707",
   "metadata": {
    "lines_to_next_cell": 0
   },
   "source": [
    "---\n",
    "### 重回帰: 複数の説明変数を同時に扱う\n",
    "ビールの注文数が気温と湿度の両方に依存して増加するデータを作る。"
   ]
  },
  {
   "cell_type": "code",
   "execution_count": null,
   "id": "399b2e99",
   "metadata": {
    "lines_to_next_cell": 0
   },
   "outputs": [],
   "source": [
    "sample_size = 200\n",
    "true_intercept = 3\n",
    "true_coefs = {\"temperature\": 0.05, \"humidity\": 0.006}\n",
    "temperature = rng.uniform(8, 32, sample_size)\n",
    "humidity = rng.uniform(20, 80, sample_size)\n",
    "lambda_ = np.exp(\n",
    "    true_intercept\n",
    "    + true_coefs[\"temperature\"] * temperature\n",
    "    + true_coefs[\"humidity\"] * humidity\n",
    ")\n",
    "beer_sales = rng.poisson(lambda_)\n",
    "_dic = {\n",
    "    \"temperature\": temperature,\n",
    "    \"humidity\": humidity,\n",
    "    \"beer_sales\": beer_sales,\n",
    "}\n",
    "df = pd.DataFrame(_dic)\n",
    "print(df)"
   ]
  },
  {
   "cell_type": "code",
   "execution_count": null,
   "id": "dd49aa62",
   "metadata": {
    "lines_to_next_cell": 0
   },
   "outputs": [],
   "source": [
    "fig, ax = plt.subplots(ncols=2)\n",
    "sns.scatterplot(x=\"temperature\", y=\"beer_sales\", hue=\"humidity\", data=df, ax=ax[0])\n",
    "sns.scatterplot(x=\"humidity\", y=\"beer_sales\", hue=\"temperature\", data=df, ax=ax[1])"
   ]
  },
  {
   "cell_type": "code",
   "execution_count": null,
   "id": "534630e4",
   "metadata": {
    "lines_to_next_cell": 0
   },
   "outputs": [],
   "source": [
    "multiple_data = {\"N\": sample_size}\n",
    "multiple_data.update(df.to_dict(\"list\"))"
   ]
  },
  {
   "cell_type": "code",
   "execution_count": null,
   "id": "a5afff52",
   "metadata": {
    "lines_to_next_cell": 0
   },
   "outputs": [],
   "source": [
    "model = CmdStanModel(stan_file=\"multiple.stan\")"
   ]
  },
  {
   "cell_type": "code",
   "execution_count": null,
   "id": "3ca74c8b",
   "metadata": {
    "lines_to_next_cell": 0
   },
   "outputs": [],
   "source": [
    "fit = model.sample(multiple_data, chains=4, iter_sampling=2000)\n",
    "fit.summary()\n",
    "print(fit.diagnose())"
   ]
  },
  {
   "cell_type": "code",
   "execution_count": null,
   "id": "1e7b98ab",
   "metadata": {
    "lines_to_next_cell": 0
   },
   "outputs": [],
   "source": [
    "stan_data = az.from_cmdstanpy(fit, observed_data=logistic_data)"
   ]
  },
  {
   "cell_type": "code",
   "execution_count": null,
   "id": "f3830906",
   "metadata": {
    "lines_to_next_cell": 0
   },
   "outputs": [],
   "source": [
    "az.plot_trace(stan_data)"
   ]
  },
  {
   "cell_type": "code",
   "execution_count": null,
   "id": "05a18c8c",
   "metadata": {
    "lines_to_next_cell": 0
   },
   "outputs": [],
   "source": [
    "az.plot_posterior(stan_data)"
   ]
  },
  {
   "cell_type": "code",
   "execution_count": null,
   "id": "e8430704",
   "metadata": {},
   "outputs": [],
   "source": [
    "from itertools import product  # noqa: E402\n",
    "\n",
    "post_mean = stan_data.posterior.mean().to_pandas()\n",
    "it = product(range(8, 33, 4), range(20, 90, 10))\n",
    "df_pred = pd.DataFrame(list(it), columns=[\"temperature\", \"humidity\"])\n",
    "df_pred = df_pred.assign(\n",
    "    pred=np.exp(\n",
    "        post_mean[\"intercept\"]\n",
    "        + post_mean[\"coef_t\"] * df_pred[\"temperature\"]\n",
    "        + post_mean[\"coef_h\"] * df_pred[\"humidity\"]\n",
    "    )\n",
    ")\n",
    "fig, ax = plt.subplots(ncols=2)\n",
    "sns.scatterplot(x=\"temperature\", y=\"beer_sales\", hue=\"humidity\", data=df, ax=ax[0])\n",
    "sns.lineplot(x=\"temperature\", y=\"pred\", hue=\"humidity\", data=df_pred, ax=ax[0])\n",
    "sns.scatterplot(x=\"humidity\", y=\"beer_sales\", hue=\"temperature\", data=df, ax=ax[1])\n",
    "sns.lineplot(x=\"humidity\", y=\"pred\", hue=\"temperature\", data=df_pred, ax=ax[1])"
   ]
  },
  {
   "cell_type": "markdown",
   "id": "fafa313d",
   "metadata": {
    "lines_to_next_cell": 0
   },
   "source": [
    "---\n",
    "### 分散分析: GLM with 質的(カテゴリカル)変数\n"
   ]
  },
  {
   "cell_type": "code",
   "execution_count": null,
   "id": "f569c4d8",
   "metadata": {
    "lines_to_next_cell": 0,
    "title": "Parameters"
   },
   "outputs": [],
   "source": [
    "sample_size = 200\n",
    "true_intercept = 70\n",
    "true_coefs = {\"temp\": 3, \"sunny\": 20, \"rainy\": -20}\n",
    "sd = 10\n",
    "weather_levels = [\"cloudy\", \"sunny\", \"rainy\"]"
   ]
  },
  {
   "cell_type": "code",
   "execution_count": null,
   "id": "d9b5e3af",
   "metadata": {
    "lines_to_next_cell": 0
   },
   "outputs": [],
   "source": [
    "weather = rng.choice(weather_levels, sample_size, replace=True)\n",
    "_dic = {\n",
    "    \"temperature\": rng.uniform(8, 32, sample_size),\n",
    "    \"weather\": pd.Categorical(weather, categories=weather_levels),\n",
    "}\n",
    "_df = pd.DataFrame(_dic)\n",
    "\n",
    "df = (\n",
    "    _df.join(pd.get_dummies(_df[\"weather\"]))\n",
    "    .drop(\"cloudy\", axis=1)\n",
    "    .assign(\n",
    "        mu=lambda _: true_intercept\n",
    "        + true_coefs[\"temp\"] * _[\"temperature\"]\n",
    "        + true_coefs[\"sunny\"] * _[\"sunny\"]\n",
    "        + true_coefs[\"rainy\"] * _[\"rainy\"]\n",
    "    )\n",
    "    .assign(beer_sales=lambda _: rng.normal(_[\"mu\"], sd))\n",
    ")\n",
    "print(df)"
   ]
  },
  {
   "cell_type": "code",
   "execution_count": null,
   "id": "73dce632",
   "metadata": {
    "lines_to_next_cell": 0
   },
   "outputs": [],
   "source": [
    "grid = sns.FacetGrid(df, hue=\"weather\")\n",
    "grid.map(sns.scatterplot, \"weather\", \"beer_sales\", alpha=0.6)"
   ]
  },
  {
   "cell_type": "code",
   "execution_count": null,
   "id": "702421d4",
   "metadata": {
    "lines_to_next_cell": 0
   },
   "outputs": [],
   "source": [
    "mydata = {\"N\": sample_size}\n",
    "mydata.update(df.to_dict(\"list\"))\n",
    "del mydata[\"weather\"]"
   ]
  },
  {
   "cell_type": "code",
   "execution_count": null,
   "id": "14948998",
   "metadata": {
    "lines_to_next_cell": 0
   },
   "outputs": [],
   "source": [
    "model = CmdStanModel(stan_file=\"anova.stan\")"
   ]
  },
  {
   "cell_type": "code",
   "execution_count": null,
   "id": "9a89a481",
   "metadata": {
    "lines_to_next_cell": 0
   },
   "outputs": [],
   "source": [
    "fit = model.sample(mydata, chains=4, iter_sampling=2000)\n",
    "fit.summary()\n",
    "print(fit.diagnose())"
   ]
  },
  {
   "cell_type": "code",
   "execution_count": null,
   "id": "e2ddc626",
   "metadata": {
    "lines_to_next_cell": 0
   },
   "outputs": [],
   "source": [
    "stan_data = az.from_cmdstanpy(fit, observed_data=mydata)"
   ]
  },
  {
   "cell_type": "code",
   "execution_count": null,
   "id": "519e1c29",
   "metadata": {
    "lines_to_next_cell": 0
   },
   "outputs": [],
   "source": [
    "az.plot_trace(stan_data)"
   ]
  },
  {
   "cell_type": "code",
   "execution_count": null,
   "id": "aa9aabe8",
   "metadata": {},
   "outputs": [],
   "source": [
    "az.plot_posterior(stan_data)"
   ]
  },
  {
   "cell_type": "code",
   "execution_count": null,
   "id": "c79532f9",
   "metadata": {
    "lines_to_next_cell": 0
   },
   "outputs": [],
   "source": [
    "post_mean = stan_data.posterior.mean().to_pandas()\n",
    "df_pred = df.assign(\n",
    "    pred=post_mean[\"intercept\"]\n",
    "    + post_mean[\"coef_s\"] * df[\"sunny\"]\n",
    "    + post_mean[\"coef_r\"] * df[\"rainy\"]\n",
    ")"
   ]
  },
  {
   "cell_type": "code",
   "execution_count": null,
   "id": "1bee0090",
   "metadata": {},
   "outputs": [],
   "source": [
    "grid = sns.FacetGrid(df_pred, hue=\"weather\")\n",
    "grid.map(sns.scatterplot, \"weather\", \"beer_sales\", alpha=0.6)\n",
    "grid.map(sns.scatterplot, \"weather\", \"pred\", color=\"black\", marker=\"x\", s=120)"
   ]
  },
  {
   "cell_type": "markdown",
   "id": "43f0e1ad",
   "metadata": {
    "lines_to_next_cell": 0
   },
   "source": [
    "### 共分散分析: GLM with 質的変数 + 量的変数\n"
   ]
  },
  {
   "cell_type": "code",
   "execution_count": null,
   "id": "7d5581c4",
   "metadata": {
    "lines_to_next_cell": 0
   },
   "outputs": [],
   "source": [
    "model = CmdStanModel(stan_file=\"ancova.stan\")"
   ]
  },
  {
   "cell_type": "code",
   "execution_count": null,
   "id": "f18a5e07",
   "metadata": {
    "lines_to_next_cell": 0
   },
   "outputs": [],
   "source": [
    "fit = model.sample(mydata, chains=4, iter_sampling=2000)\n",
    "fit.summary()\n",
    "print(fit.diagnose())"
   ]
  },
  {
   "cell_type": "code",
   "execution_count": null,
   "id": "177d362c",
   "metadata": {
    "lines_to_next_cell": 0
   },
   "outputs": [],
   "source": [
    "stan_data = az.from_cmdstanpy(fit, observed_data=mydata)"
   ]
  },
  {
   "cell_type": "code",
   "execution_count": null,
   "id": "f40e6af6",
   "metadata": {
    "lines_to_next_cell": 0
   },
   "outputs": [],
   "source": [
    "az.plot_trace(stan_data)"
   ]
  },
  {
   "cell_type": "code",
   "execution_count": null,
   "id": "b6bbcf4e",
   "metadata": {
    "lines_to_next_cell": 0
   },
   "outputs": [],
   "source": [
    "az.plot_posterior(stan_data)"
   ]
  },
  {
   "cell_type": "code",
   "execution_count": null,
   "id": "d4f8fa0b",
   "metadata": {
    "lines_to_next_cell": 0
   },
   "outputs": [],
   "source": [
    "post_mean = stan_data.posterior.mean().to_pandas()\n",
    "df_pred = df.assign(\n",
    "    pred=post_mean[\"intercept\"]\n",
    "    + post_mean[\"coef_s\"] * df[\"sunny\"]\n",
    "    + post_mean[\"coef_r\"] * df[\"rainy\"]\n",
    "    + post_mean[\"coef_t\"] * df[\"temperature\"]\n",
    ")"
   ]
  },
  {
   "cell_type": "code",
   "execution_count": null,
   "id": "48740082",
   "metadata": {
    "lines_to_next_cell": 2
   },
   "outputs": [],
   "source": [
    "grid = sns.FacetGrid(df_pred, hue=\"weather\")\n",
    "grid.map(sns.scatterplot, \"temperature\", \"beer_sales\", alpha=0.6)\n",
    "grid.map(sns.lineplot, \"temperature\", \"pred\")\n",
    "grid.add_legend()"
   ]
  },
  {
   "cell_type": "markdown",
   "id": "34df7ad1",
   "metadata": {
    "lines_to_next_cell": 0
   },
   "source": [
    "\n",
    "---\n",
    "\n",
    "## Stanでpenguins単回帰"
   ]
  },
  {
   "cell_type": "code",
   "execution_count": null,
   "id": "fef4e04e",
   "metadata": {},
   "outputs": [],
   "source": [
    "penguins = sm.datasets.get_rdataset(\"penguins\", \"palmerpenguins\", True).data\n",
    "penguins_dropna = penguins.dropna()\n",
    "print(penguins_dropna)\n",
    "pen_data = {\n",
    "    \"N\": penguins_dropna.shape[0],\n",
    "    \"body_mass_g\": penguins_dropna[\"body_mass_g\"],\n",
    "    \"flipper_length_mm\": penguins_dropna[\"flipper_length_mm\"],\n",
    "}"
   ]
  },
  {
   "cell_type": "markdown",
   "id": "9e87beb2",
   "metadata": {
    "lines_to_next_cell": 0
   },
   "source": [
    "### モデルの定義"
   ]
  },
  {
   "cell_type": "code",
   "execution_count": null,
   "id": "d9ef7341",
   "metadata": {},
   "outputs": [],
   "source": [
    "model = CmdStanModel(stan_file=\"penguins-lm.stan\")"
   ]
  },
  {
   "cell_type": "markdown",
   "id": "5fc1b8e4",
   "metadata": {
    "lines_to_next_cell": 0
   },
   "source": [
    "### MCMCサンプル"
   ]
  },
  {
   "cell_type": "code",
   "execution_count": null,
   "id": "1d710058",
   "metadata": {},
   "outputs": [],
   "source": [
    "fit = model.sample(pen_data, chains=4, iter_sampling=2000)"
   ]
  },
  {
   "cell_type": "markdown",
   "id": "62e19584",
   "metadata": {
    "lines_to_next_cell": 0
   },
   "source": [
    "### 推定結果の要約と収束診断"
   ]
  },
  {
   "cell_type": "code",
   "execution_count": null,
   "id": "99baac0a",
   "metadata": {
    "lines_to_next_cell": 0
   },
   "outputs": [],
   "source": [
    "fit.summary()"
   ]
  },
  {
   "cell_type": "code",
   "execution_count": null,
   "id": "4c9909d6",
   "metadata": {},
   "outputs": [],
   "source": [
    "print(fit.diagnose())"
   ]
  },
  {
   "cell_type": "markdown",
   "id": "4f6dc687",
   "metadata": {
    "lines_to_next_cell": 0
   },
   "source": [
    "### トレースプロット確認\n",
    "分布はきれいなひと山、軌跡はきれいな毛虫"
   ]
  },
  {
   "cell_type": "code",
   "execution_count": null,
   "id": "35bb7c02",
   "metadata": {},
   "outputs": [],
   "source": [
    "stan_data = az.from_cmdstanpy(fit, observed_data=pen_data)\n",
    "az.plot_trace(stan_data)"
   ]
  },
  {
   "cell_type": "markdown",
   "id": "b7d9d510",
   "metadata": {
    "lines_to_next_cell": 0
   },
   "source": [
    "\n",
    "### 推定結果の事後分布を確認\n",
    "- 点推定: 事後分布平均\n",
    "- 区間推定: HDI(Highest Density Interval)"
   ]
  },
  {
   "cell_type": "code",
   "execution_count": null,
   "id": "1ec86117",
   "metadata": {},
   "outputs": [],
   "source": [
    "az.plot_posterior(stan_data)"
   ]
  },
  {
   "cell_type": "markdown",
   "id": "4bb9c4ce",
   "metadata": {
    "lines_to_next_cell": 0
   },
   "source": [
    "事後分布の平均を使って回帰線を引いてみる。"
   ]
  },
  {
   "cell_type": "code",
   "execution_count": null,
   "id": "7e0264cc",
   "metadata": {},
   "outputs": [],
   "source": [
    "post_mean = stan_data.posterior.mean().to_pandas()"
   ]
  },
  {
   "cell_type": "code",
   "execution_count": null,
   "id": "2afce353",
   "metadata": {},
   "outputs": [],
   "source": [
    "pen_pred = penguins.assign(\n",
    "    pred=post_mean[\"intercept\"] + penguins_dropna.body_mass_g * post_mean[\"slope\"]\n",
    ")\n",
    "grid = sns.FacetGrid(pen_pred)\n",
    "grid.map(sns.scatterplot, \"body_mass_g\", \"flipper_length_mm\")\n",
    "grid.map(sns.lineplot, \"body_mass_g\", \"pred\")"
   ]
  },
  {
   "cell_type": "markdown",
   "id": "beed5560",
   "metadata": {
    "lines_to_next_cell": 0
   },
   "source": [
    "----\n",
    "\n",
    "## Stanでpenguins重回帰\n",
    "\n",
    "### データ準備"
   ]
  },
  {
   "cell_type": "code",
   "execution_count": null,
   "id": "eb807434",
   "metadata": {},
   "outputs": [],
   "source": [
    "penguins_sp = penguins_dropna.assign(\n",
    "    sp_Chinstrap=(penguins_dropna.species == \"Chinstrap\").astype(int)\n",
    ").assign(sp_Gentoo=(penguins_dropna.species == \"Gentoo\").astype(int))\n",
    "pen_sp_data = {\n",
    "    \"N\": penguins_sp.shape[0],\n",
    "    \"body_mass_g\": penguins_sp[\"body_mass_g\"],\n",
    "    \"flipper_length_mm\": penguins_sp[\"flipper_length_mm\"],\n",
    "    \"sp_Chinstrap\": penguins_sp[\"sp_Chinstrap\"],\n",
    "    \"sp_Gentoo\": penguins_sp[\"sp_Gentoo\"],\n",
    "}"
   ]
  },
  {
   "cell_type": "markdown",
   "id": "bbdeb60b",
   "metadata": {
    "lines_to_next_cell": 0
   },
   "source": [
    "### モデルの定義"
   ]
  },
  {
   "cell_type": "code",
   "execution_count": null,
   "id": "5ab1cda8",
   "metadata": {},
   "outputs": [],
   "source": [
    "model = CmdStanModel(stan_file=\"penguins-multiple.stan\")"
   ]
  },
  {
   "cell_type": "markdown",
   "id": "c8f20ac4",
   "metadata": {
    "lines_to_next_cell": 0
   },
   "source": [
    "### MCMCサンプル"
   ]
  },
  {
   "cell_type": "code",
   "execution_count": null,
   "id": "4ebe5917",
   "metadata": {},
   "outputs": [],
   "source": [
    "fit = model.sample(pen_sp_data, chains=4, iter_sampling=2000)"
   ]
  },
  {
   "cell_type": "markdown",
   "id": "876e796e",
   "metadata": {
    "lines_to_next_cell": 0
   },
   "source": [
    "### 推定結果の要約と収束診断"
   ]
  },
  {
   "cell_type": "code",
   "execution_count": null,
   "id": "5d37acb2",
   "metadata": {
    "lines_to_next_cell": 0
   },
   "outputs": [],
   "source": [
    "fit.summary()"
   ]
  },
  {
   "cell_type": "code",
   "execution_count": null,
   "id": "5a8e27b1",
   "metadata": {},
   "outputs": [],
   "source": [
    "print(fit.diagnose())"
   ]
  },
  {
   "cell_type": "markdown",
   "id": "e2c5903c",
   "metadata": {
    "lines_to_next_cell": 0
   },
   "source": [
    "### トレースプロット確認\n",
    "分布はきれいなひと山、軌跡はきれいな毛虫"
   ]
  },
  {
   "cell_type": "code",
   "execution_count": null,
   "id": "836316f5",
   "metadata": {},
   "outputs": [],
   "source": [
    "stan_data = az.from_cmdstanpy(fit, observed_data=pen_sp_data)\n",
    "az.plot_trace(stan_data)"
   ]
  },
  {
   "cell_type": "markdown",
   "id": "7264c503",
   "metadata": {
    "lines_to_next_cell": 0
   },
   "source": [
    "\n",
    "### 推定結果の事後分布を確認\n",
    "- 点推定: 事後分布平均\n",
    "- 区間推定: HDI(Highest Density Interval)"
   ]
  },
  {
   "cell_type": "code",
   "execution_count": null,
   "id": "dea3d938",
   "metadata": {},
   "outputs": [],
   "source": [
    "az.plot_posterior(stan_data)"
   ]
  },
  {
   "cell_type": "markdown",
   "id": "b469a408",
   "metadata": {
    "lines_to_next_cell": 0
   },
   "source": [
    "事後分布の平均を使って回帰線を引いてみる。"
   ]
  },
  {
   "cell_type": "code",
   "execution_count": null,
   "id": "ed2a804e",
   "metadata": {},
   "outputs": [],
   "source": [
    "post_mean = stan_data.posterior.mean().to_pandas()"
   ]
  },
  {
   "cell_type": "code",
   "execution_count": null,
   "id": "182a6712",
   "metadata": {},
   "outputs": [],
   "source": [
    "pen_pred = penguins_sp.assign(\n",
    "    pred=post_mean[\"intercept\"]\n",
    "    + penguins_sp[\"body_mass_g\"] * post_mean[\"slope\"]\n",
    "    + penguins_sp[\"sp_Chinstrap\"] * post_mean[\"b_chinstrap\"]\n",
    "    + penguins_sp[\"sp_Gentoo\"] * post_mean[\"b_gentoo\"]\n",
    ")\n",
    "palette = {\"Adelie\": \"#ff6600\", \"Gentoo\": \"#c35bcc\", \"Chinstrap\": \"#007174\"}\n",
    "grid = sns.FacetGrid(pen_pred, hue=\"species\", palette=palette)\n",
    "grid.map(sns.scatterplot, \"body_mass_g\", \"flipper_length_mm\")\n",
    "grid.map(sns.lineplot, \"body_mass_g\", \"pred\")\n",
    "grid.add_legend()"
   ]
  },
  {
   "cell_type": "code",
   "execution_count": null,
   "id": "508157aa",
   "metadata": {},
   "outputs": [],
   "source": [
    "# pyright: reportGeneralTypeIssues=false\n",
    "# pyright: reportMissingTypeStubs=false\n",
    "# pyright: reportUnknownArgumentType=false\n",
    "# pyright: reportUnknownLambdaType=false\n",
    "# pyright: reportUnknownMemberType=false\n",
    "# pyright: reportUnknownVariableType=false"
   ]
  }
 ],
 "metadata": {
  "jupytext": {
   "cell_metadata_filter": "name,-all",
   "main_language": "python",
   "notebook_metadata_filter": "-all"
  }
 },
 "nbformat": 4,
 "nbformat_minor": 5
}
