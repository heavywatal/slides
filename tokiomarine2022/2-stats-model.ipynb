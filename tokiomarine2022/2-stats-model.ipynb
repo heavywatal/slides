{
 "cells": [
  {
   "cell_type": "markdown",
   "metadata": {},
   "source": [
    "# 統計モデリング概論 DSHC 2022\n",
    "\n",
    "岩嵜 航 (Watal M. Iwasaki, PhD)<br>\n",
    "東北大学 生命科学研究科 進化ゲノミクス分野 特任助教\n",
    "\n",
    "2022-08-17 東京海上 Data Science Hill Climb<br>\n",
    "https://heavywatal.github.io/slides/tokiomarine2022/\n",
    "\n",
    "# 直線あてはめ、擬似乱数生成、尤度関数\n",
    "\n",
    "## 環境セットアップ\n",
    "\n",
    "Google Colab の場合はインストールから:\n",
    "```\n",
    "%pip install 'matplotlib>=3.1' 'seaborn>=0.11' 'statsmodels'\n",
    "```"
   ]
  },
  {
   "cell_type": "code",
   "execution_count": null,
   "metadata": {},
   "outputs": [],
   "source": [
    "%matplotlib inline\n",
    "\n",
    "import sys\n",
    "\n",
    "import numpy as np\n",
    "import pandas as pd\n",
    "import seaborn as sns\n",
    "import statsmodels.formula.api as smf\n",
    "\n",
    "rng = np.random.default_rng(seed=24601)\n",
    "sys.version"
   ]
  },
  {
   "cell_type": "markdown",
   "metadata": {},
   "source": [
    "## 直線あてはめしてみる\n",
    "架空のデータを作って散布図。\n",
    "擬似乱数生成については後述。"
   ]
  },
  {
   "cell_type": "code",
   "execution_count": null,
   "metadata": {
    "lines_to_next_cell": 0
   },
   "outputs": [],
   "source": [
    "_x = rng.uniform(0.4, 1.7, 300)\n",
    "_y = rng.poisson(np.exp(3 * _x - 3))\n",
    "df = pd.DataFrame(dict(x=_x, y=_y))\n",
    "print(df)"
   ]
  },
  {
   "cell_type": "code",
   "execution_count": null,
   "metadata": {},
   "outputs": [],
   "source": [
    "grid = sns.FacetGrid(df)\n",
    "grid.map(sns.scatterplot, \"x\", \"y\")"
   ]
  },
  {
   "cell_type": "markdown",
   "metadata": {},
   "source": [
    "OLS: ordinary least square"
   ]
  },
  {
   "cell_type": "code",
   "execution_count": null,
   "metadata": {},
   "outputs": [],
   "source": [
    "model = smf.ols(\"y ~ x\", df)\n",
    "result = model.fit()\n",
    "result.params"
   ]
  },
  {
   "cell_type": "markdown",
   "metadata": {},
   "source": [
    "推定結果を用いて回帰線のy座標を計算し、predという名前の列に格納:\n",
    "\n",
    "pred = slope * x + intercept"
   ]
  },
  {
   "cell_type": "code",
   "execution_count": null,
   "metadata": {},
   "outputs": [],
   "source": [
    "df_pred = df.assign(pred=lambda _: result.predict(_))\n",
    "print(df_pred)"
   ]
  },
  {
   "cell_type": "markdown",
   "metadata": {},
   "source": [
    "`assign()` や `lambda` に不慣れなら次のようにも書いても同じ:\n",
    "```py\n",
    "df_pred = df.copy()\n",
    "df_pred[\"pred\"] = result.predict(df)\n",
    "```"
   ]
  },
  {
   "cell_type": "code",
   "execution_count": null,
   "metadata": {},
   "outputs": [],
   "source": [
    "grid = sns.FacetGrid(df_pred)\n",
    "grid.map(sns.scatterplot, \"x\", \"y\")\n",
    "grid.map(sns.lineplot, \"x\", \"pred\")"
   ]
  },
  {
   "cell_type": "markdown",
   "metadata": {},
   "source": [
    "一旦ここまで。講義スライドに戻る。\n",
    "\n",
    "----"
   ]
  },
  {
   "cell_type": "markdown",
   "metadata": {},
   "source": [
    "## 擬似乱数生成\n",
    "\n",
    "これまでの講義スライドでいろいろな理論分布を見てきた。\n",
    "ここでは疑似乱数を生成・可視化して実感をつかもう。\n",
    "\n",
    "- まずはそのまま実行してみる\n",
    "- 次に、パラメータをいろいろいじって可視化してみる。\n",
    "    - `size` を増やしたら理論的な分布に近づくか？\n",
    "    - `size` を減らしたらその分布の「らしさ」が見えにくくなる？\n",
    "    - どういうときに二項分布・ポアソン分布・正規分布が似てくるか？\n",
    "- [numpy公式ドキュメント](https://numpy.org/doc/stable/reference/random/generator.html)\n",
    "  を見て、ほかにどんな関数やパラメータがあるか眺めてみる。"
   ]
  },
  {
   "cell_type": "markdown",
   "metadata": {
    "lines_to_next_cell": 0
   },
   "source": [
    "### 一様分布 (整数・離散値)"
   ]
  },
  {
   "cell_type": "code",
   "execution_count": null,
   "metadata": {},
   "outputs": [],
   "source": [
    "x = rng.integers(low=1, high=7, size=100)\n",
    "print(x)\n",
    "sns.countplot(x=x)  # for discrete values"
   ]
  },
  {
   "cell_type": "markdown",
   "metadata": {
    "lines_to_next_cell": 0
   },
   "source": [
    "### 一様分布 (実数・連続値)"
   ]
  },
  {
   "cell_type": "code",
   "execution_count": null,
   "metadata": {},
   "outputs": [],
   "source": [
    "x = rng.uniform(low=0, high=1, size=100)\n",
    "print(x)\n",
    "sns.histplot(x=x)  # for continuous values"
   ]
  },
  {
   "cell_type": "markdown",
   "metadata": {
    "lines_to_next_cell": 0
   },
   "source": [
    "### 幾何分布"
   ]
  },
  {
   "cell_type": "code",
   "execution_count": null,
   "metadata": {},
   "outputs": [],
   "source": [
    "x = rng.geometric(p=0.3, size=100)\n",
    "print(x)\n",
    "sns.histplot(x=x)  # for continuous values"
   ]
  },
  {
   "cell_type": "markdown",
   "metadata": {
    "lines_to_next_cell": 0
   },
   "source": [
    "### 二項分布"
   ]
  },
  {
   "cell_type": "code",
   "execution_count": null,
   "metadata": {},
   "outputs": [],
   "source": [
    "x = rng.binomial(n=3, p=0.5, size=100)\n",
    "print(x)\n",
    "sns.countplot(x=x)  # for discrete values"
   ]
  },
  {
   "cell_type": "markdown",
   "metadata": {
    "lines_to_next_cell": 0
   },
   "source": [
    "### ポアソン分布"
   ]
  },
  {
   "cell_type": "code",
   "execution_count": null,
   "metadata": {},
   "outputs": [],
   "source": [
    "x = rng.poisson(lam=3, size=100)\n",
    "print(x)\n",
    "sns.countplot(x=x)  # for discrete values"
   ]
  },
  {
   "cell_type": "markdown",
   "metadata": {
    "lines_to_next_cell": 0
   },
   "source": [
    "### 正規分布"
   ]
  },
  {
   "cell_type": "code",
   "execution_count": null,
   "metadata": {},
   "outputs": [],
   "source": [
    "x = rng.normal(loc=50, scale=10, size=100)\n",
    "print(x)\n",
    "sns.histplot(x=x)  # for continuous values"
   ]
  },
  {
   "cell_type": "markdown",
   "metadata": {},
   "source": [
    "### 🔰 自由課題\n",
    "\n",
    "1%の当たりを狙って10連ガチャを回した10万人の結果"
   ]
  },
  {
   "cell_type": "code",
   "execution_count": null,
   "metadata": {},
   "outputs": [],
   "source": []
  },
  {
   "cell_type": "markdown",
   "metadata": {
    "lines_to_next_cell": 0
   },
   "source": [
    "---\n",
    "## 🔰 尤度の練習問題\n",
    "サイコロを10回振ったら6の目が3回出た。\n",
    "\n",
    "1. 6の目の出る確率が1/6だとした場合の尤度は?\n",
    "1. 6の目の出る確率が0.2だとした場合の尤度は?\n",
    "1. 横軸を6の目の出る確率、縦軸を対数尤度とするグラフを描こう。\n",
    "1. このサイコロで6の目が出る確率を最尤推定しよう。<br>\n",
    "   数学で解ければ**優**。Pythonで見つければ**良**。目分量・勘で**可**。\n",
    "\n",
    "ヒント: 次のような部品を使って `get_likelihood()` 関数を作るとか。"
   ]
  },
  {
   "cell_type": "code",
   "execution_count": null,
   "metadata": {},
   "outputs": [],
   "source": [
    "from scipy import special  # noqa: E402\n",
    "\n",
    "n = 5\n",
    "k = 2\n",
    "combination = special.comb(n, k)\n",
    "print(combination)\n",
    "\n",
    "vector = np.linspace(0, 1, 11)\n",
    "print(vector)\n",
    "\n",
    "\n",
    "def cubic(x):\n",
    "    return x**3\n",
    "\n",
    "\n",
    "vec3 = cubic(vector)\n",
    "sns.lineplot(x=vector, y=vec3)"
   ]
  },
  {
   "cell_type": "code",
   "execution_count": null,
   "metadata": {},
   "outputs": [],
   "source": [
    "# pyright: reportMissingTypeStubs=false\n",
    "# pyright: reportMissingParameterType=false\n",
    "# pyright: reportUnknownArgumentType=false\n",
    "# pyright: reportUnknownLambdaType=false\n",
    "# pyright: reportUnknownMemberType=false\n",
    "# pyright: reportUnknownParameterType=false\n",
    "# pyright: reportUnknownVariableType=false"
   ]
  }
 ],
 "metadata": {
  "jupytext": {
   "cell_metadata_filter": "name,-all",
   "main_language": "python",
   "notebook_metadata_filter": "-all"
  }
 },
 "nbformat": 4,
 "nbformat_minor": 5
}
