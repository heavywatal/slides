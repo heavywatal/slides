{
 "cells": [
  {
   "cell_type": "markdown",
   "id": "5050acda",
   "metadata": {},
   "source": [
    "# 統計モデリング概論 DSHC 2022\n",
    "\n",
    "岩嵜 航 (Watal M. Iwasaki, PhD)<br>\n",
    "東北大学 生命科学研究科 進化ゲノミクス分野 特任助教\n",
    "\n",
    "2022-08-17 東京海上 Data Science Hill Climb<br>\n",
    "https://heavywatal.github.io/slides/tokiomarine2022/\n",
    "\n",
    "## 環境セットアップ"
   ]
  },
  {
   "cell_type": "raw",
   "id": "6eab8464",
   "metadata": {
    "active": "py"
   },
   "source": [
    "%pip install 'matplotlib>=3.1' 'seaborn>=0.11' 'statsmodels'"
   ]
  },
  {
   "cell_type": "code",
   "execution_count": null,
   "id": "6c141cd9",
   "metadata": {},
   "outputs": [],
   "source": [
    "import sys\n",
    "\n",
    "import numpy as np\n",
    "import pandas as pd\n",
    "import seaborn as sns\n",
    "import statsmodels.formula.api as smf\n",
    "\n",
    "rng = np.random.default_rng(seed=24601)\n",
    "sys.version"
   ]
  },
  {
   "cell_type": "markdown",
   "id": "282c772e",
   "metadata": {},
   "source": [
    "## 直線あてはめしてみる\n",
    "架空のデータを作って散布図。\n",
    "擬似乱数生成については後述。"
   ]
  },
  {
   "cell_type": "code",
   "execution_count": null,
   "id": "7e04a119",
   "metadata": {
    "lines_to_next_cell": 0
   },
   "outputs": [],
   "source": [
    "_x = rng.uniform(0.4, 1.7, 300)\n",
    "_y = rng.poisson(np.exp(3 * _x - 3))\n",
    "df = pd.DataFrame(dict(x=_x, y=_y))\n",
    "print(df)"
   ]
  },
  {
   "cell_type": "code",
   "execution_count": null,
   "id": "7c5d24af",
   "metadata": {},
   "outputs": [],
   "source": [
    "grid = sns.FacetGrid(df)\n",
    "grid.map(sns.scatterplot, \"x\", \"y\")"
   ]
  },
  {
   "cell_type": "markdown",
   "id": "2d64d146",
   "metadata": {},
   "source": [
    "OLS: ordinary least square"
   ]
  },
  {
   "cell_type": "code",
   "execution_count": null,
   "id": "4d95318b",
   "metadata": {},
   "outputs": [],
   "source": [
    "model = smf.ols(\"y ~ x\", df)\n",
    "result = model.fit()\n",
    "result.params"
   ]
  },
  {
   "cell_type": "markdown",
   "id": "3c9b49b5",
   "metadata": {},
   "source": [
    "推定結果を用いて回帰線のy座標を計算:\n",
    "pred = slope * x + intercept"
   ]
  },
  {
   "cell_type": "code",
   "execution_count": null,
   "id": "fd53311e",
   "metadata": {
    "lines_to_next_cell": 0
   },
   "outputs": [],
   "source": [
    "df_pred = df.assign(pred=lambda _: result.predict(_))\n",
    "print(df_pred)"
   ]
  },
  {
   "cell_type": "code",
   "execution_count": null,
   "id": "f19de992",
   "metadata": {},
   "outputs": [],
   "source": [
    "grid = sns.FacetGrid(df_pred)\n",
    "grid.map(sns.scatterplot, \"x\", \"y\")\n",
    "grid.map(sns.lineplot, \"x\", \"pred\")"
   ]
  },
  {
   "cell_type": "markdown",
   "id": "80c66e71",
   "metadata": {},
   "source": [
    "一旦ここまで。講義スライドに戻る。\n",
    "\n",
    "----"
   ]
  },
  {
   "cell_type": "markdown",
   "id": "f16a65f6",
   "metadata": {},
   "source": [
    "## 擬似乱数生成\n",
    "\n",
    "これまでの講義スライドでいろいろな理論分布を見てきた。\n",
    "ここでは疑似乱数を生成・可視化して実感をつかもう。\n",
    "\n",
    "- まずはそのまま実行してみる\n",
    "- 次に、パラメータをいろいろいじって可視化してみる。\n",
    "    - `size` を増やしたら理論的な分布に近づくか？\n",
    "    - `size` を減らしたらその分布の「らしさ」が見えにくくなる？\n",
    "    - どういうときに二項分布・ポアソン分布・正規分布が似てくるか？\n",
    "- [numpy公式ドキュメント](https://numpy.org/doc/stable/reference/random/generator.html)\n",
    "  を見て、ほかにどんな関数やパラメータがあるか眺めてみる。"
   ]
  },
  {
   "cell_type": "markdown",
   "id": "503c1e31",
   "metadata": {
    "lines_to_next_cell": 0
   },
   "source": [
    "## 一様分布 (整数・離散値)"
   ]
  },
  {
   "cell_type": "code",
   "execution_count": null,
   "id": "6a0426f3",
   "metadata": {},
   "outputs": [],
   "source": [
    "x = rng.integers(low=1, high=7, size=100)\n",
    "print(x)\n",
    "sns.countplot(x=x)  # for discrete values"
   ]
  },
  {
   "cell_type": "markdown",
   "id": "9e59208b",
   "metadata": {
    "lines_to_next_cell": 0
   },
   "source": [
    "## 一様分布 (実数・連続値)"
   ]
  },
  {
   "cell_type": "code",
   "execution_count": null,
   "id": "b3d8c239",
   "metadata": {},
   "outputs": [],
   "source": [
    "x = rng.uniform(low=0, high=1, size=100)\n",
    "print(x)\n",
    "sns.histplot(x=x)  # for continuous values"
   ]
  },
  {
   "cell_type": "markdown",
   "id": "c7f04a4e",
   "metadata": {
    "lines_to_next_cell": 0
   },
   "source": [
    "## 幾何分布"
   ]
  },
  {
   "cell_type": "code",
   "execution_count": null,
   "id": "cfe38170",
   "metadata": {},
   "outputs": [],
   "source": [
    "x = rng.geometric(p=0.3, size=100)\n",
    "print(x)\n",
    "sns.histplot(x=x)  # for continuous values"
   ]
  },
  {
   "cell_type": "markdown",
   "id": "1610ca54",
   "metadata": {
    "lines_to_next_cell": 0
   },
   "source": [
    "## 二項分布"
   ]
  },
  {
   "cell_type": "code",
   "execution_count": null,
   "id": "1c756742",
   "metadata": {},
   "outputs": [],
   "source": [
    "x = rng.binomial(n=3, p=0.5, size=100)\n",
    "print(x)\n",
    "sns.countplot(x=x)  # for discrete values"
   ]
  },
  {
   "cell_type": "markdown",
   "id": "dabea5a6",
   "metadata": {
    "lines_to_next_cell": 0
   },
   "source": [
    "## ポアソン分布"
   ]
  },
  {
   "cell_type": "code",
   "execution_count": null,
   "id": "24cb930e",
   "metadata": {},
   "outputs": [],
   "source": [
    "x = rng.poisson(lam=3, size=100)\n",
    "print(x)\n",
    "sns.countplot(x=x)  # for discrete values"
   ]
  },
  {
   "cell_type": "markdown",
   "id": "e9467335",
   "metadata": {
    "lines_to_next_cell": 0
   },
   "source": [
    "## 正規分布"
   ]
  },
  {
   "cell_type": "code",
   "execution_count": null,
   "id": "f9a68481",
   "metadata": {},
   "outputs": [],
   "source": [
    "x = rng.normal(loc=50, scale=10, size=100)\n",
    "print(x)\n",
    "sns.histplot(x=x)  # for continuous values"
   ]
  },
  {
   "cell_type": "markdown",
   "id": "894f746a",
   "metadata": {},
   "source": [
    "## 🔰 自由課題\n",
    "\n",
    "1%の当たりを狙って10連ガチャを回した10万人の結果"
   ]
  },
  {
   "cell_type": "code",
   "execution_count": null,
   "id": "92a88059",
   "metadata": {},
   "outputs": [],
   "source": []
  },
  {
   "cell_type": "markdown",
   "id": "a6c2c0b2",
   "metadata": {
    "lines_to_next_cell": 0
   },
   "source": [
    "---\n",
    "## 🔰 尤度の練習問題\n",
    "サイコロを10回振ったら6の目が3回出た。\n",
    "\n",
    "1. 6の目の出る確率が1/6だとした場合の尤度は?\n",
    "1. 6の目の出る確率が0.2だとした場合の尤度は?\n",
    "1. 横軸を6の目の出る確率、縦軸を対数尤度とするグラフを描こう。\n",
    "1. このサイコロで6の目が出る確率を最尤推定しよう。<br>\n",
    "   数学で解ければ**優**。Pythonで見つければ**良**。目分量・勘で**可**。\n",
    "\n",
    "ヒント: 次のような部品を使って `get_likelihood()` 関数を作るとか。"
   ]
  },
  {
   "cell_type": "code",
   "execution_count": null,
   "id": "cb131a73",
   "metadata": {},
   "outputs": [],
   "source": [
    "from scipy import special  # noqa: E402\n",
    "\n",
    "n = 5\n",
    "k = 2\n",
    "combination = special.comb(n, k)\n",
    "print(combination)\n",
    "\n",
    "vector = np.linspace(0, 1, 11)\n",
    "print(vector)\n",
    "\n",
    "\n",
    "def cubic(x):\n",
    "    return x**3\n",
    "\n",
    "\n",
    "vec3 = cubic(vector)\n",
    "sns.lineplot(x=vector, y=vec3)"
   ]
  },
  {
   "cell_type": "code",
   "execution_count": null,
   "id": "2c65b67f",
   "metadata": {},
   "outputs": [],
   "source": [
    "# pyright: reportMissingTypeStubs=false\n",
    "# pyright: reportMissingParameterType=false\n",
    "# pyright: reportUnknownArgumentType=false\n",
    "# pyright: reportUnknownLambdaType=false\n",
    "# pyright: reportUnknownMemberType=false\n",
    "# pyright: reportUnknownParameterType=false\n",
    "# pyright: reportUnknownVariableType=false"
   ]
  }
 ],
 "metadata": {
  "jupytext": {
   "cell_metadata_filter": "name,-all",
   "main_language": "python",
   "notebook_metadata_filter": "-all"
  }
 },
 "nbformat": 4,
 "nbformat_minor": 5
}
