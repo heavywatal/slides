{
 "cells": [
  {
   "cell_type": "markdown",
   "id": "bf2e2414",
   "metadata": {},
   "source": [
    "# 統計モデリング概論 DSHC 2022\n",
    "\n",
    "岩嵜 航 (Watal M. Iwasaki, PhD)<br>\n",
    "東北大学 生命科学研究科 進化ゲノミクス分野 特任助教\n",
    "\n",
    "2022-08-17 東京海上 Data Science Hill Climb<br>\n",
    "https://heavywatal.github.io/slides/tokiomarine2022/\n",
    "\n",
    "## 環境セットアップ"
   ]
  },
  {
   "cell_type": "code",
   "execution_count": null,
   "id": "74fcb891",
   "metadata": {},
   "outputs": [],
   "source": [
    "import sys\n",
    "\n",
    "import matplotlib.pyplot as plt\n",
    "import numpy as np\n",
    "import pandas as pd\n",
    "import seaborn as sns\n",
    "import statsmodels.formula.api as smf\n",
    "\n",
    "rng = np.random.default_rng(seed=24601)\n",
    "sys.version"
   ]
  },
  {
   "cell_type": "markdown",
   "id": "40cbc88a",
   "metadata": {},
   "source": [
    "## 直線あてはめしてみる\n",
    "架空のデータを作って散布図。\n",
    "擬似乱数生成については後述。"
   ]
  },
  {
   "cell_type": "code",
   "execution_count": null,
   "id": "9f2f28c6",
   "metadata": {},
   "outputs": [],
   "source": [
    "_x = rng.uniform(0.4, 1.7, 300)\n",
    "_y = rng.poisson(np.exp(3 * _x - 3))\n",
    "df = pd.DataFrame(dict(x=_x, y=_y))\n",
    "print(df)\n",
    "\n",
    "fig, ax = plt.subplots()\n",
    "sns.scatterplot(x=\"x\", y=\"y\", data=df, ax=ax)"
   ]
  },
  {
   "cell_type": "markdown",
   "id": "d54b6fd6",
   "metadata": {},
   "source": [
    "OLS: ordinary least square"
   ]
  },
  {
   "cell_type": "code",
   "execution_count": null,
   "id": "4ff9c277",
   "metadata": {},
   "outputs": [],
   "source": [
    "model = smf.ols(\"y ~ x\", df)\n",
    "result = model.fit()\n",
    "result.params"
   ]
  },
  {
   "cell_type": "markdown",
   "id": "22b96a19",
   "metadata": {},
   "source": [
    "推定結果を用いて回帰線のy座標を計算:\n",
    "pred = slope * x + intercept"
   ]
  },
  {
   "cell_type": "code",
   "execution_count": null,
   "id": "bdaa5ab3",
   "metadata": {},
   "outputs": [],
   "source": [
    "df_pred = df.assign(pred=lambda _: result.predict(_))\n",
    "print(df_pred)\n",
    "\n",
    "fig, ax = plt.subplots()\n",
    "sns.scatterplot(x=\"x\", y=\"y\", data=df_pred, ax=ax)\n",
    "sns.lineplot(x=\"x\", y=\"pred\", data=df_pred, ax=ax)"
   ]
  },
  {
   "cell_type": "markdown",
   "id": "953e17aa",
   "metadata": {},
   "source": [
    "一旦ここまで。講義スライドに戻る。\n",
    "\n",
    "----"
   ]
  },
  {
   "cell_type": "markdown",
   "id": "8816d91c",
   "metadata": {},
   "source": [
    "## 擬似乱数生成\n",
    "\n",
    "これまでの講義スライドでいろいろな理論分布を見てきた。\n",
    "ここでは疑似乱数を生成・可視化して実感をつかもう。\n",
    "\n",
    "- まずはそのまま実行してみる\n",
    "- 次に、パラメータをいろいろいじって可視化してみる。\n",
    "    - `size` を増やしたら理論的な分布に近づくか？\n",
    "    - `size` を減らしたらその分布の「らしさ」が見えにくくなる？\n",
    "    - どういうときに二項分布・ポアソン分布・正規分布が似てくるか？\n",
    "- [numpy公式ドキュメント](https://numpy.org/doc/stable/reference/random/generator.html)\n",
    "  を見て、ほかにどんな関数やパラメータがあるか眺めてみる。"
   ]
  },
  {
   "cell_type": "markdown",
   "id": "2e5a326f",
   "metadata": {
    "lines_to_next_cell": 0
   },
   "source": [
    "## 一様分布 (整数・離散値)"
   ]
  },
  {
   "cell_type": "code",
   "execution_count": null,
   "id": "8a997348",
   "metadata": {},
   "outputs": [],
   "source": [
    "x = rng.integers(low=1, high=7, size=100)\n",
    "print(x)\n",
    "sns.countplot(x=x)    # for discrete values"
   ]
  },
  {
   "cell_type": "markdown",
   "id": "5b53ad12",
   "metadata": {
    "lines_to_next_cell": 0
   },
   "source": [
    "## 一様分布 (実数・連続値)"
   ]
  },
  {
   "cell_type": "code",
   "execution_count": null,
   "id": "e1f58419",
   "metadata": {},
   "outputs": [],
   "source": [
    "x = rng.uniform(low=0, high=1, size=100)\n",
    "print(x)\n",
    "sns.histplot(x=x)   # for continuous values"
   ]
  },
  {
   "cell_type": "markdown",
   "id": "70988347",
   "metadata": {
    "lines_to_next_cell": 0
   },
   "source": [
    "## 幾何分布"
   ]
  },
  {
   "cell_type": "code",
   "execution_count": null,
   "id": "0d4da3f3",
   "metadata": {},
   "outputs": [],
   "source": [
    "x = rng.geometric(p=0.3, size=100)\n",
    "print(x)\n",
    "sns.histplot(x=x)   # for continuous values"
   ]
  },
  {
   "cell_type": "markdown",
   "id": "8a89bea3",
   "metadata": {
    "lines_to_next_cell": 0
   },
   "source": [
    "## 二項分布"
   ]
  },
  {
   "cell_type": "code",
   "execution_count": null,
   "id": "2aeda18b",
   "metadata": {},
   "outputs": [],
   "source": [
    "x = rng.binomial(n=3, p=0.5, size=100)\n",
    "print(x)\n",
    "sns.countplot(x=x)    # for discrete values"
   ]
  },
  {
   "cell_type": "markdown",
   "id": "54ab99a0",
   "metadata": {
    "lines_to_next_cell": 0
   },
   "source": [
    "## ポアソン分布"
   ]
  },
  {
   "cell_type": "code",
   "execution_count": null,
   "id": "525a17c2",
   "metadata": {},
   "outputs": [],
   "source": [
    "x = rng.poisson(lam=3, size=100)\n",
    "print(x)\n",
    "sns.countplot(x=x)    # for discrete values"
   ]
  },
  {
   "cell_type": "markdown",
   "id": "bdab6f1b",
   "metadata": {
    "lines_to_next_cell": 0
   },
   "source": [
    "## 正規分布"
   ]
  },
  {
   "cell_type": "code",
   "execution_count": null,
   "id": "cb37f11e",
   "metadata": {},
   "outputs": [],
   "source": [
    "x = rng.normal(loc=50, scale=10, size=100)\n",
    "print(x)\n",
    "sns.histplot(x=x)   # for continuous values"
   ]
  },
  {
   "cell_type": "markdown",
   "id": "90b2e8cc",
   "metadata": {},
   "source": [
    "## 🔰 自由課題\n",
    "\n",
    "1%の当たりを狙って10連ガチャを回した10万人の結果"
   ]
  },
  {
   "cell_type": "code",
   "execution_count": null,
   "id": "460aa64b",
   "metadata": {},
   "outputs": [],
   "source": [
    "\n",
    "# pyright: reportMissingTypeStubs=false\n",
    "# pyright: reportUnknownArgumentType=false\n",
    "# pyright: reportUnknownLambdaType=false\n",
    "# pyright: reportUnknownMemberType=false\n",
    "# pyright: reportUnknownVariableType=false"
   ]
  }
 ],
 "metadata": {
  "jupytext": {
   "cell_metadata_filter": "name,-all",
   "main_language": "python",
   "notebook_metadata_filter": "-all"
  }
 },
 "nbformat": 4,
 "nbformat_minor": 5
}
