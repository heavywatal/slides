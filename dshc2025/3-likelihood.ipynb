{
 "cells": [
  {
   "cell_type": "markdown",
   "metadata": {},
   "source": [
    "# 統計モデリング概論 DSHC 2025\n",
    "\n",
    "岩嵜 航 (Watal M. Iwasaki, PhD)<br>\n",
    "東北大学 生命科学研究科 進化ゲノミクス分野 特任助教\n",
    "\n",
    "2025-08-27 東京海上 Data Science Hill Climb<br>\n",
    "https://heavywatal.github.io/slides/dshc2025/\n",
    "\n",
    "# 直線回帰、確率分布、擬似乱数生成\n",
    "\n",
    "## 環境セットアップ\n",
    "\n",
    "Google Colab の場合はインストールから:\n",
    "```\n",
    "!uv pip install 'matplotlib>=3.10' 'seaborn>=0.13' 'statsmodels>=0.15'\n",
    "```"
   ]
  },
  {
   "cell_type": "code",
   "execution_count": null,
   "metadata": {},
   "outputs": [],
   "source": [
    "%matplotlib inline\n",
    "\n",
    "import sys\n",
    "\n",
    "import numpy as np\n",
    "import pandas as pd\n",
    "import seaborn as sns\n",
    "\n",
    "print(sys.version)"
   ]
  },
  {
   "cell_type": "markdown",
   "metadata": {
    "lines_to_next_cell": 0
   },
   "source": [
    "---\n",
    "## 🔰 尤度の練習問題\n",
    "サイコロを10回振ったら6の目が3回出た。\n",
    "\n",
    "1. 6の目の出る確率が1/6だとした場合の尤度は?\n",
    "1. 6の目の出る確率が0.2だとした場合の尤度は?\n",
    "1. 横軸を6の目の出る確率、縦軸を対数尤度とするグラフを描こう。\n",
    "1. このサイコロで6の目が出る確率を最尤推定しよう。<br>\n",
    "   数学で解ければ**優**。Pythonで見つければ**良**。目分量・勘で**可**。\n",
    "\n",
    "ヒント: 次のような部品を使って `get_likelihood()` 関数を作るとか。"
   ]
  },
  {
   "cell_type": "code",
   "execution_count": null,
   "metadata": {},
   "outputs": [],
   "source": [
    "from scipy import special\n",
    "\n",
    "n = 5\n",
    "k = 2\n",
    "combination = special.comb(n, k)\n",
    "print(combination)\n",
    "\n",
    "vector = np.linspace(0, 1, 11)\n",
    "print(vector)\n",
    "\n",
    "\n",
    "def cubic(x):\n",
    "    return x**3\n",
    "\n",
    "\n",
    "vec3 = cubic(vector)\n",
    "sns.lineplot(x=vector, y=vec3)"
   ]
  },
  {
   "cell_type": "markdown",
   "metadata": {},
   "source": [
    "---\n",
    "## 🔰 分布を当てはめる練習問題\n",
    "\n",
    "植物25個体から8個ずつ種をとって植え、生き残ったものを数えた。\n",
    "\n",
    "1. データの分布を描いてみて、当てはまりそうな確率分布を検討する\n",
    "1. 理論分布を適当なパラメータで描いてみる\n",
    "1. パラメータや分布を変えてみて、データの分布にすり寄せる\n",
    "1. 対数尤度の変化を可視化し、パラメータを最尤推定する"
   ]
  },
  {
   "cell_type": "code",
   "execution_count": null,
   "metadata": {},
   "outputs": [],
   "source": [
    "# Observation (read the data on the slide or generate new one)\n",
    "sample_size = 25\n",
    "trials = 8\n",
    "true_p = 0.8\n",
    "rng = np.random.default_rng(seed=24601)\n",
    "_y = rng.binomial(trials, true_p, sample_size)\n",
    "df_seeds = pd.DataFrame({\"trials\": trials, \"survived\": _y})\n",
    "print(df_seeds)"
   ]
  },
  {
   "cell_type": "code",
   "execution_count": null,
   "metadata": {},
   "outputs": [],
   "source": [
    "# Plot data distribution"
   ]
  },
  {
   "cell_type": "code",
   "execution_count": null,
   "metadata": {},
   "outputs": [],
   "source": [
    "# Plot theoretical distribution"
   ]
  },
  {
   "cell_type": "code",
   "execution_count": null,
   "metadata": {},
   "outputs": [],
   "source": [
    "# Plot loglik and perform MLE"
   ]
  },
  {
   "cell_type": "code",
   "execution_count": null,
   "metadata": {},
   "outputs": [],
   "source": [
    "# pyright: reportMissingTypeStubs=false\n",
    "# pyright: reportMissingParameterType=false\n",
    "# pyright: reportUnknownArgumentType=false\n",
    "# pyright: reportUnknownLambdaType=false\n",
    "# pyright: reportUnknownMemberType=false\n",
    "# pyright: reportUnknownParameterType=false\n",
    "# pyright: reportUnknownVariableType=false\n",
    "# ruff: noqa: E402 ANN001 ANN201"
   ]
  }
 ],
 "metadata": {
  "jupytext": {
   "cell_metadata_filter": "name,-all",
   "main_language": "python",
   "notebook_metadata_filter": "-all"
  }
 },
 "nbformat": 4,
 "nbformat_minor": 5
}
