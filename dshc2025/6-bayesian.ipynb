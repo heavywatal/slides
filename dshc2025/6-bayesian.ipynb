{
 "cells": [
  {
   "cell_type": "markdown",
   "metadata": {},
   "source": [
    "# 統計モデリング概論 DSHC 2025\n",
    "\n",
    "岩嵜 航 (Watal M. Iwasaki, PhD)<br>\n",
    "東北大学 生命科学研究科 進化ゲノミクス分野 特任助教\n",
    "\n",
    "2025-09-03 東京海上 Data Science Hill Climb<br>\n",
    "https://heavywatal.github.io/slides/dshc2025/\n",
    "\n",
    "## 環境セットアップ\n",
    "\n",
    "Google Colab の場合はインストールから:\n",
    "```py\n",
    "!uv pip install 'matplotlib>=3.10' 'seaborn>=0.13' 'statsmodels>=0.15'\n",
    "```"
   ]
  },
  {
   "cell_type": "code",
   "execution_count": null,
   "metadata": {},
   "outputs": [],
   "source": [
    "%matplotlib inline\n",
    "\n",
    "# 有病率 Pr(I): この地域の感染者の割合; 事前確率\n",
    "prevalence = 0.003\n",
    "\n",
    "# 感度 Pr(P|I): 感染してる人に陽性判定が出る\n",
    "sensitivity = 0.9\n",
    "\n",
    "# 特異度 Pr(¬P|¬I): 感染してない人に陰性判定が出る\n",
    "specificity = 0.99\n",
    "\n",
    "# 周辺確率 Pr(P)\n",
    "p_positive = prevalence * sensitivity + (1 - prevalence) * (1 - specificity)\n",
    "\n",
    "# 陽性適中率 Pr(I|P) (検査陽性の人が実際に感染者である確率)\n",
    "positive_predictive_value = prevalence * sensitivity / p_positive\n",
    "print(positive_predictive_value)"
   ]
  },
  {
   "cell_type": "markdown",
   "metadata": {
    "lines_to_next_cell": 0
   },
   "source": [
    "\n",
    "🔰 同様に陰性的中率 Pr(¬I|¬P) を計算してみよう"
   ]
  },
  {
   "cell_type": "code",
   "execution_count": null,
   "metadata": {},
   "outputs": [],
   "source": [
    "\n",
    "# p_negative =\n",
    "# negative_predictive_value ="
   ]
  },
  {
   "cell_type": "markdown",
   "metadata": {},
   "source": [
    "\n",
    "🔰 計算結果が検査性能だけでなく有病率にも依存することを確認しよう"
   ]
  },
  {
   "cell_type": "code",
   "execution_count": null,
   "metadata": {},
   "outputs": [],
   "source": []
  },
  {
   "cell_type": "code",
   "execution_count": null,
   "metadata": {},
   "outputs": [],
   "source": [
    "\n",
    "# pyright: reportGeneralTypeIssues=false\n",
    "# pyright: reportMissingTypeStubs=false\n",
    "# pyright: reportUnknownMemberType=false"
   ]
  }
 ],
 "metadata": {
  "jupytext": {
   "cell_metadata_filter": "name,-all",
   "main_language": "python",
   "notebook_metadata_filter": "-all"
  }
 },
 "nbformat": 4,
 "nbformat_minor": 5
}
