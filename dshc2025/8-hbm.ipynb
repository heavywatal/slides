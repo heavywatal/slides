{
 "cells": [
  {
   "cell_type": "markdown",
   "metadata": {},
   "source": [
    "# 統計モデリング概論 DSHC 2025\n",
    "\n",
    "岩嵜 航 (Watal M. Iwasaki, PhD)<br>\n",
    "東北大学 生命科学研究科 進化ゲノミクス分野 特任助教\n",
    "\n",
    "2025-09-03 東京海上 Data Science Hill Climb<br>\n",
    "https://heavywatal.github.io/slides/dshc2025/\n",
    "\n",
    "# Stanで階層ベイズモデル(HBM)\n",
    "\n",
    "## 環境セットアップ\n",
    "\n",
    "Google Colab の場合はインストールから:\n",
    "```py\n",
    "!uv pip install 'matplotlib>=3.10' 'seaborn>=0.13' 'statsmodels>=0.15'\n",
    "!uv pip install 'arviz>=0.22' 'cmdstanpy>=1.2.5'\n",
    "import cmdstanpy\n",
    "cmdstanpy.install_cmdstan()\n",
    "```"
   ]
  },
  {
   "cell_type": "code",
   "execution_count": null,
   "metadata": {},
   "outputs": [],
   "source": [
    "%matplotlib inline\n",
    "\n",
    "import sys\n",
    "from pathlib import Path\n",
    "\n",
    "import arviz as az\n",
    "import numpy as np\n",
    "import pandas as pd\n",
    "import seaborn as sns\n",
    "from cmdstanpy import CmdStanModel\n",
    "from scipy import special, stats\n",
    "\n",
    "is_interactive = hasattr(sys, \"ps1\")\n",
    "rng = np.random.default_rng(seed=24601)"
   ]
  },
  {
   "cell_type": "markdown",
   "metadata": {
    "lines_to_next_cell": 0
   },
   "source": [
    "## 階層ベイズモデル\n",
    "\n",
    "### データ準備\n"
   ]
  },
  {
   "cell_type": "code",
   "execution_count": null,
   "metadata": {
    "lines_to_next_cell": 0
   },
   "outputs": [],
   "source": [
    "sample_size = 100\n",
    "mu_ind = 0.5\n",
    "sd_ind = 3\n",
    "z = rng.normal(mu_ind, sd_ind, size=sample_size)\n",
    "p = special.expit(z)\n",
    "y = rng.binomial(8, p)\n",
    "mydata = {\n",
    "    \"N\": sample_size,\n",
    "    \"y\": y,\n",
    "}\n",
    "df_obs = pd.DataFrame({\"z\": z, \"p\": p, \"y\": y})"
   ]
  },
  {
   "cell_type": "code",
   "execution_count": null,
   "metadata": {},
   "outputs": [],
   "source": [
    "sns.histplot(df_obs, x=\"y\", discrete=True, color=\"#333\")"
   ]
  },
  {
   "cell_type": "code",
   "execution_count": null,
   "metadata": {},
   "outputs": [],
   "source": [
    "model = CmdStanModel(stan_file=\"stan/glmm.stan\")"
   ]
  },
  {
   "cell_type": "markdown",
   "metadata": {
    "lines_to_next_cell": 0
   },
   "source": [
    "### MCMCサンプル"
   ]
  },
  {
   "cell_type": "code",
   "execution_count": null,
   "metadata": {},
   "outputs": [],
   "source": [
    "fit = model.sample(mydata, show_progress=is_interactive)"
   ]
  },
  {
   "cell_type": "markdown",
   "metadata": {
    "lines_to_next_cell": 0
   },
   "source": [
    "### 推定結果の要約と収束診断"
   ]
  },
  {
   "cell_type": "code",
   "execution_count": null,
   "metadata": {
    "lines_to_next_cell": 0
   },
   "outputs": [],
   "source": [
    "fit.summary()"
   ]
  },
  {
   "cell_type": "code",
   "execution_count": null,
   "metadata": {},
   "outputs": [],
   "source": [
    "print(fit.diagnose())"
   ]
  },
  {
   "cell_type": "markdown",
   "metadata": {
    "lines_to_next_cell": 0
   },
   "source": [
    "### トレースプロット・事後分布確認"
   ]
  },
  {
   "cell_type": "code",
   "execution_count": null,
   "metadata": {},
   "outputs": [],
   "source": [
    "stan_data = az.from_cmdstanpy(fit, observed_data=mydata)\n",
    "az.plot_trace(stan_data)\n",
    "# az.plot_posterior(stan_data)"
   ]
  },
  {
   "cell_type": "markdown",
   "metadata": {
    "lines_to_next_cell": 0
   },
   "source": [
    "事後分布の平均を使って予測値を描いてみる。"
   ]
  },
  {
   "cell_type": "code",
   "execution_count": null,
   "metadata": {
    "lines_to_next_cell": 0
   },
   "outputs": [],
   "source": [
    "df_p = fit.draws_pd(\"p\")\n",
    "p = np.ravel(df_p)\n",
    "\n",
    "y = np.arange(0, 9)\n",
    "count_exp = []\n",
    "for y_i in y:\n",
    "    freqs = stats.binom.pmf(y_i, 8, p)\n",
    "    count_exp.append(sample_size * np.mean(freqs))\n",
    "\n",
    "df_exp = pd.DataFrame({\"y\": y, \"count\": count_exp})\n",
    "sns.histplot(df_obs, x=\"y\", discrete=True, color=\"#333\")\n",
    "sns.scatterplot(df_exp, x=\"y\", y=\"count\", color=\"#56B4E9\", s=120)"
   ]
  },
  {
   "cell_type": "markdown",
   "metadata": {
    "lines_to_next_cell": 0
   },
   "source": [
    "事後予測分布を描いてみる。"
   ]
  },
  {
   "cell_type": "code",
   "execution_count": null,
   "metadata": {},
   "outputs": [],
   "source": [
    "draws = fit.draws_pd(\"yrep\")\n",
    "yrep = draws.apply(np.bincount, 1)\n",
    "yrep[0:200].apply(sns.scatterplot, color=\"#56B4E9\", alpha=0.05)\n",
    "sns.scatterplot(np.bincount(df_obs[\"y\"]), color=\"black\")"
   ]
  },
  {
   "cell_type": "markdown",
   "metadata": {
    "lines_to_next_cell": 0
   },
   "source": [
    "<hr>\n",
    "\n",
    "### ビール注文数の過分散をStanで\n",
    "\n",
    "まずデータ生成"
   ]
  },
  {
   "cell_type": "code",
   "execution_count": null,
   "metadata": {},
   "outputs": [],
   "source": [
    "sample_size = 300\n",
    "lambda_ = 3\n",
    "overdisp = 4\n",
    "n_ = lambda_ / (overdisp - 1)\n",
    "p_ = 1 / overdisp\n",
    "X = rng.negative_binomial(n_, p_, size=sample_size)\n",
    "df_beer_od = pd.DataFrame({\"X\": X})\n",
    "data_beer_od = {\"X\": X, \"N\": sample_size}\n",
    "sns.histplot(df_beer_od, x=\"X\", discrete=True, color=\"#333\")"
   ]
  },
  {
   "cell_type": "markdown",
   "metadata": {
    "lines_to_next_cell": 0
   },
   "source": [
    "Stanでモデルを記述し、コンパイルして、MCMCサンプリング"
   ]
  },
  {
   "cell_type": "code",
   "execution_count": null,
   "metadata": {},
   "outputs": [],
   "source": [
    "model = CmdStanModel(stan_file=\"stan/beer-od.stan\")\n",
    "fit = model.sample(data_beer_od, show_progress=is_interactive)"
   ]
  },
  {
   "cell_type": "markdown",
   "metadata": {
    "lines_to_next_cell": 0
   },
   "source": [
    "結果を確認"
   ]
  },
  {
   "cell_type": "code",
   "execution_count": null,
   "metadata": {
    "lines_to_next_cell": 0
   },
   "outputs": [],
   "source": [
    "fit.summary()"
   ]
  },
  {
   "cell_type": "code",
   "execution_count": null,
   "metadata": {
    "lines_to_next_cell": 0
   },
   "outputs": [],
   "source": [
    "print(fit.diagnose())"
   ]
  },
  {
   "cell_type": "code",
   "execution_count": null,
   "metadata": {
    "lines_to_next_cell": 0
   },
   "outputs": [],
   "source": [
    "stan_data = az.from_cmdstanpy(fit, observed_data=data_beer_od)"
   ]
  },
  {
   "cell_type": "code",
   "execution_count": null,
   "metadata": {
    "lines_to_next_cell": 0
   },
   "outputs": [],
   "source": [
    "az.plot_trace(stan_data)\n",
    "# az.plot_posterior(stan_data)"
   ]
  },
  {
   "cell_type": "markdown",
   "metadata": {
    "lines_to_next_cell": 0
   },
   "source": [
    "事後予測分布を描いてみる。"
   ]
  },
  {
   "cell_type": "code",
   "execution_count": null,
   "metadata": {
    "lines_to_next_cell": 0
   },
   "outputs": [],
   "source": [
    "draws = fit.draws_pd(\"yrep\")\n",
    "yrep = draws.apply(np.bincount, 1)\n",
    "yrep[0:200].apply(sns.scatterplot, color=\"#56B4E9\", alpha=0.05)\n",
    "sns.scatterplot(np.bincount(X), color=\"black\")"
   ]
  },
  {
   "cell_type": "code",
   "execution_count": null,
   "metadata": {},
   "outputs": [],
   "source": [
    "# pyright: reportGeneralTypeIssues=false\n",
    "# pyright: reportMissingTypeStubs=false\n",
    "# pyright: reportUnknownArgumentType=false\n",
    "# pyright: reportUnknownMemberType=false\n",
    "# pyright: reportUnknownVariableType=false"
   ]
  }
 ],
 "metadata": {
  "jupytext": {
   "cell_metadata_filter": "name,-all",
   "main_language": "python",
   "notebook_metadata_filter": "-all"
  }
 },
 "nbformat": 4,
 "nbformat_minor": 5
}
